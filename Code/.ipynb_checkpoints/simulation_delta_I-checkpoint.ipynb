{
 "cells": [
  {
   "cell_type": "code",
   "execution_count": 1,
   "metadata": {
    "collapsed": true
   },
   "outputs": [],
   "source": [
    "%matplotlib inline"
   ]
  },
  {
   "cell_type": "code",
   "execution_count": 2,
   "metadata": {
    "collapsed": true
   },
   "outputs": [],
   "source": [
    "import numpy as np"
   ]
  },
  {
   "cell_type": "code",
   "execution_count": 3,
   "metadata": {
    "collapsed": true
   },
   "outputs": [],
   "source": [
    "nts = ['A', 'T', 'G', 'C']\n",
    "nseqs = 10000"
   ]
  },
  {
   "cell_type": "code",
   "execution_count": null,
   "metadata": {
    "collapsed": true
   },
   "outputs": [],
   "source": [
    "152 def get_info_theory_init(sequence_dict, randomize=False):\n",
    "153     positional_entropies = []\n",
    "154     matrix = np.array([list(i) for i in sequence_dict.values()])\n",
    "155     if randomize:\n",
    "156         for i in matrix:\n",
    "157             np.random.shuffle(i)\n",
    "158 \n",
    "159     seqs, lengths = np.shape(matrix)\n",
    "160 \n",
    "161     bool_A = matrix == 'A'\n",
    "162     bool_T = matrix == 'T'\n",
    "163     bool_G = matrix == 'G'\n",
    "164     bool_C = matrix == 'C'\n",
    "165 \n",
    "166     A_counts = bool_A.sum(axis=0)\n",
    "167     T_counts = bool_T.sum(axis=0)\n",
    "168     G_counts = bool_G.sum(axis=0)\n",
    "169     C_counts = bool_C.sum(axis=0)\n",
    "170 \n",
    "171     p_A = A_counts/float(seqs)\n",
    "172     p_T = T_counts/float(seqs)\n",
    "173     p_G = G_counts/float(seqs)\n",
    "174     p_C = C_counts/float(seqs)\n",
    "175 \n",
    "176     positional_entropies = np.log2(4) - stats.entropy([p_A, p_T, p_G, p_C], base=2)\n",
    "177 \n",
    "178     return positional_entropies"
   ]
  },
  {
   "cell_type": "markdown",
   "metadata": {},
   "source": [
    "# Random UTRs"
   ]
  },
  {
   "cell_type": "code",
   "execution_count": 77,
   "metadata": {
    "collapsed": false
   },
   "outputs": [
    {
     "data": {
      "text/plain": [
       "(10000, 16)"
      ]
     },
     "execution_count": 77,
     "metadata": {},
     "output_type": "execute_result"
    }
   ],
   "source": [
    "utrs = []\n",
    "for i in range(nseqs):\n",
    "    utrs.append(list(np.random.choice(nts, size=16)))\n",
    "len(utrs), len(utrs[0])"
   ]
  },
  {
   "cell_type": "markdown",
   "metadata": {},
   "source": [
    "# Common xmer, defined position"
   ]
  },
  {
   "cell_type": "code",
   "execution_count": 78,
   "metadata": {
    "collapsed": false
   },
   "outputs": [
    {
     "data": {
      "text/plain": [
       "(10000, 16)"
      ]
     },
     "execution_count": 78,
     "metadata": {},
     "output_type": "execute_result"
    }
   ],
   "source": [
    "xmer = 'AGGAGG'\n",
    "utrs = []\n",
    "for i in range(nseqs):\n",
    "    utrs.append(list(np.random.choice(nts, size=16-len(xmer))) + list(xmer))\n",
    "len(utrs), len(utrs[0])"
   ]
  },
  {
   "cell_type": "markdown",
   "metadata": {},
   "source": [
    "# All things equal, the longer the xmer the stronger the deltaI"
   ]
  },
  {
   "cell_type": "code",
   "execution_count": 79,
   "metadata": {
    "collapsed": false
   },
   "outputs": [
    {
     "name": "stdout",
     "output_type": "stream",
     "text": [
      "10000 16\n",
      "10000 16\n",
      "10000 16\n",
      "10000 16\n",
      "10000 16\n",
      "10000 16\n"
     ]
    }
   ],
   "source": [
    "xmers = ['AGGA', 'AGGAG', 'AGGAGG', 'AAGGAGG', 'AAGGAGGT', 'AAAGGAGGT']\n",
    "for xmer in xmers:\n",
    "    utrs = []\n",
    "    for i in range(nseqs):\n",
    "        utrs.append(list(np.random.choice(nts, size=16-len(xmer))) + list(xmer))\n",
    "    print(len(utrs), len(utrs[0]))"
   ]
  },
  {
   "cell_type": "markdown",
   "metadata": {},
   "source": [
    "# All things equal, the more sequences that contain the motif the stronger the deltaI"
   ]
  },
  {
   "cell_type": "code",
   "execution_count": 80,
   "metadata": {
    "collapsed": false
   },
   "outputs": [],
   "source": [
    "xmer = 'AGGAGG'\n",
    "for prob in np.arange(0, 1.1, 0.1):\n",
    "    utrs = []\n",
    "    for i in range(nseqs):\n",
    "        if np.random.uniform(0, 1) < prob:\n",
    "            utrs.append(list(np.random.choice(nts, size=16-len(xmer))) + list(xmer))\n",
    "        else:\n",
    "            utrs.append(list(np.random.choice(nts, size=16)))\n",
    "    print(prob, len(utrs), len(utrs[0]))"
   ]
  },
  {
   "cell_type": "markdown",
   "metadata": {},
   "source": [
    "# All things equal, the more positionally constrained the motif the stronger the deltaI"
   ]
  },
  {
   "cell_type": "code",
   "execution_count": 81,
   "metadata": {
    "collapsed": false
   },
   "outputs": [],
   "source": [
    "xmer = 'AGGAGG'\n",
    "for position in range(0, 17-len(xmer)):\n",
    "    utrs = []\n",
    "    for i in range(nseqs):\n",
    "        l_counts = int(np.floor(np.random.uniform(position, 17-len(xmer))))\n",
    "        r_counts = 16 - l_counts - len(xmer)\n",
    "        seq = list(np.random.choice(nts, size=l_counts)) + list(xmer) + list(np.random.choice(nts, size=r_counts))\n",
    "        utrs.append(seq)\n",
    "    print(position, len(utrs), len(utrs[0]))"
   ]
  },
  {
   "cell_type": "code",
   "execution_count": null,
   "metadata": {
    "collapsed": true
   },
   "outputs": [],
   "source": []
  },
  {
   "cell_type": "code",
   "execution_count": null,
   "metadata": {
    "collapsed": true
   },
   "outputs": [],
   "source": []
  }
 ],
 "metadata": {
  "kernelspec": {
   "display_name": "Python 3",
   "language": "python",
   "name": "python3"
  },
  "language_info": {
   "codemirror_mode": {
    "name": "ipython",
    "version": 3
   },
   "file_extension": ".py",
   "mimetype": "text/x-python",
   "name": "python",
   "nbconvert_exporter": "python",
   "pygments_lexer": "ipython3",
   "version": "3.4.5"
  },
  "toc": {
   "colors": {
    "hover_highlight": "#DAA520",
    "navigate_num": "#000000",
    "navigate_text": "#333333",
    "running_highlight": "#FF0000",
    "selected_highlight": "#FFD700",
    "sidebar_border": "#EEEEEE",
    "wrapper_background": "#FFFFFF"
   },
   "moveMenuLeft": true,
   "nav_menu": {
    "height": "102px",
    "width": "252px"
   },
   "navigate_menu": true,
   "number_sections": true,
   "sideBar": true,
   "threshold": 4,
   "toc_cell": false,
   "toc_section_display": "block",
   "toc_window_display": false,
   "widenNotebook": false
  }
 },
 "nbformat": 4,
 "nbformat_minor": 0
}
