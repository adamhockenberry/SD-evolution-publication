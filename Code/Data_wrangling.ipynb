{
 "cells": [
  {
   "cell_type": "code",
   "execution_count": 1,
   "metadata": {
    "collapsed": true
   },
   "outputs": [],
   "source": [
    "%matplotlib inline"
   ]
  },
  {
   "cell_type": "code",
   "execution_count": 35,
   "metadata": {
    "collapsed": true
   },
   "outputs": [],
   "source": [
    "import pandas as pd\n",
    "from collections import Counter\n",
    "from Bio import Phylo\n",
    "import copy"
   ]
  },
  {
   "cell_type": "markdown",
   "metadata": {},
   "source": [
    "# Higher order summary statistics of growth rates dataset"
   ]
  },
  {
   "cell_type": "markdown",
   "metadata": {},
   "source": [
    "**Read in dataset**"
   ]
  },
  {
   "cell_type": "code",
   "execution_count": null,
   "metadata": {
    "collapsed": false
   },
   "outputs": [],
   "source": [
    "growth_df = pd.read_csv('../Data/growth_rate_dataset_10_2017.csv', delimiter='\\t', index_col='#Id')\n",
    "print(len(growth_df.index))"
   ]
  },
  {
   "cell_type": "markdown",
   "metadata": {},
   "source": [
    "**Get rid of Archaea**"
   ]
  },
  {
   "cell_type": "code",
   "execution_count": null,
   "metadata": {
    "collapsed": false
   },
   "outputs": [],
   "source": [
    "growth_df = growth_df[growth_df['Full Taxonomy'].str.startswith('Bacteria')==True].copy()\n",
    "print(len(growth_df.index))"
   ]
  },
  {
   "cell_type": "code",
   "execution_count": null,
   "metadata": {
    "collapsed": false
   },
   "outputs": [],
   "source": [
    "growth_df.head()"
   ]
  },
  {
   "cell_type": "markdown",
   "metadata": {},
   "source": [
    "**Calculate a few of the new statistics from the previous columns**"
   ]
  },
  {
   "cell_type": "code",
   "execution_count": null,
   "metadata": {
    "collapsed": true
   },
   "outputs": [],
   "source": [
    "###aSD binding score is the ribosomal protein score relative to all genes\n",
    "growth_df['aSD_binding_summary'] = (growth_df['aSD_binding_score_ribosome'] - growth_df['aSD_binding_score_all']) / growth_df['aSD_binding_score_all']\n",
    "\n",
    "growth_df['folding_energy_init_summary'] = (growth_df['Mean_folding_init_ribo'] - growth_df['Mean_folding_init'])/ growth_df['Mean_folding_init']\n",
    "growth_df['folding_energy_diff_summary'] = (growth_df['Mean_folding_diff_ribo'] - growth_df['Mean_folding_diff'])/ growth_df['Mean_folding_diff']\n",
    "\n",
    "###Codon usage bias score is the ribosomal protein score relative to all genes\n",
    "###Using two methods that perform well (ours=info, novembre=method developed by John Novembre paper)\n",
    "growth_df['NC_summary_info'] = (growth_df['Ribo_NC_info'] - growth_df['All_NC_info']) / growth_df['All_NC_info']\n",
    "growth_df['NC_summary_novembre'] = (growth_df['Ribo_NC_novembre'] - growth_df['All_NC_novembre']) / growth_df['All_NC_novembre']\n",
    "\n",
    "###Delta I score for all genes and ribosomal protein coding genes\n",
    "growth_df['SD_summary_all_info'] = growth_df['Information_content_all(-20_-4)'] - growth_df['Information_content_all_mean_random(-20_-4)']\n",
    "growth_df['SD_summary_ribo_info'] = growth_df['Information_content_ribo(-20_-4)'] - growth_df['Information_content_ribo_mean_random(-20_-4)']\n",
    "\n",
    "###Summary score for \"Traditional\" SD methods, SD gene fraction minus expected SD gene fraction\n",
    "growth_df['SD_summary_all_motif_diff'] = (growth_df['CDS_with_SD_utr_motif']/growth_df['CDS_number']) - (growth_df['Expected_CDS_with_SD_utr_motif']/growth_df['CDS_number'])\n",
    "growth_df['SD_summary_all_binding_diff'] = (growth_df['CDS_with_SD_utr_binding']/growth_df['CDS_number']) - (growth_df['Expected_CDS_with_SD_utr_binding']/growth_df['CDS_number'])"
   ]
  },
  {
   "cell_type": "markdown",
   "metadata": {},
   "source": [
    "**Write new file**"
   ]
  },
  {
   "cell_type": "code",
   "execution_count": null,
   "metadata": {
    "collapsed": true
   },
   "outputs": [],
   "source": [
    "growth_df.to_csv('../Data/growth_rate_dataset_10_2017_EXTENDED.csv', sep='\\t')"
   ]
  },
  {
   "cell_type": "markdown",
   "metadata": {},
   "source": [
    "**And a separate file without Bacteroidetes**"
   ]
  },
  {
   "cell_type": "code",
   "execution_count": null,
   "metadata": {
    "collapsed": false
   },
   "outputs": [],
   "source": [
    "growth_df_no_bacteroidetes = growth_df[growth_df['Full Taxonomy'].str.contains('acteroidetes')==False].copy()\n",
    "print(len(growth_df_no_bacteroidetes.index))"
   ]
  },
  {
   "cell_type": "code",
   "execution_count": null,
   "metadata": {
    "collapsed": true
   },
   "outputs": [],
   "source": [
    "growth_df_no_bacteroidetes.to_csv('../Data/growth_rate_dataset_10_2017_EXTENDED_NO_BACTEROIDETES.csv', sep='\\t')"
   ]
  },
  {
   "cell_type": "code",
   "execution_count": null,
   "metadata": {
    "collapsed": true
   },
   "outputs": [],
   "source": []
  },
  {
   "cell_type": "code",
   "execution_count": null,
   "metadata": {
    "collapsed": true
   },
   "outputs": [],
   "source": []
  },
  {
   "cell_type": "markdown",
   "metadata": {},
   "source": [
    "# Higher order summary statistics for larger dataset"
   ]
  },
  {
   "cell_type": "markdown",
   "metadata": {},
   "source": [
    "**Read in data**"
   ]
  },
  {
   "cell_type": "code",
   "execution_count": 17,
   "metadata": {
    "collapsed": false
   },
   "outputs": [
    {
     "name": "stdout",
     "output_type": "stream",
     "text": [
      "had columns with spaces\n"
     ]
    }
   ],
   "source": [
    "phylo_df = pd.read_table('../Data/full_dataset_revisions_10_2017.csv', sep='\\t', index_col='#Id')\n",
    "\n",
    "###For some reason, people make columns with spaces which is of course a debacle that must be rectified\n",
    "if sum([c.count(' ') for c in phylo_df.columns]) != 0:\n",
    "    phylo_df.columns = [c.replace(' ', '_') for c in phylo_df.columns]\n",
    "    print(\"had columns with spaces\")"
   ]
  },
  {
   "cell_type": "markdown",
   "metadata": {},
   "source": [
    "**Manually inspect and drop some data**"
   ]
  },
  {
   "cell_type": "code",
   "execution_count": 18,
   "metadata": {
    "collapsed": false
   },
   "outputs": [
    {
     "data": {
      "text/html": [
       "<div>\n",
       "<style>\n",
       "    .dataframe thead tr:only-child th {\n",
       "        text-align: right;\n",
       "    }\n",
       "\n",
       "    .dataframe thead th {\n",
       "        text-align: left;\n",
       "    }\n",
       "\n",
       "    .dataframe tbody tr th {\n",
       "        vertical-align: top;\n",
       "    }\n",
       "</style>\n",
       "<table border=\"1\" class=\"dataframe\">\n",
       "  <thead>\n",
       "    <tr style=\"text-align: right;\">\n",
       "      <th></th>\n",
       "      <th>Organism</th>\n",
       "      <th>TaxonID</th>\n",
       "      <th>Full_Taxonomy</th>\n",
       "      <th>Banfield_tree_name</th>\n",
       "      <th>CDS_GC</th>\n",
       "      <th>CDS_GC_nostartstop</th>\n",
       "      <th>Ribo_prot_GC_nostartstop</th>\n",
       "      <th>CDS_number</th>\n",
       "      <th>Intragenic_GC</th>\n",
       "      <th>Gene_density</th>\n",
       "      <th>...</th>\n",
       "      <th>RP_information_zscore</th>\n",
       "      <th>aSD_binding_score_ribosome</th>\n",
       "      <th>aSD_binding_score_all</th>\n",
       "      <th>Internal_SD_seqs</th>\n",
       "      <th>Mean_folding_init</th>\n",
       "      <th>Mean_folding_internal</th>\n",
       "      <th>Mean_folding_diff</th>\n",
       "      <th>Mean_folding_init_ribo</th>\n",
       "      <th>Mean_folding_internal_ribo</th>\n",
       "      <th>Mean_folding_diff_ribo</th>\n",
       "    </tr>\n",
       "    <tr>\n",
       "      <th>#Id</th>\n",
       "      <th></th>\n",
       "      <th></th>\n",
       "      <th></th>\n",
       "      <th></th>\n",
       "      <th></th>\n",
       "      <th></th>\n",
       "      <th></th>\n",
       "      <th></th>\n",
       "      <th></th>\n",
       "      <th></th>\n",
       "      <th></th>\n",
       "      <th></th>\n",
       "      <th></th>\n",
       "      <th></th>\n",
       "      <th></th>\n",
       "      <th></th>\n",
       "      <th></th>\n",
       "      <th></th>\n",
       "      <th></th>\n",
       "      <th></th>\n",
       "      <th></th>\n",
       "    </tr>\n",
       "  </thead>\n",
       "  <tbody>\n",
       "    <tr>\n",
       "      <th>GCA_000093065</th>\n",
       "      <td>Candidatus Riesia pediculicola USDA</td>\n",
       "      <td>515618</td>\n",
       "      <td>Bacteria; Proteobacteria; Gammaproteobacteria;...</td>\n",
       "      <td>Bacteria_Proteobacteria_Gammaproteobacteria_En...</td>\n",
       "      <td>0.296054</td>\n",
       "      <td>0.296395</td>\n",
       "      <td>0.305903</td>\n",
       "      <td>464.0</td>\n",
       "      <td>0.208607</td>\n",
       "      <td>0.820392</td>\n",
       "      <td>...</td>\n",
       "      <td>1.399164</td>\n",
       "      <td>2.608778</td>\n",
       "      <td>2.858529</td>\n",
       "      <td>177.0</td>\n",
       "      <td>-4.528621</td>\n",
       "      <td>-6.543405</td>\n",
       "      <td>2.014784</td>\n",
       "      <td>-4.211538</td>\n",
       "      <td>-6.928846</td>\n",
       "      <td>2.717308</td>\n",
       "    </tr>\n",
       "    <tr>\n",
       "      <th>GCA_000219175</th>\n",
       "      <td>Candidatus Moranella endobia PCIT</td>\n",
       "      <td>903503</td>\n",
       "      <td>Bacteria; Proteobacteria; Gammaproteobacteria;...</td>\n",
       "      <td>Bacteria_Proteobacteria_Gammaproteobacteria_En...</td>\n",
       "      <td>0.452321</td>\n",
       "      <td>0.453570</td>\n",
       "      <td>0.450272</td>\n",
       "      <td>411.0</td>\n",
       "      <td>0.434766</td>\n",
       "      <td>0.807620</td>\n",
       "      <td>...</td>\n",
       "      <td>3.374380</td>\n",
       "      <td>1.808119</td>\n",
       "      <td>2.339969</td>\n",
       "      <td>47.0</td>\n",
       "      <td>-7.323961</td>\n",
       "      <td>-11.166846</td>\n",
       "      <td>3.842885</td>\n",
       "      <td>-7.646154</td>\n",
       "      <td>-11.583462</td>\n",
       "      <td>3.937308</td>\n",
       "    </tr>\n",
       "    <tr>\n",
       "      <th>GCA_000441555</th>\n",
       "      <td>Candidatus Profftella armatura</td>\n",
       "      <td>669502</td>\n",
       "      <td>Bacteria; Proteobacteria; Betaproteobacteria; ...</td>\n",
       "      <td>Bacteria_Proteobacteria_Betaproteobacteria_unc...</td>\n",
       "      <td>0.252415</td>\n",
       "      <td>0.252791</td>\n",
       "      <td>0.283813</td>\n",
       "      <td>347.0</td>\n",
       "      <td>0.119577</td>\n",
       "      <td>0.892542</td>\n",
       "      <td>...</td>\n",
       "      <td>-0.386534</td>\n",
       "      <td>2.182660</td>\n",
       "      <td>2.343993</td>\n",
       "      <td>67.0</td>\n",
       "      <td>-3.430174</td>\n",
       "      <td>-5.978783</td>\n",
       "      <td>2.548609</td>\n",
       "      <td>-3.878846</td>\n",
       "      <td>-6.188462</td>\n",
       "      <td>2.309615</td>\n",
       "    </tr>\n",
       "  </tbody>\n",
       "</table>\n",
       "<p>3 rows × 50 columns</p>\n",
       "</div>"
      ],
      "text/plain": [
       "                                          Organism  TaxonID  \\\n",
       "#Id                                                           \n",
       "GCA_000093065  Candidatus Riesia pediculicola USDA   515618   \n",
       "GCA_000219175    Candidatus Moranella endobia PCIT   903503   \n",
       "GCA_000441555       Candidatus Profftella armatura   669502   \n",
       "\n",
       "                                                   Full_Taxonomy  \\\n",
       "#Id                                                                \n",
       "GCA_000093065  Bacteria; Proteobacteria; Gammaproteobacteria;...   \n",
       "GCA_000219175  Bacteria; Proteobacteria; Gammaproteobacteria;...   \n",
       "GCA_000441555  Bacteria; Proteobacteria; Betaproteobacteria; ...   \n",
       "\n",
       "                                              Banfield_tree_name    CDS_GC  \\\n",
       "#Id                                                                          \n",
       "GCA_000093065  Bacteria_Proteobacteria_Gammaproteobacteria_En...  0.296054   \n",
       "GCA_000219175  Bacteria_Proteobacteria_Gammaproteobacteria_En...  0.452321   \n",
       "GCA_000441555  Bacteria_Proteobacteria_Betaproteobacteria_unc...  0.252415   \n",
       "\n",
       "               CDS_GC_nostartstop  Ribo_prot_GC_nostartstop  CDS_number  \\\n",
       "#Id                                                                       \n",
       "GCA_000093065            0.296395                  0.305903       464.0   \n",
       "GCA_000219175            0.453570                  0.450272       411.0   \n",
       "GCA_000441555            0.252791                  0.283813       347.0   \n",
       "\n",
       "               Intragenic_GC  Gene_density           ...            \\\n",
       "#Id                                                  ...             \n",
       "GCA_000093065       0.208607      0.820392           ...             \n",
       "GCA_000219175       0.434766      0.807620           ...             \n",
       "GCA_000441555       0.119577      0.892542           ...             \n",
       "\n",
       "               RP_information_zscore  aSD_binding_score_ribosome  \\\n",
       "#Id                                                                \n",
       "GCA_000093065               1.399164                    2.608778   \n",
       "GCA_000219175               3.374380                    1.808119   \n",
       "GCA_000441555              -0.386534                    2.182660   \n",
       "\n",
       "               aSD_binding_score_all  Internal_SD_seqs  Mean_folding_init  \\\n",
       "#Id                                                                         \n",
       "GCA_000093065               2.858529             177.0          -4.528621   \n",
       "GCA_000219175               2.339969              47.0          -7.323961   \n",
       "GCA_000441555               2.343993              67.0          -3.430174   \n",
       "\n",
       "               Mean_folding_internal  Mean_folding_diff  \\\n",
       "#Id                                                       \n",
       "GCA_000093065              -6.543405           2.014784   \n",
       "GCA_000219175             -11.166846           3.842885   \n",
       "GCA_000441555              -5.978783           2.548609   \n",
       "\n",
       "               Mean_folding_init_ribo  Mean_folding_internal_ribo  \\\n",
       "#Id                                                                 \n",
       "GCA_000093065               -4.211538                   -6.928846   \n",
       "GCA_000219175               -7.646154                  -11.583462   \n",
       "GCA_000441555               -3.878846                   -6.188462   \n",
       "\n",
       "               Mean_folding_diff_ribo  \n",
       "#Id                                    \n",
       "GCA_000093065                2.717308  \n",
       "GCA_000219175                3.937308  \n",
       "GCA_000441555                2.309615  \n",
       "\n",
       "[3 rows x 50 columns]"
      ]
     },
     "execution_count": 18,
     "metadata": {},
     "output_type": "execute_result"
    }
   ],
   "source": [
    "###Any one with realllllly tiny genomes?\n",
    "phylo_df[phylo_df['CDS_number'] <= 500]"
   ]
  },
  {
   "cell_type": "code",
   "execution_count": 19,
   "metadata": {
    "collapsed": false
   },
   "outputs": [
    {
     "data": {
      "text/html": [
       "<div>\n",
       "<style>\n",
       "    .dataframe thead tr:only-child th {\n",
       "        text-align: right;\n",
       "    }\n",
       "\n",
       "    .dataframe thead th {\n",
       "        text-align: left;\n",
       "    }\n",
       "\n",
       "    .dataframe tbody tr th {\n",
       "        vertical-align: top;\n",
       "    }\n",
       "</style>\n",
       "<table border=\"1\" class=\"dataframe\">\n",
       "  <thead>\n",
       "    <tr style=\"text-align: right;\">\n",
       "      <th></th>\n",
       "      <th>Organism</th>\n",
       "      <th>TaxonID</th>\n",
       "      <th>Full_Taxonomy</th>\n",
       "      <th>Banfield_tree_name</th>\n",
       "      <th>CDS_GC</th>\n",
       "      <th>CDS_GC_nostartstop</th>\n",
       "      <th>Ribo_prot_GC_nostartstop</th>\n",
       "      <th>CDS_number</th>\n",
       "      <th>Intragenic_GC</th>\n",
       "      <th>Gene_density</th>\n",
       "      <th>...</th>\n",
       "      <th>RP_information_zscore</th>\n",
       "      <th>aSD_binding_score_ribosome</th>\n",
       "      <th>aSD_binding_score_all</th>\n",
       "      <th>Internal_SD_seqs</th>\n",
       "      <th>Mean_folding_init</th>\n",
       "      <th>Mean_folding_internal</th>\n",
       "      <th>Mean_folding_diff</th>\n",
       "      <th>Mean_folding_init_ribo</th>\n",
       "      <th>Mean_folding_internal_ribo</th>\n",
       "      <th>Mean_folding_diff_ribo</th>\n",
       "    </tr>\n",
       "    <tr>\n",
       "      <th>#Id</th>\n",
       "      <th></th>\n",
       "      <th></th>\n",
       "      <th></th>\n",
       "      <th></th>\n",
       "      <th></th>\n",
       "      <th></th>\n",
       "      <th></th>\n",
       "      <th></th>\n",
       "      <th></th>\n",
       "      <th></th>\n",
       "      <th></th>\n",
       "      <th></th>\n",
       "      <th></th>\n",
       "      <th></th>\n",
       "      <th></th>\n",
       "      <th></th>\n",
       "      <th></th>\n",
       "      <th></th>\n",
       "      <th></th>\n",
       "      <th></th>\n",
       "      <th></th>\n",
       "    </tr>\n",
       "  </thead>\n",
       "  <tbody>\n",
       "    <tr>\n",
       "      <th>GCA_000210735</th>\n",
       "      <td>Faecalibacterium prausnitzii L2-6</td>\n",
       "      <td>718252</td>\n",
       "      <td>Bacteria; Firmicutes; Clostridia; Clostridiale...</td>\n",
       "      <td>Bacteria_Firmicutes_Clostridia_Clostridiales_R...</td>\n",
       "      <td>0.585890</td>\n",
       "      <td>0.588214</td>\n",
       "      <td>0.594929</td>\n",
       "      <td>2756.0</td>\n",
       "      <td>0.527245</td>\n",
       "      <td>0.716427</td>\n",
       "      <td>...</td>\n",
       "      <td>5.831106</td>\n",
       "      <td>2.537646</td>\n",
       "      <td>3.342250</td>\n",
       "      <td>849.0</td>\n",
       "      <td>-9.067978</td>\n",
       "      <td>-16.141271</td>\n",
       "      <td>7.073293</td>\n",
       "      <td>-7.837736</td>\n",
       "      <td>-15.973585</td>\n",
       "      <td>8.135849</td>\n",
       "    </tr>\n",
       "    <tr>\n",
       "      <th>GCA_000209815</th>\n",
       "      <td>Butyrivibrio fibrisolvens 16/4</td>\n",
       "      <td>657324</td>\n",
       "      <td>Bacteria; Firmicutes; Clostridia; Clostridiale...</td>\n",
       "      <td>Bacteria_Firmicutes_Clostridia_Clostridiales_L...</td>\n",
       "      <td>0.392122</td>\n",
       "      <td>0.393274</td>\n",
       "      <td>0.427456</td>\n",
       "      <td>2904.0</td>\n",
       "      <td>0.362914</td>\n",
       "      <td>0.758636</td>\n",
       "      <td>...</td>\n",
       "      <td>4.089214</td>\n",
       "      <td>2.358450</td>\n",
       "      <td>2.975419</td>\n",
       "      <td>717.0</td>\n",
       "      <td>-6.212705</td>\n",
       "      <td>-9.871553</td>\n",
       "      <td>3.658848</td>\n",
       "      <td>-6.308000</td>\n",
       "      <td>-11.168000</td>\n",
       "      <td>4.860000</td>\n",
       "    </tr>\n",
       "  </tbody>\n",
       "</table>\n",
       "<p>2 rows × 50 columns</p>\n",
       "</div>"
      ],
      "text/plain": [
       "                                        Organism  TaxonID  \\\n",
       "#Id                                                         \n",
       "GCA_000210735  Faecalibacterium prausnitzii L2-6   718252   \n",
       "GCA_000209815     Butyrivibrio fibrisolvens 16/4   657324   \n",
       "\n",
       "                                                   Full_Taxonomy  \\\n",
       "#Id                                                                \n",
       "GCA_000210735  Bacteria; Firmicutes; Clostridia; Clostridiale...   \n",
       "GCA_000209815  Bacteria; Firmicutes; Clostridia; Clostridiale...   \n",
       "\n",
       "                                              Banfield_tree_name    CDS_GC  \\\n",
       "#Id                                                                          \n",
       "GCA_000210735  Bacteria_Firmicutes_Clostridia_Clostridiales_R...  0.585890   \n",
       "GCA_000209815  Bacteria_Firmicutes_Clostridia_Clostridiales_L...  0.392122   \n",
       "\n",
       "               CDS_GC_nostartstop  Ribo_prot_GC_nostartstop  CDS_number  \\\n",
       "#Id                                                                       \n",
       "GCA_000210735            0.588214                  0.594929      2756.0   \n",
       "GCA_000209815            0.393274                  0.427456      2904.0   \n",
       "\n",
       "               Intragenic_GC  Gene_density           ...            \\\n",
       "#Id                                                  ...             \n",
       "GCA_000210735       0.527245      0.716427           ...             \n",
       "GCA_000209815       0.362914      0.758636           ...             \n",
       "\n",
       "               RP_information_zscore  aSD_binding_score_ribosome  \\\n",
       "#Id                                                                \n",
       "GCA_000210735               5.831106                    2.537646   \n",
       "GCA_000209815               4.089214                    2.358450   \n",
       "\n",
       "               aSD_binding_score_all  Internal_SD_seqs  Mean_folding_init  \\\n",
       "#Id                                                                         \n",
       "GCA_000210735               3.342250             849.0          -9.067978   \n",
       "GCA_000209815               2.975419             717.0          -6.212705   \n",
       "\n",
       "               Mean_folding_internal  Mean_folding_diff  \\\n",
       "#Id                                                       \n",
       "GCA_000210735             -16.141271           7.073293   \n",
       "GCA_000209815              -9.871553           3.658848   \n",
       "\n",
       "               Mean_folding_init_ribo  Mean_folding_internal_ribo  \\\n",
       "#Id                                                                 \n",
       "GCA_000210735               -7.837736                  -15.973585   \n",
       "GCA_000209815               -6.308000                  -11.168000   \n",
       "\n",
       "               Mean_folding_diff_ribo  \n",
       "#Id                                    \n",
       "GCA_000210735                8.135849  \n",
       "GCA_000209815                4.860000  \n",
       "\n",
       "[2 rows x 50 columns]"
      ]
     },
     "execution_count": 19,
     "metadata": {},
     "output_type": "execute_result"
    }
   ],
   "source": [
    "###Anyone that doesn't have ribosomes? Because that's kind of bad\n",
    "phylo_df[phylo_df['16s_copies'] == 0]"
   ]
  },
  {
   "cell_type": "code",
   "execution_count": 20,
   "metadata": {
    "collapsed": false
   },
   "outputs": [
    {
     "data": {
      "text/html": [
       "<div>\n",
       "<style>\n",
       "    .dataframe thead tr:only-child th {\n",
       "        text-align: right;\n",
       "    }\n",
       "\n",
       "    .dataframe thead th {\n",
       "        text-align: left;\n",
       "    }\n",
       "\n",
       "    .dataframe tbody tr th {\n",
       "        vertical-align: top;\n",
       "    }\n",
       "</style>\n",
       "<table border=\"1\" class=\"dataframe\">\n",
       "  <thead>\n",
       "    <tr style=\"text-align: right;\">\n",
       "      <th></th>\n",
       "      <th>Organism</th>\n",
       "      <th>TaxonID</th>\n",
       "      <th>Full_Taxonomy</th>\n",
       "      <th>Banfield_tree_name</th>\n",
       "      <th>CDS_GC</th>\n",
       "      <th>CDS_GC_nostartstop</th>\n",
       "      <th>Ribo_prot_GC_nostartstop</th>\n",
       "      <th>CDS_number</th>\n",
       "      <th>Intragenic_GC</th>\n",
       "      <th>Gene_density</th>\n",
       "      <th>...</th>\n",
       "      <th>RP_information_zscore</th>\n",
       "      <th>aSD_binding_score_ribosome</th>\n",
       "      <th>aSD_binding_score_all</th>\n",
       "      <th>Internal_SD_seqs</th>\n",
       "      <th>Mean_folding_init</th>\n",
       "      <th>Mean_folding_internal</th>\n",
       "      <th>Mean_folding_diff</th>\n",
       "      <th>Mean_folding_init_ribo</th>\n",
       "      <th>Mean_folding_internal_ribo</th>\n",
       "      <th>Mean_folding_diff_ribo</th>\n",
       "    </tr>\n",
       "    <tr>\n",
       "      <th>#Id</th>\n",
       "      <th></th>\n",
       "      <th></th>\n",
       "      <th></th>\n",
       "      <th></th>\n",
       "      <th></th>\n",
       "      <th></th>\n",
       "      <th></th>\n",
       "      <th></th>\n",
       "      <th></th>\n",
       "      <th></th>\n",
       "      <th></th>\n",
       "      <th></th>\n",
       "      <th></th>\n",
       "      <th></th>\n",
       "      <th></th>\n",
       "      <th></th>\n",
       "      <th></th>\n",
       "      <th></th>\n",
       "      <th></th>\n",
       "      <th></th>\n",
       "      <th></th>\n",
       "    </tr>\n",
       "  </thead>\n",
       "  <tbody>\n",
       "  </tbody>\n",
       "</table>\n",
       "<p>0 rows × 50 columns</p>\n",
       "</div>"
      ],
      "text/plain": [
       "Empty DataFrame\n",
       "Columns: [Organism, TaxonID, Full_Taxonomy, Banfield_tree_name, CDS_GC, CDS_GC_nostartstop, Ribo_prot_GC_nostartstop, CDS_number, Intragenic_GC, Gene_density, Coding_density, Genome_length, Intragenic_length, CDS_length, tRNA_number, All_NC_wright, All_NC_novembre, All_NC_info, Ribo_NC_wright, Ribo_NC_novembre, Ribo_NC_info, Ribo_prot_number, Information_content_all(-20_-4), Information_content_ribo(-20_-4), Information_content_all_mean_random(-20_-4), Information_content_ribo_mean_random(-20_-4), Mean_binding_all, Mean_binding_ribo, Mean_binding_all_mean_random, Mean_binding_ribo_mean_random, Location_of_best_binding_all, Location_of_best_binding_ribo, ATG_start_percent, 16s_copies, 23s_copies, CDS_with_SD_utr_motif, Expected_CDS_with_SD_utr_motif, CDS_with_SD_utr_binding, Expected_CDS_with_SD_utr_binding, RP_information_percentile, RP_information_zscore, aSD_binding_score_ribosome, aSD_binding_score_all, Internal_SD_seqs, Mean_folding_init, Mean_folding_internal, Mean_folding_diff, Mean_folding_init_ribo, Mean_folding_internal_ribo, Mean_folding_diff_ribo]\n",
       "Index: []\n",
       "\n",
       "[0 rows x 50 columns]"
      ]
     },
     "execution_count": 20,
     "metadata": {},
     "output_type": "execute_result"
    }
   ],
   "source": [
    "###Any truly ridiculous GC contents?\n",
    "phylo_df[(phylo_df['CDS_GC'] < 0.2) | (phylo_df['CDS_GC'] > 0.8)]"
   ]
  },
  {
   "cell_type": "code",
   "execution_count": 21,
   "metadata": {
    "collapsed": false
   },
   "outputs": [
    {
     "data": {
      "text/html": [
       "<div>\n",
       "<style>\n",
       "    .dataframe thead tr:only-child th {\n",
       "        text-align: right;\n",
       "    }\n",
       "\n",
       "    .dataframe thead th {\n",
       "        text-align: left;\n",
       "    }\n",
       "\n",
       "    .dataframe tbody tr th {\n",
       "        vertical-align: top;\n",
       "    }\n",
       "</style>\n",
       "<table border=\"1\" class=\"dataframe\">\n",
       "  <thead>\n",
       "    <tr style=\"text-align: right;\">\n",
       "      <th></th>\n",
       "      <th>Organism</th>\n",
       "      <th>TaxonID</th>\n",
       "      <th>Full_Taxonomy</th>\n",
       "      <th>Banfield_tree_name</th>\n",
       "      <th>CDS_GC</th>\n",
       "      <th>CDS_GC_nostartstop</th>\n",
       "      <th>Ribo_prot_GC_nostartstop</th>\n",
       "      <th>CDS_number</th>\n",
       "      <th>Intragenic_GC</th>\n",
       "      <th>Gene_density</th>\n",
       "      <th>...</th>\n",
       "      <th>RP_information_zscore</th>\n",
       "      <th>aSD_binding_score_ribosome</th>\n",
       "      <th>aSD_binding_score_all</th>\n",
       "      <th>Internal_SD_seqs</th>\n",
       "      <th>Mean_folding_init</th>\n",
       "      <th>Mean_folding_internal</th>\n",
       "      <th>Mean_folding_diff</th>\n",
       "      <th>Mean_folding_init_ribo</th>\n",
       "      <th>Mean_folding_internal_ribo</th>\n",
       "      <th>Mean_folding_diff_ribo</th>\n",
       "    </tr>\n",
       "    <tr>\n",
       "      <th>#Id</th>\n",
       "      <th></th>\n",
       "      <th></th>\n",
       "      <th></th>\n",
       "      <th></th>\n",
       "      <th></th>\n",
       "      <th></th>\n",
       "      <th></th>\n",
       "      <th></th>\n",
       "      <th></th>\n",
       "      <th></th>\n",
       "      <th></th>\n",
       "      <th></th>\n",
       "      <th></th>\n",
       "      <th></th>\n",
       "      <th></th>\n",
       "      <th></th>\n",
       "      <th></th>\n",
       "      <th></th>\n",
       "      <th></th>\n",
       "      <th></th>\n",
       "      <th></th>\n",
       "    </tr>\n",
       "  </thead>\n",
       "  <tbody>\n",
       "  </tbody>\n",
       "</table>\n",
       "<p>0 rows × 50 columns</p>\n",
       "</div>"
      ],
      "text/plain": [
       "Empty DataFrame\n",
       "Columns: [Organism, TaxonID, Full_Taxonomy, Banfield_tree_name, CDS_GC, CDS_GC_nostartstop, Ribo_prot_GC_nostartstop, CDS_number, Intragenic_GC, Gene_density, Coding_density, Genome_length, Intragenic_length, CDS_length, tRNA_number, All_NC_wright, All_NC_novembre, All_NC_info, Ribo_NC_wright, Ribo_NC_novembre, Ribo_NC_info, Ribo_prot_number, Information_content_all(-20_-4), Information_content_ribo(-20_-4), Information_content_all_mean_random(-20_-4), Information_content_ribo_mean_random(-20_-4), Mean_binding_all, Mean_binding_ribo, Mean_binding_all_mean_random, Mean_binding_ribo_mean_random, Location_of_best_binding_all, Location_of_best_binding_ribo, ATG_start_percent, 16s_copies, 23s_copies, CDS_with_SD_utr_motif, Expected_CDS_with_SD_utr_motif, CDS_with_SD_utr_binding, Expected_CDS_with_SD_utr_binding, RP_information_percentile, RP_information_zscore, aSD_binding_score_ribosome, aSD_binding_score_all, Internal_SD_seqs, Mean_folding_init, Mean_folding_internal, Mean_folding_diff, Mean_folding_init_ribo, Mean_folding_internal_ribo, Mean_folding_diff_ribo]\n",
       "Index: []\n",
       "\n",
       "[0 rows x 50 columns]"
      ]
     },
     "execution_count": 21,
     "metadata": {},
     "output_type": "execute_result"
    }
   ],
   "source": [
    "###Any with ridiculously high/low coding sequence density calculations?\n",
    "phylo_df[(phylo_df['Coding_density'] < 0.5) | (phylo_df['Coding_density'] > 0.99)]"
   ]
  },
  {
   "cell_type": "code",
   "execution_count": 22,
   "metadata": {
    "collapsed": false
   },
   "outputs": [
    {
     "data": {
      "text/html": [
       "<div>\n",
       "<style>\n",
       "    .dataframe thead tr:only-child th {\n",
       "        text-align: right;\n",
       "    }\n",
       "\n",
       "    .dataframe thead th {\n",
       "        text-align: left;\n",
       "    }\n",
       "\n",
       "    .dataframe tbody tr th {\n",
       "        vertical-align: top;\n",
       "    }\n",
       "</style>\n",
       "<table border=\"1\" class=\"dataframe\">\n",
       "  <thead>\n",
       "    <tr style=\"text-align: right;\">\n",
       "      <th></th>\n",
       "      <th>Organism</th>\n",
       "      <th>TaxonID</th>\n",
       "      <th>Full_Taxonomy</th>\n",
       "      <th>Banfield_tree_name</th>\n",
       "      <th>CDS_GC</th>\n",
       "      <th>CDS_GC_nostartstop</th>\n",
       "      <th>Ribo_prot_GC_nostartstop</th>\n",
       "      <th>CDS_number</th>\n",
       "      <th>Intragenic_GC</th>\n",
       "      <th>Gene_density</th>\n",
       "      <th>...</th>\n",
       "      <th>RP_information_zscore</th>\n",
       "      <th>aSD_binding_score_ribosome</th>\n",
       "      <th>aSD_binding_score_all</th>\n",
       "      <th>Internal_SD_seqs</th>\n",
       "      <th>Mean_folding_init</th>\n",
       "      <th>Mean_folding_internal</th>\n",
       "      <th>Mean_folding_diff</th>\n",
       "      <th>Mean_folding_init_ribo</th>\n",
       "      <th>Mean_folding_internal_ribo</th>\n",
       "      <th>Mean_folding_diff_ribo</th>\n",
       "    </tr>\n",
       "    <tr>\n",
       "      <th>#Id</th>\n",
       "      <th></th>\n",
       "      <th></th>\n",
       "      <th></th>\n",
       "      <th></th>\n",
       "      <th></th>\n",
       "      <th></th>\n",
       "      <th></th>\n",
       "      <th></th>\n",
       "      <th></th>\n",
       "      <th></th>\n",
       "      <th></th>\n",
       "      <th></th>\n",
       "      <th></th>\n",
       "      <th></th>\n",
       "      <th></th>\n",
       "      <th></th>\n",
       "      <th></th>\n",
       "      <th></th>\n",
       "      <th></th>\n",
       "      <th></th>\n",
       "      <th></th>\n",
       "    </tr>\n",
       "  </thead>\n",
       "  <tbody>\n",
       "  </tbody>\n",
       "</table>\n",
       "<p>0 rows × 50 columns</p>\n",
       "</div>"
      ],
      "text/plain": [
       "Empty DataFrame\n",
       "Columns: [Organism, TaxonID, Full_Taxonomy, Banfield_tree_name, CDS_GC, CDS_GC_nostartstop, Ribo_prot_GC_nostartstop, CDS_number, Intragenic_GC, Gene_density, Coding_density, Genome_length, Intragenic_length, CDS_length, tRNA_number, All_NC_wright, All_NC_novembre, All_NC_info, Ribo_NC_wright, Ribo_NC_novembre, Ribo_NC_info, Ribo_prot_number, Information_content_all(-20_-4), Information_content_ribo(-20_-4), Information_content_all_mean_random(-20_-4), Information_content_ribo_mean_random(-20_-4), Mean_binding_all, Mean_binding_ribo, Mean_binding_all_mean_random, Mean_binding_ribo_mean_random, Location_of_best_binding_all, Location_of_best_binding_ribo, ATG_start_percent, 16s_copies, 23s_copies, CDS_with_SD_utr_motif, Expected_CDS_with_SD_utr_motif, CDS_with_SD_utr_binding, Expected_CDS_with_SD_utr_binding, RP_information_percentile, RP_information_zscore, aSD_binding_score_ribosome, aSD_binding_score_all, Internal_SD_seqs, Mean_folding_init, Mean_folding_internal, Mean_folding_diff, Mean_folding_init_ribo, Mean_folding_internal_ribo, Mean_folding_diff_ribo]\n",
       "Index: []\n",
       "\n",
       "[0 rows x 50 columns]"
      ]
     },
     "execution_count": 22,
     "metadata": {},
     "output_type": "execute_result"
    }
   ],
   "source": [
    "###Any with ridiculously high / low nubmers of ribosomal protein coding genes?\n",
    "phylo_df[(phylo_df['Ribo_prot_number'] < 30) |(phylo_df['Ribo_prot_number'] > 100) ]"
   ]
  },
  {
   "cell_type": "code",
   "execution_count": 23,
   "metadata": {
    "collapsed": false
   },
   "outputs": [
    {
     "data": {
      "text/html": [
       "<div>\n",
       "<style>\n",
       "    .dataframe thead tr:only-child th {\n",
       "        text-align: right;\n",
       "    }\n",
       "\n",
       "    .dataframe thead th {\n",
       "        text-align: left;\n",
       "    }\n",
       "\n",
       "    .dataframe tbody tr th {\n",
       "        vertical-align: top;\n",
       "    }\n",
       "</style>\n",
       "<table border=\"1\" class=\"dataframe\">\n",
       "  <thead>\n",
       "    <tr style=\"text-align: right;\">\n",
       "      <th></th>\n",
       "      <th>Organism</th>\n",
       "      <th>TaxonID</th>\n",
       "      <th>Full_Taxonomy</th>\n",
       "      <th>Banfield_tree_name</th>\n",
       "      <th>CDS_GC</th>\n",
       "      <th>CDS_GC_nostartstop</th>\n",
       "      <th>Ribo_prot_GC_nostartstop</th>\n",
       "      <th>CDS_number</th>\n",
       "      <th>Intragenic_GC</th>\n",
       "      <th>Gene_density</th>\n",
       "      <th>...</th>\n",
       "      <th>RP_information_zscore</th>\n",
       "      <th>aSD_binding_score_ribosome</th>\n",
       "      <th>aSD_binding_score_all</th>\n",
       "      <th>Internal_SD_seqs</th>\n",
       "      <th>Mean_folding_init</th>\n",
       "      <th>Mean_folding_internal</th>\n",
       "      <th>Mean_folding_diff</th>\n",
       "      <th>Mean_folding_init_ribo</th>\n",
       "      <th>Mean_folding_internal_ribo</th>\n",
       "      <th>Mean_folding_diff_ribo</th>\n",
       "    </tr>\n",
       "    <tr>\n",
       "      <th>#Id</th>\n",
       "      <th></th>\n",
       "      <th></th>\n",
       "      <th></th>\n",
       "      <th></th>\n",
       "      <th></th>\n",
       "      <th></th>\n",
       "      <th></th>\n",
       "      <th></th>\n",
       "      <th></th>\n",
       "      <th></th>\n",
       "      <th></th>\n",
       "      <th></th>\n",
       "      <th></th>\n",
       "      <th></th>\n",
       "      <th></th>\n",
       "      <th></th>\n",
       "      <th></th>\n",
       "      <th></th>\n",
       "      <th></th>\n",
       "      <th></th>\n",
       "      <th></th>\n",
       "    </tr>\n",
       "  </thead>\n",
       "  <tbody>\n",
       "  </tbody>\n",
       "</table>\n",
       "<p>0 rows × 50 columns</p>\n",
       "</div>"
      ],
      "text/plain": [
       "Empty DataFrame\n",
       "Columns: [Organism, TaxonID, Full_Taxonomy, Banfield_tree_name, CDS_GC, CDS_GC_nostartstop, Ribo_prot_GC_nostartstop, CDS_number, Intragenic_GC, Gene_density, Coding_density, Genome_length, Intragenic_length, CDS_length, tRNA_number, All_NC_wright, All_NC_novembre, All_NC_info, Ribo_NC_wright, Ribo_NC_novembre, Ribo_NC_info, Ribo_prot_number, Information_content_all(-20_-4), Information_content_ribo(-20_-4), Information_content_all_mean_random(-20_-4), Information_content_ribo_mean_random(-20_-4), Mean_binding_all, Mean_binding_ribo, Mean_binding_all_mean_random, Mean_binding_ribo_mean_random, Location_of_best_binding_all, Location_of_best_binding_ribo, ATG_start_percent, 16s_copies, 23s_copies, CDS_with_SD_utr_motif, Expected_CDS_with_SD_utr_motif, CDS_with_SD_utr_binding, Expected_CDS_with_SD_utr_binding, RP_information_percentile, RP_information_zscore, aSD_binding_score_ribosome, aSD_binding_score_all, Internal_SD_seqs, Mean_folding_init, Mean_folding_internal, Mean_folding_diff, Mean_folding_init_ribo, Mean_folding_internal_ribo, Mean_folding_diff_ribo]\n",
       "Index: []\n",
       "\n",
       "[0 rows x 50 columns]"
      ]
     },
     "execution_count": 23,
     "metadata": {},
     "output_type": "execute_result"
    }
   ],
   "source": [
    "###Any with ridiculously high / low nubmers of tRNA genes?\n",
    "phylo_df[(phylo_df['tRNA_number'] < 20) | (phylo_df['tRNA_number'] > 200)]"
   ]
  },
  {
   "cell_type": "code",
   "execution_count": 24,
   "metadata": {
    "collapsed": true
   },
   "outputs": [],
   "source": [
    "####Get rid of folks who abjectly failed any of the above tests\n",
    "phylo_df = phylo_df.drop('GCA_000210415') #This guy is all NaN\n",
    "phylo_df = phylo_df.drop('GCA_000093065') #Low CDS number\n",
    "phylo_df = phylo_df.drop('GCA_000219175') #Low CDS number\n",
    "phylo_df = phylo_df.drop('GCA_000441555') #Low CDS number\n",
    "phylo_df = phylo_df.drop('GCA_000210735') #No 16s copies found\n",
    "phylo_df = phylo_df.drop('GCA_000209815') #No 16s copies found"
   ]
  },
  {
   "cell_type": "markdown",
   "metadata": {},
   "source": [
    "**Add in some summary statistics**\n",
    "\n",
    "This should be a function since it's a copy/paste of the corresponding cell in growth rates with `growth_df` changed to `phylo_df`"
   ]
  },
  {
   "cell_type": "code",
   "execution_count": 25,
   "metadata": {
    "collapsed": true
   },
   "outputs": [],
   "source": [
    "\n",
    "###aSD binding score is the ribosomal protein score relative to all genes\n",
    "phylo_df['aSD_binding_summary'] = (phylo_df['aSD_binding_score_ribosome'] - phylo_df['aSD_binding_score_all']) / phylo_df['aSD_binding_score_all']\n",
    "\n",
    "phylo_df['folding_energy_init_summary'] = (phylo_df['Mean_folding_init_ribo'] - phylo_df['Mean_folding_init'])/ phylo_df['Mean_folding_init']\n",
    "phylo_df['folding_energy_diff_summary'] = (phylo_df['Mean_folding_diff_ribo'] - phylo_df['Mean_folding_diff'])/ phylo_df['Mean_folding_diff']\n",
    "\n",
    "###Codon usage bias score is the ribosomal protein score relative to all genes\n",
    "###Using two methods that perform well (ours=info, novembre=method developed by John Novembre paper)\n",
    "phylo_df['NC_summary_info'] = (phylo_df['Ribo_NC_info'] - phylo_df['All_NC_info']) / phylo_df['All_NC_info']\n",
    "phylo_df['NC_summary_novembre'] = (phylo_df['Ribo_NC_novembre'] - phylo_df['All_NC_novembre']) / phylo_df['All_NC_novembre']\n",
    "\n",
    "###Delta I score for all genes and ribosomal protein coding genes\n",
    "phylo_df['SD_summary_all_info'] = phylo_df['Information_content_all(-20_-4)'] - phylo_df['Information_content_all_mean_random(-20_-4)']\n",
    "phylo_df['SD_summary_ribo_info'] = phylo_df['Information_content_ribo(-20_-4)'] - phylo_df['Information_content_ribo_mean_random(-20_-4)']\n",
    "\n",
    "###Summary score for \"Traditional\" SD methods, SD gene fraction minus expected SD gene fraction\n",
    "phylo_df['SD_summary_all_motif_diff'] = (phylo_df['CDS_with_SD_utr_motif']/phylo_df['CDS_number']) - (phylo_df['Expected_CDS_with_SD_utr_motif']/phylo_df['CDS_number'])\n",
    "phylo_df['SD_summary_all_binding_diff'] = (phylo_df['CDS_with_SD_utr_binding']/phylo_df['CDS_number']) - (phylo_df['Expected_CDS_with_SD_utr_binding']/phylo_df['CDS_number'])"
   ]
  },
  {
   "cell_type": "markdown",
   "metadata": {},
   "source": [
    "**Manually inspect Counter to decide on some subsets to analyze**"
   ]
  },
  {
   "cell_type": "code",
   "execution_count": 26,
   "metadata": {
    "collapsed": true
   },
   "outputs": [],
   "source": [
    "phylo_df['Domain'] = phylo_df.Banfield_tree_name.apply(lambda x: x.split('_')[0])\n",
    "phylo_df['Phylum'] = phylo_df.Banfield_tree_name.apply(lambda x: x.split('_')[1])\n",
    "phylo_df['Class'] = phylo_df.Banfield_tree_name.apply(lambda x: x.split('_')[2])"
   ]
  },
  {
   "cell_type": "code",
   "execution_count": 30,
   "metadata": {
    "collapsed": false
   },
   "outputs": [
    {
     "name": "stdout",
     "output_type": "stream",
     "text": [
      "Counter({'Bacteria': 619, 'Archaea': 82})\n",
      "#####\n",
      "Counter({'Proteobacteria': 264, 'Firmicutes': 80, 'Actinobacteria': 78, 'Bacteroidetes': 63, 'Euryarchaeota': 56, 'Cyanobacteria': 29, 'Crenarchaeota': 20, 'Chlamydiae': 11, 'Chloroflexi': 10, 'Thermotogae': 8, 'Tenericutes': 8, 'Aquificae': 8, 'Spirochaetes': 7, 'Deinococcus': 6, 'FibrobacteresAcidobacteria': 6, 'Planctomycetes': 6, 'CPR': 5, 'Fusobacteria': 4, 'Thaumarchaeota': 4, 'Deferribacteres': 4, 'Synergistetes': 4, 'Thermodesulfobacteria': 3, 'Nitrospirae': 3, 'CP': 3, 'Elusimicrobia': 2, 'Dictyoglomi': 2, 'Armatimonadetes': 2, 'Gemmatimonadetes': 1, 'Nanoarchaeota': 1, 'Chrysiogenetes': 1, 'Caldiserica': 1, 'Korarchaeota': 1})\n"
     ]
    }
   ],
   "source": [
    "print(Counter(phylo_df['Domain']))\n",
    "print('#####')\n",
    "print(Counter(phylo_df['Phylum']))"
   ]
  },
  {
   "cell_type": "markdown",
   "metadata": {},
   "source": [
    "**Write some independent sets of data**"
   ]
  },
  {
   "cell_type": "code",
   "execution_count": 38,
   "metadata": {
    "collapsed": true
   },
   "outputs": [],
   "source": [
    "def trim_via_clade(df, tree):\n",
    "    '''\n",
    "    Restrictions need to be a tuple/list with 2 elements:\n",
    "    \n",
    "    (Column_name_to_select, Value_to_select_for_that_column)\n",
    "    \n",
    "    '''\n",
    "    restricted_tree = copy.deepcopy(tree)\n",
    "    restricted_df = df.copy(deep=True)\n",
    "    \n",
    "    names_list = list(restricted_df['Banfield_tree_name'])\n",
    "\n",
    "    print('Leaves in tree (unique names)', len([i.name for i in restricted_tree.get_terminals()]),\\\n",
    "          len(list(set([i.name for i in restricted_tree.get_terminals()]))))\n",
    "\n",
    "    ###Get rid of any entries in the tree that aren't in the dataframe\n",
    "    for leaf in restricted_tree.get_terminals():\n",
    "        if leaf.name not in names_list:\n",
    "            restricted_tree.prune(leaf.name)\n",
    "            \n",
    "    ###Re-name the leaf names so that they match dataframe indices\n",
    "    for leaf in restricted_tree.get_terminals():\n",
    "        old_name = str(leaf.name)\n",
    "        for i in restricted_df.index:\n",
    "            if restricted_df.loc[i]['Banfield_tree_name'] == old_name:\n",
    "                leaf.name = i\n",
    "        if old_name == leaf.name:\n",
    "            print('Something buggy here, go back and investigate')\n",
    "\n",
    "    print('New number of leaves in tree (unique names)', len([i.name for i in restricted_tree.get_terminals()]),\\\n",
    "          len(list(set([i.name for i in restricted_tree.get_terminals()]))))\n",
    "\n",
    "    print('Entries in dataframe (uniquely named entries)', len(restricted_df.index),\\\n",
    "          len(list(set(list(restricted_df.index)))))\n",
    "\n",
    "    ###Get rid of any entries in the dataframe that aren't in the tree now\n",
    "    to_drop = []\n",
    "    for i in restricted_df.index:\n",
    "        if i not in [j.name for j in restricted_tree.get_terminals()]:\n",
    "            to_drop.append(i)\n",
    "    restricted_df = restricted_df.drop(to_drop)\n",
    "    print('Final dataset size', len(restricted_df.index))\n",
    "\n",
    "    return restricted_df, restricted_tree"
   ]
  },
  {
   "cell_type": "code",
   "execution_count": 39,
   "metadata": {
    "collapsed": false
   },
   "outputs": [
    {
     "name": "stdout",
     "output_type": "stream",
     "text": [
      "#####('Domain', 'Bacteria')\n",
      "Leaves in tree (unique names) 3083 3083\n",
      "New number of leaves in tree (unique names) 613 613\n",
      "Entries in dataframe (uniquely named entries) 619 619\n",
      "Final dataset size 613\n",
      "#####('Domain', 'Archaea')\n",
      "Leaves in tree (unique names) 3083 3083\n",
      "New number of leaves in tree (unique names) 82 82\n",
      "Entries in dataframe (uniquely named entries) 82 82\n",
      "Final dataset size 82\n",
      "#####('Phylum', 'Euryarchaeota')\n",
      "Leaves in tree (unique names) 3083 3083\n",
      "New number of leaves in tree (unique names) 56 56\n",
      "Entries in dataframe (uniquely named entries) 56 56\n",
      "Final dataset size 56\n",
      "#####('Phylum', 'Proteobacteria')\n",
      "Leaves in tree (unique names) 3083 3083\n",
      "New number of leaves in tree (unique names) 264 264\n",
      "Entries in dataframe (uniquely named entries) 264 264\n",
      "Final dataset size 264\n",
      "#####('Phylum', 'Chlamydiae')\n",
      "Leaves in tree (unique names) 3083 3083\n",
      "New number of leaves in tree (unique names) 11 11\n",
      "Entries in dataframe (uniquely named entries) 11 11\n",
      "Final dataset size 11\n",
      "#####('Phylum', 'Bacteroidetes')\n",
      "Leaves in tree (unique names) 3083 3083\n",
      "New number of leaves in tree (unique names) 63 63\n",
      "Entries in dataframe (uniquely named entries) 63 63\n",
      "Final dataset size 63\n",
      "#####('Phylum', 'Firmicutes')\n",
      "Leaves in tree (unique names) 3083 3083\n",
      "New number of leaves in tree (unique names) 80 80\n",
      "Entries in dataframe (uniquely named entries) 80 80\n",
      "Final dataset size 80\n",
      "#####('Phylum', 'Cyanobacteria')\n",
      "Leaves in tree (unique names) 3083 3083\n",
      "New number of leaves in tree (unique names) 29 29\n",
      "Entries in dataframe (uniquely named entries) 29 29\n",
      "Final dataset size 29\n",
      "#####('Phylum', 'Actinobacteria')\n",
      "Leaves in tree (unique names) 3083 3083\n",
      "New number of leaves in tree (unique names) 78 78\n",
      "Entries in dataframe (uniquely named entries) 78 78\n",
      "Final dataset size 78\n"
     ]
    }
   ],
   "source": [
    "###This is the newick tree directly from the iTol publication\n",
    "tree = Phylo.read('../Data/nmicrobiol201648-s6.txt', 'newick')\n",
    "\n",
    "###Based on looking at the above info here is what I decided to analyze independently\n",
    "independent_sets = [('Domain', 'Bacteria'),\\\n",
    "                    ('Domain', 'Archaea'),\\\n",
    "                    ('Phylum', 'Euryarchaeota'),\\\n",
    "                    ('Phylum', 'Proteobacteria'),\\\n",
    "                    ('Phylum', 'Chlamydiae'),\\\n",
    "                    ('Phylum', 'Bacteroidetes'),\\\n",
    "                    ('Phylum', 'Firmicutes'),\\\n",
    "                    ('Phylum', 'Cyanobacteria'),\\\n",
    "                    ('Phylum', 'Actinobacteria')]\n",
    "\n",
    "\n",
    "for restriction in independent_sets:\n",
    "    print('#####{}'.format(restriction))\n",
    "    temp_df = phylo_df[phylo_df[restriction[0]] == restriction[1]]\n",
    "    temp_df, temp_tree = trim_via_clade(temp_df, tree)\n",
    "    Phylo.write(temp_tree, '../Data/Pruned_tree_{}_{}_10_2017.newick'.format(restriction[0], restriction[1]), 'newick')\n",
    "    temp_df.to_csv('../Data/Pruned_df_{}_{}_10_2017.csv'.format(restriction[0], restriction[1]), sep='\\t')"
   ]
  },
  {
   "cell_type": "code",
   "execution_count": null,
   "metadata": {
    "collapsed": true
   },
   "outputs": [],
   "source": []
  },
  {
   "cell_type": "markdown",
   "metadata": {},
   "source": [
    "# Merging temperature dataset"
   ]
  },
  {
   "cell_type": "code",
   "execution_count": 42,
   "metadata": {
    "collapsed": true
   },
   "outputs": [],
   "source": [
    "####Two Different levels of stringency\n",
    "df_phenotypes = pd.read_csv('../Data/ProTraits_binaryIntegratedPr0.90.txt', sep='\\t')\n",
    "# df_phenotypes = pd.read_csv('../Data/ProTraits_binaryIntegratedPr0.95.txt', sep='\\t')\n",
    "\n",
    "###Convert names\n",
    "df_phenotypes['Tax_ID'] = df_phenotypes['Tax_ID'].astype(str)"
   ]
  },
  {
   "cell_type": "code",
   "execution_count": 43,
   "metadata": {
    "collapsed": false
   },
   "outputs": [
    {
     "name": "stdout",
     "output_type": "stream",
     "text": [
      "613\n"
     ]
    }
   ],
   "source": [
    "df = pd.read_table('../Data/Pruned_df_Domain_Bacteria_10_2017.csv', sep='\\t')\n",
    "df['TaxonID'] = df['TaxonID'].astype(str)\n",
    "print(len(df.index))"
   ]
  },
  {
   "cell_type": "markdown",
   "metadata": {},
   "source": [
    "**Rather sloppily (this could/should(?) be done more elegantly as a merge)  get the taxon id's that are matched between the two df's and create a new column in the phenotype df to put these matching ones in**"
   ]
  },
  {
   "cell_type": "code",
   "execution_count": 44,
   "metadata": {
    "collapsed": true
   },
   "outputs": [],
   "source": [
    "df_phenotypes['New_TaxonID'] = ''\n",
    "\n",
    "df_phenotype_dicty = {}\n",
    "for index in df_phenotypes.index:\n",
    "    df_phenotype_dicty[str(df_phenotypes.loc[index]['Tax_ID'])] = df_phenotypes.loc[index]['Organism_name']\n",
    "\n",
    "df_dicty = {}\n",
    "for index in df.index:\n",
    "    df_dicty[str(df.loc[index]['TaxonID'])] = df.loc[index]['Organism']\n",
    "\n",
    "    \n",
    "hits = []\n",
    "for i in df_dicty.keys():\n",
    "    if i in df_phenotype_dicty.keys():\n",
    "        hits.append(i)\n",
    "\n",
    "for index in df_phenotypes.index:\n",
    "    if df_phenotypes.loc[index]['Tax_ID'] in hits:\n",
    "        df_phenotypes.set_value(index, 'New_TaxonID', df_phenotypes.loc[index]['Tax_ID'])"
   ]
  },
  {
   "cell_type": "code",
   "execution_count": 45,
   "metadata": {
    "collapsed": false
   },
   "outputs": [
    {
     "name": "stdout",
     "output_type": "stream",
     "text": [
      "57\n"
     ]
    }
   ],
   "source": [
    "temp_df = pd.merge(df, df_phenotypes, how='inner', left_on='TaxonID', right_on='New_TaxonID')\n",
    "print(len(temp_df.index))"
   ]
  },
  {
   "cell_type": "markdown",
   "metadata": {},
   "source": [
    "**Dig deeper matching Genus/Species/XXX pairs**"
   ]
  },
  {
   "cell_type": "code",
   "execution_count": 46,
   "metadata": {
    "collapsed": true
   },
   "outputs": [],
   "source": [
    "listy = []\n",
    "for i in list(df_dicty.values()):\n",
    "    if len(i.split(' ')) >= 3:\n",
    "        listy.append(' '.join(i.split(' ')[:3]))\n",
    "counter_dict = Counter(listy)\n",
    "\n",
    "\n",
    "df_dicty_rev = {}\n",
    "for index in df.index:\n",
    "    if len(df.loc[index]['Organism'].split(' ')) >= 3:\n",
    "        if counter_dict[' '.join(df.loc[index]['Organism'].split(' ')[:3])] == 1:\n",
    "            df_dicty_rev[' '.join(df.loc[index]['Organism'].split(' ')[:3])] = str(df.loc[index]['TaxonID'])\n",
    "\n",
    "for trunc_name in list(counter_dict.keys()):\n",
    "    if counter_dict[trunc_name] == 1 and '(' not in trunc_name:\n",
    "        found = []\n",
    "        if len(df_phenotypes[df_phenotypes['Organism_name'].str.contains(trunc_name)].index) > 0:\n",
    "            for index in df_phenotypes[df_phenotypes['Organism_name'].str.contains(trunc_name)].index:\n",
    "                if trunc_name in df_phenotypes.loc[index]['Organism_name']:\n",
    "                    found.append(index)\n",
    "            if len(found) == 1 and df_phenotypes.loc[found[0]]['New_TaxonID'] == '':\n",
    "                df_phenotypes.set_value(found[0], 'New_TaxonID', str(df_dicty_rev[trunc_name]))"
   ]
  },
  {
   "cell_type": "code",
   "execution_count": 47,
   "metadata": {
    "collapsed": false
   },
   "outputs": [
    {
     "name": "stdout",
     "output_type": "stream",
     "text": [
      "74\n"
     ]
    }
   ],
   "source": [
    "temp_df = pd.merge(df, df_phenotypes, how='inner', left_on='TaxonID', right_on='New_TaxonID')\n",
    "print(len(temp_df.index))"
   ]
  },
  {
   "cell_type": "markdown",
   "metadata": {},
   "source": [
    "**Now just grab Genus/Species pairs**"
   ]
  },
  {
   "cell_type": "code",
   "execution_count": 49,
   "metadata": {
    "collapsed": true
   },
   "outputs": [],
   "source": [
    "listy = []\n",
    "for i in list(df_dicty.values()):\n",
    "    listy.append(' '.join(i.split(' ')[:2]))\n",
    "counter_dict = Counter(listy)\n",
    "\n",
    "\n",
    "df_dicty_rev = {}\n",
    "for index in df.index:\n",
    "    if counter_dict[' '.join(df.loc[index]['Organism'].split(' ')[:2])] == 1:\n",
    "        df_dicty_rev[' '.join(df.loc[index]['Organism'].split(' ')[:2])] = str(df.loc[index]['TaxonID'])\n",
    "\n",
    "for trunc_name in list(counter_dict.keys()):\n",
    "    if counter_dict[trunc_name] == 1:\n",
    "        found = []\n",
    "        for index in df_phenotypes[df_phenotypes['Organism_name'].str.contains(trunc_name)].index:\n",
    "            if trunc_name in df_phenotypes.loc[index]['Organism_name']:\n",
    "                found.append(index)\n",
    "        if len(found) == 1 and df_phenotypes.loc[found[0]]['New_TaxonID'] == '':\n",
    "            df_phenotypes.set_value(found[0], 'New_TaxonID', str(df_dicty_rev[trunc_name]))"
   ]
  },
  {
   "cell_type": "code",
   "execution_count": 50,
   "metadata": {
    "collapsed": false
   },
   "outputs": [
    {
     "name": "stdout",
     "output_type": "stream",
     "text": [
      "549\n"
     ]
    }
   ],
   "source": [
    "temp_df = pd.merge(df, df_phenotypes, how='inner', left_on='TaxonID', right_on='New_TaxonID')\n",
    "print(len(temp_df.index))"
   ]
  },
  {
   "cell_type": "markdown",
   "metadata": {},
   "source": [
    "**Call it a solid days work and merge everything**"
   ]
  },
  {
   "cell_type": "code",
   "execution_count": 52,
   "metadata": {
    "collapsed": true
   },
   "outputs": [],
   "source": [
    "combined_df = pd.merge(df, df_phenotypes, how='inner', left_on='TaxonID', right_on='New_TaxonID')\n",
    "combined_df.set_index(combined_df['#Id'], inplace=True)\n",
    "combined_df.drop('#Id', axis=1, inplace=True)"
   ]
  },
  {
   "cell_type": "code",
   "execution_count": 53,
   "metadata": {
    "collapsed": false
   },
   "outputs": [
    {
     "name": "stdout",
     "output_type": "stream",
     "text": [
      "3046 613 549\n"
     ]
    }
   ],
   "source": [
    "print(len(df_phenotypes.index), len(df.index), len(combined_df.index))"
   ]
  },
  {
   "cell_type": "markdown",
   "metadata": {},
   "source": [
    "**Get the temperature variables**"
   ]
  },
  {
   "cell_type": "code",
   "execution_count": 55,
   "metadata": {
    "collapsed": false
   },
   "outputs": [
    {
     "name": "stdout",
     "output_type": "stream",
     "text": [
      "413\n",
      "68\n",
      "Counter({'mesophiles': 413, 'thermophiles': 68})\n"
     ]
    }
   ],
   "source": [
    "print(len(combined_df[combined_df['temperaturerange=mesophilic'] == '1'].index))\n",
    "print(len(combined_df[combined_df['temperaturerange=thermophilic'] == '1'].index))\n",
    "temp_df = combined_df[(combined_df['temperaturerange=mesophilic'] == '1') ^ (combined_df['temperaturerange=thermophilic'] == '1')].copy()\n",
    "temp_df['temperature'] = ''\n",
    "for index in temp_df.index:\n",
    "    if temp_df.loc[index]['temperaturerange=mesophilic'] == '1':\n",
    "        temp_df.set_value(index, 'temperature', 'mesophiles')\n",
    "    elif temp_df.loc[index]['temperaturerange=thermophilic'] == '1':\n",
    "        temp_df.set_value(index, 'temperature', 'thermophiles')\n",
    "    else:\n",
    "        print(\"Well, this is certainly an unexpected occurrence\")\n",
    "\n",
    "print(Counter(temp_df['temperature']))\n",
    "\n",
    "temp_df.to_csv('../Data/Pruned_df_Domain_Bacteria_10_2017_WITH_PROTRAITS_TEMPERATURES.csv', sep='\\t')"
   ]
  },
  {
   "cell_type": "markdown",
   "metadata": {},
   "source": [
    "**Habitat variables**"
   ]
  },
  {
   "cell_type": "code",
   "execution_count": 56,
   "metadata": {
    "collapsed": false
   },
   "outputs": [
    {
     "name": "stdout",
     "output_type": "stream",
     "text": [
      "356\n",
      "114\n",
      "Counter({'free': 353, 'host': 111})\n"
     ]
    }
   ],
   "source": [
    "print(len(combined_df[combined_df['habitat=freeliving'] == '1'].index))\n",
    "print(len(combined_df[combined_df['habitat=hostassociated'] == '1'].index))\n",
    "temp_df = combined_df[(combined_df['habitat=freeliving'] == '1') ^ (combined_df['habitat=hostassociated'] == '1')].copy()\n",
    "\n",
    "temp_df['habitat'] = ''\n",
    "for index in temp_df.index:\n",
    "    if temp_df.loc[index]['habitat=freeliving'] == '1':\n",
    "        temp_df.set_value(index, 'habitat', 'free')\n",
    "    elif temp_df.loc[index]['habitat=hostassociated'] == '1':\n",
    "        temp_df.set_value(index, 'habitat', 'host')\n",
    "\n",
    "print(Counter(temp_df['habitat']))\n",
    "\n",
    "\n",
    "temp_df.to_csv('../Data/Pruned_df_Domain_Bacteria_10_2017_WITH_PROTRAITS_HABITAT.csv', sep='\\t')"
   ]
  },
  {
   "cell_type": "code",
   "execution_count": 57,
   "metadata": {
    "collapsed": false
   },
   "outputs": [
    {
     "name": "stdout",
     "output_type": "stream",
     "text": [
      "1\n",
      "75\n",
      "12\n",
      "499\n",
      "Counter({'No': 411, 'Yes': 88})\n"
     ]
    }
   ],
   "source": [
    "print(len(combined_df[combined_df['pathogenic_in_fish'] == '1'].index))\n",
    "print(len(combined_df[combined_df['pathogenic_in_mammals'] == '1'].index))\n",
    "print(len(combined_df[combined_df['pathogenic_in_plants'] == '1'].index))\n",
    "\n",
    "temp_df = combined_df\n",
    "temp_df['pathogen'] = ''\n",
    "for index in temp_df.index:\n",
    "    listy = [temp_df.loc[index]['pathogenic_in_fish'],\\\n",
    "        temp_df.loc[index]['pathogenic_in_mammals'],\\\n",
    "        temp_df.loc[index]['pathogenic_in_plants']]\n",
    "    if listy.count('?') == 3:\n",
    "        temp_df.set_value(index, 'pathogen', '?')\n",
    "    elif listy.count('1') > 0:\n",
    "        temp_df.set_value(index, 'pathogen', 'Yes')\n",
    "    else:\n",
    "        temp_df.set_value(index, 'pathogen', 'No')\n",
    "\n",
    "temp_df = temp_df[temp_df['pathogen'] != '?']\n",
    "print(len(temp_df.index))\n",
    "print(Counter(temp_df['pathogen']))\n",
    "temp_df.to_csv('../Data/Pruned_df_Domain_Bacteria_10_2017_WITH_PROTRAITS_PATHOGEN.csv', sep='\\t')"
   ]
  },
  {
   "cell_type": "code",
   "execution_count": 61,
   "metadata": {
    "collapsed": false
   },
   "outputs": [
    {
     "name": "stdout",
     "output_type": "stream",
     "text": [
      "motility\n",
      "(sporeform,gramposit,nonmotil,motil,rodshap)\n",
      "(glide,motil,motor,pigment,pathogen)\n",
      "(nonpathogen,blight,fire,shoot,motil)\n",
      "(virul,pathogen,highli,econom,motil)\n",
      "(anox,sediment,ground,nonmotil,reclassifi)\n",
      "(bioluminesc,gramneg,nonmotil,reliabl,biodegrad)\n",
      "(faec,nonsporeform,nonmotil,gramneg,rodshap)\n",
      "(gramposit,motil,sporeform,whippl,multisystem)\n"
     ]
    }
   ],
   "source": [
    "for i in combined_df.columns:\n",
    "    if i.find('motil') != -1:\n",
    "        print(i)"
   ]
  },
  {
   "cell_type": "code",
   "execution_count": 66,
   "metadata": {
    "collapsed": false
   },
   "outputs": [
    {
     "data": {
      "text/plain": [
       "Counter({'0': 9, '1': 12, '?': 528})"
      ]
     },
     "execution_count": 66,
     "metadata": {},
     "output_type": "execute_result"
    }
   ],
   "source": [
    "Counter(combined_df['mobility'])"
   ]
  },
  {
   "cell_type": "code",
   "execution_count": 64,
   "metadata": {
    "collapsed": false
   },
   "outputs": [
    {
     "data": {
      "text/plain": [
       "#Id\n",
       "GCA_000010525    ?\n",
       "GCA_000143885    0\n",
       "GCA_000503875    ?\n",
       "GCA_000695975    ?\n",
       "GCA_000009085    ?\n",
       "GCA_000430105    ?\n",
       "GCA_000013805    1\n",
       "GCA_000016685    0\n",
       "GCA_000015965    ?\n",
       "GCA_000465255    0\n",
       "GCA_000010245    1\n",
       "GCA_000009605    ?\n",
       "GCA_000348585    1\n",
       "GCA_000007325    0\n",
       "GCA_000359505    ?\n",
       "GCA_000011945    0\n",
       "GCA_000025985    0\n",
       "GCA_000014085    ?\n",
       "GCA_000632905    ?\n",
       "GCA_000012805    ?\n",
       "GCA_000009125    ?\n",
       "GCA_000013745    ?\n",
       "GCA_000063605    0\n",
       "GCA_000238175    ?\n",
       "GCA_000010085    ?\n",
       "GCA_000010045    ?\n",
       "GCA_000014385    0\n",
       "GCA_000019885    ?\n",
       "GCA_000018265    0\n",
       "GCA_000018665    ?\n",
       "                ..\n",
       "GCA_000739375    ?\n",
       "GCA_000740455    ?\n",
       "GCA_000743955    1\n",
       "GCA_000750195    ?\n",
       "GCA_000750515    0\n",
       "GCA_000754275    ?\n",
       "GCA_000310245    ?\n",
       "GCA_000597785    ?\n",
       "GCA_000495935    ?\n",
       "GCA_000224005    ?\n",
       "GCA_000243115    ?\n",
       "GCA_000242935    ?\n",
       "GCA_000286435    ?\n",
       "GCA_000328765    ?\n",
       "GCA_000146025    ?\n",
       "GCA_000973625    ?\n",
       "GCA_000340565    ?\n",
       "GCA_001042695    0\n",
       "GCA_001042675    0\n",
       "GCA_000508285    ?\n",
       "GCA_000723785    ?\n",
       "GCA_000320385    ?\n",
       "GCA_001281545    ?\n",
       "GCA_001304795    ?\n",
       "GCA_000967305    ?\n",
       "GCA_001465855    ?\n",
       "GCA_001481655    ?\n",
       "GCA_000321415    ?\n",
       "GCA_001484065    ?\n",
       "GCA_000604065    ?\n",
       "Name: motility, Length: 549, dtype: object"
      ]
     },
     "execution_count": 64,
     "metadata": {},
     "output_type": "execute_result"
    }
   ],
   "source": [
    "combined_df['motility']"
   ]
  },
  {
   "cell_type": "code",
   "execution_count": null,
   "metadata": {
    "collapsed": true
   },
   "outputs": [],
   "source": []
  }
 ],
 "metadata": {
  "kernelspec": {
   "display_name": "Python 3",
   "language": "python",
   "name": "python3"
  },
  "language_info": {
   "codemirror_mode": {
    "name": "ipython",
    "version": 3
   },
   "file_extension": ".py",
   "mimetype": "text/x-python",
   "name": "python",
   "nbconvert_exporter": "python",
   "pygments_lexer": "ipython3",
   "version": "3.4.5"
  },
  "toc": {
   "colors": {
    "hover_highlight": "#DAA520",
    "navigate_num": "#000000",
    "navigate_text": "#333333",
    "running_highlight": "#FF0000",
    "selected_highlight": "#FFD700",
    "sidebar_border": "#EEEEEE",
    "wrapper_background": "#FFFFFF"
   },
   "moveMenuLeft": true,
   "nav_menu": {
    "height": "66px",
    "width": "252px"
   },
   "navigate_menu": true,
   "number_sections": true,
   "sideBar": true,
   "threshold": 4,
   "toc_cell": false,
   "toc_section_display": "block",
   "toc_window_display": false,
   "widenNotebook": false
  }
 },
 "nbformat": 4,
 "nbformat_minor": 0
}
