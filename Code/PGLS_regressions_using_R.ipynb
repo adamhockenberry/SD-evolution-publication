{
 "cells": [
  {
   "cell_type": "code",
   "execution_count": 1,
   "metadata": {
    "collapsed": false
   },
   "outputs": [
    {
     "name": "stderr",
     "output_type": "stream",
     "text": [
      "Loading required package: ape\n",
      "Warning message:\n",
      ": package ‘ape’ was built under R version 3.2.5Loading required package: MASS\n",
      "Loading required package: mvtnorm\n"
     ]
    }
   ],
   "source": [
    "library(\"caper\")"
   ]
  },
  {
   "cell_type": "markdown",
   "metadata": {},
   "source": [
    "# Analysis of growth rate dataset"
   ]
  },
  {
   "cell_type": "markdown",
   "metadata": {},
   "source": [
    "**Read in the datasets**"
   ]
  },
  {
   "cell_type": "code",
   "execution_count": 179,
   "metadata": {
    "collapsed": false
   },
   "outputs": [],
   "source": [
    "#########Growth rate analysis\n",
    "data_table <-read.csv('../Data/growth_rate_dataset_10_2017_EXTENDED.csv', sep='\\t')\n",
    "# data_table <-read.csv('../Data/growth_rate_dataset_10_2017_EXTENDED_NO_BACTEROIDETES.csv', sep='\\t')\n",
    "data_tree <-read.tree('../Data/growth_rates_RAxML.newick')\n",
    "\n",
    "\n",
    "####Test 2 more metrics\n",
    "data_table['I_diff_rp'] <- data_table['Information_content_ribo..20_.4.'] - data_table['Information_content_all..20_.4.']\n",
    "data_table['deltaI_diff_rp'] <- data_table['SD_summary_ribo_info'] - data_table['SD_summary_all_info']\n",
    "\n",
    "\n",
    "\n",
    "data_comparative <- comparative.data(phy = data_tree, data = data_table,\n",
    "                                    names.col = X.Id, vcv = FALSE, na.omit = FALSE, warn.dropped = TRUE)"
   ]
  },
  {
   "cell_type": "code",
   "execution_count": 180,
   "metadata": {
    "collapsed": false
   },
   "outputs": [
    {
     "data": {
      "text/html": [
       "<ol class=list-inline>\n",
       "\t<li>'X.Id'</li>\n",
       "\t<li>'Organism'</li>\n",
       "\t<li>'TaxonID'</li>\n",
       "\t<li>'Full.Taxonomy'</li>\n",
       "\t<li>'Doubling.Time'</li>\n",
       "\t<li>'CDS_GC'</li>\n",
       "\t<li>'CDS_GC_nostartstop'</li>\n",
       "\t<li>'Ribo_prot_GC_nostartstop'</li>\n",
       "\t<li>'CDS_number'</li>\n",
       "\t<li>'Intragenic_GC'</li>\n",
       "\t<li>'Gene_density'</li>\n",
       "\t<li>'Coding_density'</li>\n",
       "\t<li>'Genome_length'</li>\n",
       "\t<li>'Intragenic_length'</li>\n",
       "\t<li>'CDS_length'</li>\n",
       "\t<li>'tRNA_number'</li>\n",
       "\t<li>'All_NC_wright'</li>\n",
       "\t<li>'All_NC_novembre'</li>\n",
       "\t<li>'All_NC_info'</li>\n",
       "\t<li>'Ribo_NC_wright'</li>\n",
       "\t<li>'Ribo_NC_novembre'</li>\n",
       "\t<li>'Ribo_NC_info'</li>\n",
       "\t<li>'Ribo_prot_number'</li>\n",
       "\t<li>'Information_content_all..20_.4.'</li>\n",
       "\t<li>'Information_content_ribo..20_.4.'</li>\n",
       "\t<li>'Information_content_all_mean_random..20_.4.'</li>\n",
       "\t<li>'Information_content_ribo_mean_random..20_.4.'</li>\n",
       "\t<li>'Mean_binding_all'</li>\n",
       "\t<li>'Mean_binding_ribo'</li>\n",
       "\t<li>'Mean_binding_all_mean_random'</li>\n",
       "\t<li>'Mean_binding_ribo_mean_random'</li>\n",
       "\t<li>'Location_of_best_binding_all'</li>\n",
       "\t<li>'Location_of_best_binding_ribo'</li>\n",
       "\t<li>'ATG_start_percent'</li>\n",
       "\t<li>'X16s_copies'</li>\n",
       "\t<li>'X23s_copies'</li>\n",
       "\t<li>'CDS_with_SD_utr_motif'</li>\n",
       "\t<li>'Expected_CDS_with_SD_utr_motif'</li>\n",
       "\t<li>'CDS_with_SD_utr_binding'</li>\n",
       "\t<li>'Expected_CDS_with_SD_utr_binding'</li>\n",
       "\t<li>'RP_information_percentile'</li>\n",
       "\t<li>'RP_information_zscore'</li>\n",
       "\t<li>'aSD_binding_score_ribosome'</li>\n",
       "\t<li>'aSD_binding_score_all'</li>\n",
       "\t<li>'Internal_SD_seqs'</li>\n",
       "\t<li>'Mean_folding_init'</li>\n",
       "\t<li>'Mean_folding_internal'</li>\n",
       "\t<li>'Mean_folding_diff'</li>\n",
       "\t<li>'Mean_folding_init_ribo'</li>\n",
       "\t<li>'Mean_folding_internal_ribo'</li>\n",
       "\t<li>'Mean_folding_diff_ribo'</li>\n",
       "\t<li>'aSD_binding_summary'</li>\n",
       "\t<li>'folding_energy_init_summary'</li>\n",
       "\t<li>'folding_energy_diff_summary'</li>\n",
       "\t<li>'NC_summary_info'</li>\n",
       "\t<li>'NC_summary_novembre'</li>\n",
       "\t<li>'SD_summary_all_info'</li>\n",
       "\t<li>'SD_summary_ribo_info'</li>\n",
       "\t<li>'SD_summary_all_motif_diff'</li>\n",
       "\t<li>'SD_summary_all_binding_diff'</li>\n",
       "\t<li>'I_diff_rp'</li>\n",
       "\t<li>'deltaI_diff_rp'</li>\n",
       "</ol>\n"
      ],
      "text/latex": [
       "\\begin{enumerate*}\n",
       "\\item 'X.Id'\n",
       "\\item 'Organism'\n",
       "\\item 'TaxonID'\n",
       "\\item 'Full.Taxonomy'\n",
       "\\item 'Doubling.Time'\n",
       "\\item 'CDS_GC'\n",
       "\\item 'CDS_GC_nostartstop'\n",
       "\\item 'Ribo_prot_GC_nostartstop'\n",
       "\\item 'CDS_number'\n",
       "\\item 'Intragenic_GC'\n",
       "\\item 'Gene_density'\n",
       "\\item 'Coding_density'\n",
       "\\item 'Genome_length'\n",
       "\\item 'Intragenic_length'\n",
       "\\item 'CDS_length'\n",
       "\\item 'tRNA_number'\n",
       "\\item 'All_NC_wright'\n",
       "\\item 'All_NC_novembre'\n",
       "\\item 'All_NC_info'\n",
       "\\item 'Ribo_NC_wright'\n",
       "\\item 'Ribo_NC_novembre'\n",
       "\\item 'Ribo_NC_info'\n",
       "\\item 'Ribo_prot_number'\n",
       "\\item 'Information_content_all..20_.4.'\n",
       "\\item 'Information_content_ribo..20_.4.'\n",
       "\\item 'Information_content_all_mean_random..20_.4.'\n",
       "\\item 'Information_content_ribo_mean_random..20_.4.'\n",
       "\\item 'Mean_binding_all'\n",
       "\\item 'Mean_binding_ribo'\n",
       "\\item 'Mean_binding_all_mean_random'\n",
       "\\item 'Mean_binding_ribo_mean_random'\n",
       "\\item 'Location_of_best_binding_all'\n",
       "\\item 'Location_of_best_binding_ribo'\n",
       "\\item 'ATG_start_percent'\n",
       "\\item 'X16s_copies'\n",
       "\\item 'X23s_copies'\n",
       "\\item 'CDS_with_SD_utr_motif'\n",
       "\\item 'Expected_CDS_with_SD_utr_motif'\n",
       "\\item 'CDS_with_SD_utr_binding'\n",
       "\\item 'Expected_CDS_with_SD_utr_binding'\n",
       "\\item 'RP_information_percentile'\n",
       "\\item 'RP_information_zscore'\n",
       "\\item 'aSD_binding_score_ribosome'\n",
       "\\item 'aSD_binding_score_all'\n",
       "\\item 'Internal_SD_seqs'\n",
       "\\item 'Mean_folding_init'\n",
       "\\item 'Mean_folding_internal'\n",
       "\\item 'Mean_folding_diff'\n",
       "\\item 'Mean_folding_init_ribo'\n",
       "\\item 'Mean_folding_internal_ribo'\n",
       "\\item 'Mean_folding_diff_ribo'\n",
       "\\item 'aSD_binding_summary'\n",
       "\\item 'folding_energy_init_summary'\n",
       "\\item 'folding_energy_diff_summary'\n",
       "\\item 'NC_summary_info'\n",
       "\\item 'NC_summary_novembre'\n",
       "\\item 'SD_summary_all_info'\n",
       "\\item 'SD_summary_ribo_info'\n",
       "\\item 'SD_summary_all_motif_diff'\n",
       "\\item 'SD_summary_all_binding_diff'\n",
       "\\item 'I_diff_rp'\n",
       "\\item 'deltaI_diff_rp'\n",
       "\\end{enumerate*}\n"
      ],
      "text/markdown": [
       "1. 'X.Id'\n",
       "2. 'Organism'\n",
       "3. 'TaxonID'\n",
       "4. 'Full.Taxonomy'\n",
       "5. 'Doubling.Time'\n",
       "6. 'CDS_GC'\n",
       "7. 'CDS_GC_nostartstop'\n",
       "8. 'Ribo_prot_GC_nostartstop'\n",
       "9. 'CDS_number'\n",
       "10. 'Intragenic_GC'\n",
       "11. 'Gene_density'\n",
       "12. 'Coding_density'\n",
       "13. 'Genome_length'\n",
       "14. 'Intragenic_length'\n",
       "15. 'CDS_length'\n",
       "16. 'tRNA_number'\n",
       "17. 'All_NC_wright'\n",
       "18. 'All_NC_novembre'\n",
       "19. 'All_NC_info'\n",
       "20. 'Ribo_NC_wright'\n",
       "21. 'Ribo_NC_novembre'\n",
       "22. 'Ribo_NC_info'\n",
       "23. 'Ribo_prot_number'\n",
       "24. 'Information_content_all..20_.4.'\n",
       "25. 'Information_content_ribo..20_.4.'\n",
       "26. 'Information_content_all_mean_random..20_.4.'\n",
       "27. 'Information_content_ribo_mean_random..20_.4.'\n",
       "28. 'Mean_binding_all'\n",
       "29. 'Mean_binding_ribo'\n",
       "30. 'Mean_binding_all_mean_random'\n",
       "31. 'Mean_binding_ribo_mean_random'\n",
       "32. 'Location_of_best_binding_all'\n",
       "33. 'Location_of_best_binding_ribo'\n",
       "34. 'ATG_start_percent'\n",
       "35. 'X16s_copies'\n",
       "36. 'X23s_copies'\n",
       "37. 'CDS_with_SD_utr_motif'\n",
       "38. 'Expected_CDS_with_SD_utr_motif'\n",
       "39. 'CDS_with_SD_utr_binding'\n",
       "40. 'Expected_CDS_with_SD_utr_binding'\n",
       "41. 'RP_information_percentile'\n",
       "42. 'RP_information_zscore'\n",
       "43. 'aSD_binding_score_ribosome'\n",
       "44. 'aSD_binding_score_all'\n",
       "45. 'Internal_SD_seqs'\n",
       "46. 'Mean_folding_init'\n",
       "47. 'Mean_folding_internal'\n",
       "48. 'Mean_folding_diff'\n",
       "49. 'Mean_folding_init_ribo'\n",
       "50. 'Mean_folding_internal_ribo'\n",
       "51. 'Mean_folding_diff_ribo'\n",
       "52. 'aSD_binding_summary'\n",
       "53. 'folding_energy_init_summary'\n",
       "54. 'folding_energy_diff_summary'\n",
       "55. 'NC_summary_info'\n",
       "56. 'NC_summary_novembre'\n",
       "57. 'SD_summary_all_info'\n",
       "58. 'SD_summary_ribo_info'\n",
       "59. 'SD_summary_all_motif_diff'\n",
       "60. 'SD_summary_all_binding_diff'\n",
       "61. 'I_diff_rp'\n",
       "62. 'deltaI_diff_rp'\n",
       "\n",
       "\n"
      ],
      "text/plain": [
       " [1] \"X.Id\"                                        \n",
       " [2] \"Organism\"                                    \n",
       " [3] \"TaxonID\"                                     \n",
       " [4] \"Full.Taxonomy\"                               \n",
       " [5] \"Doubling.Time\"                               \n",
       " [6] \"CDS_GC\"                                      \n",
       " [7] \"CDS_GC_nostartstop\"                          \n",
       " [8] \"Ribo_prot_GC_nostartstop\"                    \n",
       " [9] \"CDS_number\"                                  \n",
       "[10] \"Intragenic_GC\"                               \n",
       "[11] \"Gene_density\"                                \n",
       "[12] \"Coding_density\"                              \n",
       "[13] \"Genome_length\"                               \n",
       "[14] \"Intragenic_length\"                           \n",
       "[15] \"CDS_length\"                                  \n",
       "[16] \"tRNA_number\"                                 \n",
       "[17] \"All_NC_wright\"                               \n",
       "[18] \"All_NC_novembre\"                             \n",
       "[19] \"All_NC_info\"                                 \n",
       "[20] \"Ribo_NC_wright\"                              \n",
       "[21] \"Ribo_NC_novembre\"                            \n",
       "[22] \"Ribo_NC_info\"                                \n",
       "[23] \"Ribo_prot_number\"                            \n",
       "[24] \"Information_content_all..20_.4.\"             \n",
       "[25] \"Information_content_ribo..20_.4.\"            \n",
       "[26] \"Information_content_all_mean_random..20_.4.\" \n",
       "[27] \"Information_content_ribo_mean_random..20_.4.\"\n",
       "[28] \"Mean_binding_all\"                            \n",
       "[29] \"Mean_binding_ribo\"                           \n",
       "[30] \"Mean_binding_all_mean_random\"                \n",
       "[31] \"Mean_binding_ribo_mean_random\"               \n",
       "[32] \"Location_of_best_binding_all\"                \n",
       "[33] \"Location_of_best_binding_ribo\"               \n",
       "[34] \"ATG_start_percent\"                           \n",
       "[35] \"X16s_copies\"                                 \n",
       "[36] \"X23s_copies\"                                 \n",
       "[37] \"CDS_with_SD_utr_motif\"                       \n",
       "[38] \"Expected_CDS_with_SD_utr_motif\"              \n",
       "[39] \"CDS_with_SD_utr_binding\"                     \n",
       "[40] \"Expected_CDS_with_SD_utr_binding\"            \n",
       "[41] \"RP_information_percentile\"                   \n",
       "[42] \"RP_information_zscore\"                       \n",
       "[43] \"aSD_binding_score_ribosome\"                  \n",
       "[44] \"aSD_binding_score_all\"                       \n",
       "[45] \"Internal_SD_seqs\"                            \n",
       "[46] \"Mean_folding_init\"                           \n",
       "[47] \"Mean_folding_internal\"                       \n",
       "[48] \"Mean_folding_diff\"                           \n",
       "[49] \"Mean_folding_init_ribo\"                      \n",
       "[50] \"Mean_folding_internal_ribo\"                  \n",
       "[51] \"Mean_folding_diff_ribo\"                      \n",
       "[52] \"aSD_binding_summary\"                         \n",
       "[53] \"folding_energy_init_summary\"                 \n",
       "[54] \"folding_energy_diff_summary\"                 \n",
       "[55] \"NC_summary_info\"                             \n",
       "[56] \"NC_summary_novembre\"                         \n",
       "[57] \"SD_summary_all_info\"                         \n",
       "[58] \"SD_summary_ribo_info\"                        \n",
       "[59] \"SD_summary_all_motif_diff\"                   \n",
       "[60] \"SD_summary_all_binding_diff\"                 \n",
       "[61] \"I_diff_rp\"                                   \n",
       "[62] \"deltaI_diff_rp\"                              "
      ]
     },
     "execution_count": 180,
     "metadata": {},
     "output_type": "execute_result"
    }
   ],
   "source": [
    "colnames(data_table)"
   ]
  },
  {
   "cell_type": "code",
   "execution_count": null,
   "metadata": {
    "collapsed": true
   },
   "outputs": [],
   "source": []
  },
  {
   "cell_type": "markdown",
   "metadata": {},
   "source": [
    "**Investigate individual predictors**"
   ]
  },
  {
   "cell_type": "code",
   "execution_count": 185,
   "metadata": {
    "collapsed": false
   },
   "outputs": [
    {
     "data": {
      "text/plain": [
       "\n",
       "Call:\n",
       "pgls(formula = X16s_copies ~ 1, data = data_comparative, lambda = \"ML\")\n",
       "\n",
       "Residuals:\n",
       "     Min       1Q   Median       3Q      Max \n",
       "-10.8725  -2.4897  -0.2718   2.1558   9.8883 \n",
       "\n",
       "Branch length transformations:\n",
       "\n",
       "kappa  [Fix]  : 1.000\n",
       "lambda [ ML]  : 0.983\n",
       "   lower bound : 0.000, p = < 2.22e-16\n",
       "   upper bound : 1.000, p = < 2.22e-16\n",
       "   95.0% CI   : (0.964, 0.992)\n",
       "delta  [Fix]  : 1.000\n",
       "\n",
       "Coefficients:\n",
       "            Estimate Std. Error t value Pr(>|t|)   \n",
       "(Intercept)  2.74680    0.83786  3.2784 0.001246 **\n",
       "---\n",
       "Signif. codes:  0 ‘***’ 0.001 ‘**’ 0.01 ‘*’ 0.05 ‘.’ 0.1 ‘ ’ 1\n",
       "\n",
       "Residual standard error: 3.562 on 186 degrees of freedom\n",
       "Multiple R-squared:     0,\tAdjusted R-squared:     0 \n",
       "F-statistic:   NaN on 0 and 186 DF,  p-value: NA "
      ]
     },
     "execution_count": 185,
     "metadata": {},
     "output_type": "execute_result"
    }
   ],
   "source": [
    "model.pgls <- pgls(tRNA_numbers ~ 1,\n",
    "                   data = data_comparative, lambda='ML')\n",
    "summary(model.pgls)"
   ]
  },
  {
   "cell_type": "code",
   "execution_count": null,
   "metadata": {
    "collapsed": true
   },
   "outputs": [],
   "source": []
  },
  {
   "cell_type": "markdown",
   "metadata": {},
   "source": [
    "**Calculate and write results data table for entire list of predictors that includes the combined model R2, individual R2 for each predictor, and the R2 for the combined model without each individual predictor**\n",
    "\n",
    "A quirk to note here: from time to time there can be an error in caper's PGLS optimization function. My hack is just to slightly adjust the bounds on the lambda (i.e. from 1e-05 to 1e-04) and it usually works.\n",
    "\n",
    "Also worth noting is that I don't use R frequently. If it's not obvious, apologies on the poor code below that nevertheless gets the job done."
   ]
  },
  {
   "cell_type": "code",
   "execution_count": 69,
   "metadata": {
    "collapsed": true
   },
   "outputs": [],
   "source": [
    "# ### SD using deltaI\n",
    "# metrics <- c('SD_summary_all_info', 'ATG_start_percent', 'NC_summary_info', \n",
    "#              'tRNA_number', 'X16s_copies', 'aSD_binding_summary', 'Mean_folding_diff')\n",
    "# out_file_name <- '../Results/growth_rate_correlation_data.csv'\n",
    "\n",
    "#### SD using binding\n",
    "# metrics <- c('SD_summary_all_binding_diff', 'ATG_start_percent', 'NC_summary_info', \n",
    "#              'tRNA_number', 'X16s_copies', 'aSD_binding_summary', 'Mean_folding_diff')\n",
    "# out_file_name <- '../Results/growth_rate_correlation_data_binding.csv'\n",
    "\n",
    "#### SD in ribosomal proteins only\n",
    "metrics <- c('SD_summary_ribo_info', 'ATG_start_percent', 'NC_summary_info', \n",
    "             'tRNA_number', 'X16s_copies', 'aSD_binding_summary', 'Mean_folding_diff')\n",
    "out_file_name <- '../Results/growth_rate_correlation_data_riboprots.csv'\n",
    "\n",
    "#### SD in ribosomal proteins diff\n",
    "# metrics <- c('I_diff_rp', 'ATG_start_percent', 'NC_summary_info', \n",
    "#              'tRNA_number', 'X16s_copies', 'aSD_binding_summary', 'Mean_folding_diff')\n",
    "# metrics <- c('deltaI_diff_rp', 'ATG_start_percent', 'NC_summary_info', \n",
    "#              'tRNA_number', 'X16s_copies', 'aSD_binding_summary', 'Mean_folding_diff')"
   ]
  },
  {
   "cell_type": "code",
   "execution_count": 70,
   "metadata": {
    "collapsed": false
   },
   "outputs": [
    {
     "name": "stdout",
     "output_type": "stream",
     "text": [
      "[1] \"log(Doubling.Time) ~ SD_summary_ribo_info + ATG_start_percent + NC_summary_info + tRNA_number + X16s_copies + aSD_binding_summary + Mean_folding_diff rsq 0.267102435382499\"\n",
      "[1] \"log(Doubling.Time ~ SD_summary_ribo_info rsq 0.0395560406508757\"\n",
      "[1] \"log(Doubling.Time) ~ ATG_start_percent + NC_summary_info + tRNA_number + X16s_copies + aSD_binding_summary + Mean_folding_diff rsq 0.23083969931211\"\n",
      "[1] \"log(Doubling.Time ~ ATG_start_percent rsq 0.0195794612234714\"\n",
      "[1] \"log(Doubling.Time) ~ SD_summary_ribo_info + NC_summary_info + tRNA_number + X16s_copies + aSD_binding_summary + Mean_folding_diff rsq 0.248396283345188\"\n",
      "[1] \"log(Doubling.Time ~ NC_summary_info rsq 0.173725409536581\"\n",
      "[1] \"log(Doubling.Time) ~ SD_summary_ribo_info + ATG_start_percent + tRNA_number + X16s_copies + aSD_binding_summary + Mean_folding_diff rsq 0.172892742722205\"\n",
      "[1] \"log(Doubling.Time ~ tRNA_number rsq 0.0609079114942802\"\n",
      "[1] \"log(Doubling.Time) ~ SD_summary_ribo_info + ATG_start_percent + NC_summary_info + X16s_copies + aSD_binding_summary + Mean_folding_diff rsq 0.256187535682464\"\n",
      "[1] \"log(Doubling.Time ~ X16s_copies rsq 0.0559421927638586\"\n",
      "[1] \"log(Doubling.Time) ~ SD_summary_ribo_info + ATG_start_percent + NC_summary_info + tRNA_number + aSD_binding_summary + Mean_folding_diff rsq 0.261210226081695\"\n",
      "[1] \"log(Doubling.Time ~ aSD_binding_summary rsq 0.0760117125970202\"\n",
      "[1] \"log(Doubling.Time) ~ SD_summary_ribo_info + ATG_start_percent + NC_summary_info + tRNA_number + X16s_copies + Mean_folding_diff rsq 0.259047050018651\"\n",
      "[1] \"log(Doubling.Time ~ Mean_folding_diff rsq 0.0780602884032484\"\n",
      "[1] \"log(Doubling.Time) ~ SD_summary_ribo_info + ATG_start_percent + NC_summary_info + tRNA_number + X16s_copies + aSD_binding_summary rsq 0.232659534678406\"\n"
     ]
    }
   ],
   "source": [
    "rsq_table <- data.frame(matrix(ncol=8, nrow=8))\n",
    "colnames(rsq_table) <- c('Individual(R2)', 'Individual(Lambda)',\n",
    "                         'Individual(Lambda CI lower)', 'Individual(Lambda CI higher)',\n",
    "                         'Without(R2)', 'Without(Lambda)',\n",
    "                         'Without(Lambda CI lower)', 'Without(Lambda CI higher)')\n",
    "rownames(rsq_table) <- c(c(\"Full_model\", metrics))\n",
    "\n",
    "temp <- paste(metrics, collapse = ' + ')\n",
    "model.pgls <- pgls(as.formula(paste(\"log(Doubling.Time) ~\", temp)),\n",
    "               data = data_comparative, lambda='ML')\n",
    "print(paste(\"log(Doubling.Time) ~\", temp, \"rsq\", summary(model.pgls)$r.squared))\n",
    "rsq_table[\"Full_model\", 1] <- summary(model.pgls)$r.squared\n",
    "rsq_table[\"Full_model\", 2] <- summary(model.pgls)$param[2]\n",
    "rsq_table[\"Full_model\", 3] <- summary(model.pgls)$param.CI$lambda$ci.val[1]\n",
    "rsq_table[\"Full_model\", 4] <- summary(model.pgls)$param.CI$lambda$ci.val[2]\n",
    "rsq_table[\"Full_model\", 5] <- ''\n",
    "rsq_table[\"Full_model\", 6] <- ''\n",
    "rsq_table[\"Full_model\", 7] <- ''\n",
    "rsq_table[\"Full_model\", 8] <- ''\n",
    "\n",
    "for(i in metrics){\n",
    "    model.pgls <- pgls(as.formula(paste(\"log(Doubling.Time) ~\", i)),\n",
    "                   data = data_comparative, lambda='ML')\n",
    "    print(paste(\"log(Doubling.Time ~\", i, \"rsq\", summary(model.pgls)$r.squared))\n",
    "    rsq_table[i, 1] <- summary(model.pgls)$r.squared\n",
    "    rsq_table[i, 2] <- summary(model.pgls)$param[2]\n",
    "    rsq_table[i, 3] <- summary(model.pgls)$param.CI$lambda$ci.val[1]\n",
    "    rsq_table[i, 4] <- summary(model.pgls)$param.CI$lambda$ci.val[2]\n",
    "\n",
    "    temp_metrics <- metrics[metrics != i];\n",
    "    temp <- paste(temp_metrics, collapse = ' + ')\n",
    "    model.pgls <- pgls(as.formula(paste(\"log(Doubling.Time) ~\", temp)),\n",
    "                   data = data_comparative, lambda='ML')\n",
    "    print(paste(\"log(Doubling.Time) ~\", temp, \"rsq\", summary(model.pgls)$r.squared))\n",
    "    rsq_table[i, 5] <- summary(model.pgls)$r.squared\n",
    "    rsq_table[i, 6] <- summary(model.pgls)$param[2]\n",
    "    rsq_table[i, 7] <- summary(model.pgls)$param.CI$lambda$ci.val[1]\n",
    "    rsq_table[i, 8] <- summary(model.pgls)$param.CI$lambda$ci.val[2]\n",
    "}"
   ]
  },
  {
   "cell_type": "code",
   "execution_count": 71,
   "metadata": {
    "collapsed": false
   },
   "outputs": [
    {
     "data": {
      "text/html": [
       "<table>\n",
       "<thead><tr><th></th><th scope=col>Individual(R2)</th><th scope=col>Individual(Lambda)</th><th scope=col>Individual(Lambda CI lower)</th><th scope=col>Individual(Lambda CI higher)</th><th scope=col>Without(R2)</th><th scope=col>Without(Lambda)</th><th scope=col>Without(Lambda CI lower)</th><th scope=col>Without(Lambda CI higher)</th></tr></thead>\n",
       "<tbody>\n",
       "\t<tr><th scope=row>Full_model</th><td>0.2671024</td><td>0.9409209</td><td>0.8643556</td><td>0.9753925</td><td></td><td></td><td></td><td></td></tr>\n",
       "\t<tr><th scope=row>SD_summary_ribo_info</th><td>0.03955604</td><td>0.9764558</td><td>0.9436135</td><td>0.9916363</td><td>0.23083969931211</td><td>0.955499403012802</td><td>0.90326254896897</td><td>0.981203890380381</td></tr>\n",
       "\t<tr><th scope=row>ATG_start_percent</th><td>0.01957946</td><td>0.9782529</td><td>0.9513469</td><td>0.9919281</td><td>0.248396283345188</td><td>0.949200701537513</td><td>0.881780426769595</td><td>0.979385299037689</td></tr>\n",
       "\t<tr><th scope=row>NC_summary_info</th><td>0.1737254</td><td>0.9641915</td><td>0.9167162</td><td>0.9865308</td><td>0.172892742722205</td><td>0.962321992204807</td><td>0.916085949043635</td><td>0.984432829535443</td></tr>\n",
       "\t<tr><th scope=row>tRNA_number</th><td>0.06090791</td><td>0.9789503</td><td>0.9495268</td><td>0.9927643</td><td>0.256187535682464</td><td>0.944926819960872</td><td>0.875360540324111</td><td>0.976899402082156</td></tr>\n",
       "\t<tr><th scope=row>X16s_copies</th><td>0.05594219</td><td>0.9797408</td><td>0.9515697</td><td>0.992931</td><td>0.261210226081695</td><td>0.944175644491417</td><td>0.873135679876011</td><td>0.976570031983492</td></tr>\n",
       "\t<tr><th scope=row>aSD_binding_summary</th><td>0.07601171</td><td>0.97724</td><td>0.9477932</td><td>0.9914256</td><td>0.259047050018651</td><td>0.944631570775115</td><td>0.873449223800992</td><td>0.976985982827197</td></tr>\n",
       "\t<tr><th scope=row>Mean_folding_diff</th><td>0.07806029</td><td>0.9767075</td><td>0.950233</td><td>0.9902538</td><td>0.232659534678406</td><td>0.946142740254226</td><td>0.871955256971015</td><td>0.978904691631479</td></tr>\n",
       "</tbody>\n",
       "</table>\n"
      ],
      "text/latex": [
       "\\begin{tabular}{r|llllllll}\n",
       "  & Individual(R2) & Individual(Lambda) & Individual(Lambda CI lower) & Individual(Lambda CI higher) & Without(R2) & Without(Lambda) & Without(Lambda CI lower) & Without(Lambda CI higher)\\\\\n",
       "\\hline\n",
       "\tFull_model & 0.2671024 & 0.9409209 & 0.8643556 & 0.9753925 &  &  &  & \\\\\n",
       "\tSD_summary_ribo_info & 0.03955604 & 0.9764558 & 0.9436135 & 0.9916363 & 0.23083969931211 & 0.955499403012802 & 0.90326254896897 & 0.981203890380381\\\\\n",
       "\tATG_start_percent & 0.01957946 & 0.9782529 & 0.9513469 & 0.9919281 & 0.248396283345188 & 0.949200701537513 & 0.881780426769595 & 0.979385299037689\\\\\n",
       "\tNC_summary_info & 0.1737254 & 0.9641915 & 0.9167162 & 0.9865308 & 0.172892742722205 & 0.962321992204807 & 0.916085949043635 & 0.984432829535443\\\\\n",
       "\ttRNA_number & 0.06090791 & 0.9789503 & 0.9495268 & 0.9927643 & 0.256187535682464 & 0.944926819960872 & 0.875360540324111 & 0.976899402082156\\\\\n",
       "\tX16s_copies & 0.05594219 & 0.9797408 & 0.9515697 & 0.992931 & 0.261210226081695 & 0.944175644491417 & 0.873135679876011 & 0.976570031983492\\\\\n",
       "\taSD_binding_summary & 0.07601171 & 0.97724 & 0.9477932 & 0.9914256 & 0.259047050018651 & 0.944631570775115 & 0.873449223800992 & 0.976985982827197\\\\\n",
       "\tMean_folding_diff & 0.07806029 & 0.9767075 & 0.950233 & 0.9902538 & 0.232659534678406 & 0.946142740254226 & 0.871955256971015 & 0.978904691631479\\\\\n",
       "\\end{tabular}\n"
      ],
      "text/plain": [
       "                     Individual(R2) Individual(Lambda)\n",
       "Full_model               0.26710244          0.9409209\n",
       "SD_summary_ribo_info     0.03955604          0.9764558\n",
       "ATG_start_percent        0.01957946          0.9782529\n",
       "NC_summary_info          0.17372541          0.9641915\n",
       "tRNA_number              0.06090791          0.9789503\n",
       "X16s_copies              0.05594219          0.9797408\n",
       "aSD_binding_summary      0.07601171          0.9772400\n",
       "Mean_folding_diff        0.07806029          0.9767075\n",
       "                     Individual(Lambda CI lower) Individual(Lambda CI higher)\n",
       "Full_model                             0.8643556                    0.9753925\n",
       "SD_summary_ribo_info                   0.9436135                    0.9916363\n",
       "ATG_start_percent                      0.9513469                    0.9919281\n",
       "NC_summary_info                        0.9167162                    0.9865308\n",
       "tRNA_number                            0.9495268                    0.9927643\n",
       "X16s_copies                            0.9515697                    0.9929310\n",
       "aSD_binding_summary                    0.9477932                    0.9914256\n",
       "Mean_folding_diff                      0.9502330                    0.9902538\n",
       "                           Without(R2)   Without(Lambda)\n",
       "Full_model                                              \n",
       "SD_summary_ribo_info  0.23083969931211 0.955499403012802\n",
       "ATG_start_percent    0.248396283345188 0.949200701537513\n",
       "NC_summary_info      0.172892742722205 0.962321992204807\n",
       "tRNA_number          0.256187535682464 0.944926819960872\n",
       "X16s_copies          0.261210226081695 0.944175644491417\n",
       "aSD_binding_summary  0.259047050018651 0.944631570775115\n",
       "Mean_folding_diff    0.232659534678406 0.946142740254226\n",
       "                     Without(Lambda CI lower) Without(Lambda CI higher)\n",
       "Full_model                                                             \n",
       "SD_summary_ribo_info         0.90326254896897         0.981203890380381\n",
       "ATG_start_percent           0.881780426769595         0.979385299037689\n",
       "NC_summary_info             0.916085949043635         0.984432829535443\n",
       "tRNA_number                 0.875360540324111         0.976899402082156\n",
       "X16s_copies                 0.873135679876011         0.976570031983492\n",
       "aSD_binding_summary         0.873449223800992         0.976985982827197\n",
       "Mean_folding_diff           0.871955256971015         0.978904691631479"
      ]
     },
     "execution_count": 71,
     "metadata": {},
     "output_type": "execute_result"
    }
   ],
   "source": [
    "rsq_table"
   ]
  },
  {
   "cell_type": "code",
   "execution_count": 21,
   "metadata": {
    "collapsed": true
   },
   "outputs": [],
   "source": [
    "# write.table(rsq_table,file=out_file_name)"
   ]
  },
  {
   "cell_type": "code",
   "execution_count": null,
   "metadata": {
    "collapsed": true
   },
   "outputs": [],
   "source": []
  },
  {
   "cell_type": "markdown",
   "metadata": {},
   "source": [
    "**Write model/s for plotting**"
   ]
  },
  {
   "cell_type": "code",
   "execution_count": 22,
   "metadata": {
    "collapsed": false
   },
   "outputs": [
    {
     "data": {
      "text/plain": [
       "\n",
       "Call:\n",
       "pgls(formula = log(Doubling.Time) ~ SD_summary_all_info, data = data_comparative, \n",
       "    lambda = \"ML\", bounds = list(lambda = c(1e-05, 0.9999), kappa = c(1e-06, \n",
       "        3), delta = c(1e-06, 3)))\n",
       "\n",
       "Residuals:\n",
       "    Min      1Q  Median      3Q     Max \n",
       "-5.6858 -1.5022 -0.1795  1.0408  3.8776 \n",
       "\n",
       "Branch length transformations:\n",
       "\n",
       "kappa  [Fix]  : 1.000\n",
       "lambda [ ML]  : 0.970\n",
       "   lower bound : 0.000, p = < 2.22e-16\n",
       "   upper bound : 1.000, p = 3.8144e-09\n",
       "   95.0% CI   : (0.931, 0.989)\n",
       "delta  [Fix]  : 1.000\n",
       "\n",
       "Coefficients:\n",
       "                    Estimate Std. Error t value  Pr(>|t|)    \n",
       "(Intercept)          2.97000    0.43890  6.7669 1.682e-10 ***\n",
       "SD_summary_all_info -0.95263    0.20199 -4.7162 4.721e-06 ***\n",
       "---\n",
       "Signif. codes:  0 ‘***’ 0.001 ‘**’ 0.01 ‘*’ 0.05 ‘.’ 0.1 ‘ ’ 1\n",
       "\n",
       "Residual standard error: 1.861 on 185 degrees of freedom\n",
       "Multiple R-squared: 0.1073,\tAdjusted R-squared: 0.1025 \n",
       "F-statistic: 22.24 on 1 and 185 DF,  p-value: 4.721e-06 "
      ]
     },
     "execution_count": 22,
     "metadata": {},
     "output_type": "execute_result"
    }
   ],
   "source": [
    "###Just the deltaI model\n",
    "model.pgls <- pgls(log(Doubling.Time) ~ SD_summary_all_info,\n",
    "                   data = data_comparative, lambda='ML',\n",
    "                   bounds=list(lambda=c(1e-5,0.9999), kappa=c(1e-6,3), delta=c(1e-6,3)))\n",
    "summary(model.pgls)\n",
    "write.csv(model.pgls$fitted, '../Results/growth_fitted_model_SDinfo.csv')"
   ]
  },
  {
   "cell_type": "code",
   "execution_count": 33,
   "metadata": {
    "collapsed": false
   },
   "outputs": [
    {
     "data": {
      "text/plain": [
       "\n",
       "Call:\n",
       "pgls(formula = log(Doubling.Time) ~ SD_summary_all_info + ATG_start_percent + \n",
       "    NC_summary_info + tRNA_number + X16s_copies + aSD_binding_summary + \n",
       "    Mean_folding_diff, data = data_comparative, lambda = \"ML\", \n",
       "    bounds = list(lambda = c(1e-05, 0.9999), kappa = c(1e-06, \n",
       "        3), delta = c(1e-06, 3)))\n",
       "\n",
       "Residuals:\n",
       "    Min      1Q  Median      3Q     Max \n",
       "-3.3481 -1.0018 -0.1972  0.7106  5.4108 \n",
       "\n",
       "Branch length transformations:\n",
       "\n",
       "kappa  [Fix]  : 1.000\n",
       "lambda [ ML]  : 0.913\n",
       "   lower bound : 0.000, p = 1.07e-07\n",
       "   upper bound : 1.000, p = 1.0214e-14\n",
       "   95.0% CI   : (0.797, 0.963)\n",
       "delta  [Fix]  : 1.000\n",
       "\n",
       "Coefficients:\n",
       "                      Estimate Std. Error t value  Pr(>|t|)    \n",
       "(Intercept)          4.8505252  1.1430637  4.2434 3.527e-05 ***\n",
       "SD_summary_all_info -0.9561017  0.1891738 -5.0541 1.062e-06 ***\n",
       "ATG_start_percent   -0.9122341  1.2054638 -0.7567  0.450195    \n",
       "NC_summary_info     15.8161239  2.8148155  5.6189 7.249e-08 ***\n",
       "tRNA_number         -0.0070862  0.0080560 -0.8796  0.380250    \n",
       "X16s_copies          0.0574972  0.0674533  0.8524  0.395132    \n",
       "aSD_binding_summary -2.1085702  1.0975708 -1.9211  0.056305 .  \n",
       "Mean_folding_diff   -0.1988273  0.0713033 -2.7885  0.005868 ** \n",
       "---\n",
       "Signif. codes:  0 ‘***’ 0.001 ‘**’ 0.01 ‘*’ 0.05 ‘.’ 0.1 ‘ ’ 1\n",
       "\n",
       "Residual standard error: 1.446 on 179 degrees of freedom\n",
       "Multiple R-squared: 0.3541,\tAdjusted R-squared: 0.3289 \n",
       "F-statistic: 14.02 on 7 and 179 DF,  p-value: 1.916e-14 "
      ]
     },
     "execution_count": 33,
     "metadata": {},
     "output_type": "execute_result"
    }
   ],
   "source": [
    "###The full model using deltaI\n",
    "model.pgls <- pgls(log(Doubling.Time) ~ SD_summary_all_info + ATG_start_percent + NC_summary_info +\n",
    "                   tRNA_number + X16s_copies + aSD_binding_summary + Mean_folding_diff,\n",
    "                   data = data_comparative, lambda='ML',\n",
    "                   bounds=list(lambda=c(1e-5,0.9999), kappa=c(1e-6,3), delta=c(1e-6,3)))\n",
    "summary(model.pgls)\n",
    "# write.csv(model.pgls$fitted, '../Results/growth_fitted_model_full.csv')"
   ]
  },
  {
   "cell_type": "code",
   "execution_count": null,
   "metadata": {
    "collapsed": true
   },
   "outputs": [],
   "source": []
  },
  {
   "cell_type": "code",
   "execution_count": null,
   "metadata": {
    "collapsed": true
   },
   "outputs": [],
   "source": []
  },
  {
   "cell_type": "code",
   "execution_count": null,
   "metadata": {
    "collapsed": true
   },
   "outputs": [],
   "source": []
  },
  {
   "cell_type": "code",
   "execution_count": null,
   "metadata": {
    "collapsed": true
   },
   "outputs": [],
   "source": []
  },
  {
   "cell_type": "markdown",
   "metadata": {},
   "source": [
    "# Analysis of phylogenetic co-variation in larger dataset"
   ]
  },
  {
   "cell_type": "markdown",
   "metadata": {},
   "source": [
    "**Read in the data**"
   ]
  },
  {
   "cell_type": "code",
   "execution_count": 186,
   "metadata": {
    "collapsed": true
   },
   "outputs": [],
   "source": [
    "data_table <-read.csv('../Data/Pruned_df_Domain_Bacteria_10_2017.csv', sep='\\t')\n",
    "data_tree <-read.tree('../Data/Pruned_tree_Domain_Bacteria_10_2017.newick')\n",
    "\n",
    "data_comparative <- comparative.data(phy = data_tree, data = data_table,\n",
    "                                    names.col = X.Id, vcv = FALSE, na.omit = FALSE, warn.dropped = TRUE)"
   ]
  },
  {
   "cell_type": "code",
   "execution_count": 187,
   "metadata": {
    "collapsed": false
   },
   "outputs": [
    {
     "data": {
      "text/html": [
       "<ol class=list-inline>\n",
       "\t<li>'X.Id'</li>\n",
       "\t<li>'Organism'</li>\n",
       "\t<li>'TaxonID'</li>\n",
       "\t<li>'Full_Taxonomy'</li>\n",
       "\t<li>'Banfield_tree_name'</li>\n",
       "\t<li>'CDS_GC'</li>\n",
       "\t<li>'CDS_GC_nostartstop'</li>\n",
       "\t<li>'Ribo_prot_GC_nostartstop'</li>\n",
       "\t<li>'CDS_number'</li>\n",
       "\t<li>'Intragenic_GC'</li>\n",
       "\t<li>'Gene_density'</li>\n",
       "\t<li>'Coding_density'</li>\n",
       "\t<li>'Genome_length'</li>\n",
       "\t<li>'Intragenic_length'</li>\n",
       "\t<li>'CDS_length'</li>\n",
       "\t<li>'tRNA_number'</li>\n",
       "\t<li>'All_NC_wright'</li>\n",
       "\t<li>'All_NC_novembre'</li>\n",
       "\t<li>'All_NC_info'</li>\n",
       "\t<li>'Ribo_NC_wright'</li>\n",
       "\t<li>'Ribo_NC_novembre'</li>\n",
       "\t<li>'Ribo_NC_info'</li>\n",
       "\t<li>'Ribo_prot_number'</li>\n",
       "\t<li>'Information_content_all..20_.4.'</li>\n",
       "\t<li>'Information_content_ribo..20_.4.'</li>\n",
       "\t<li>'Information_content_all_mean_random..20_.4.'</li>\n",
       "\t<li>'Information_content_ribo_mean_random..20_.4.'</li>\n",
       "\t<li>'Mean_binding_all'</li>\n",
       "\t<li>'Mean_binding_ribo'</li>\n",
       "\t<li>'Mean_binding_all_mean_random'</li>\n",
       "\t<li>'Mean_binding_ribo_mean_random'</li>\n",
       "\t<li>'Location_of_best_binding_all'</li>\n",
       "\t<li>'Location_of_best_binding_ribo'</li>\n",
       "\t<li>'ATG_start_percent'</li>\n",
       "\t<li>'X16s_copies'</li>\n",
       "\t<li>'X23s_copies'</li>\n",
       "\t<li>'CDS_with_SD_utr_motif'</li>\n",
       "\t<li>'Expected_CDS_with_SD_utr_motif'</li>\n",
       "\t<li>'CDS_with_SD_utr_binding'</li>\n",
       "\t<li>'Expected_CDS_with_SD_utr_binding'</li>\n",
       "\t<li>'RP_information_percentile'</li>\n",
       "\t<li>'RP_information_zscore'</li>\n",
       "\t<li>'aSD_binding_score_ribosome'</li>\n",
       "\t<li>'aSD_binding_score_all'</li>\n",
       "\t<li>'Internal_SD_seqs'</li>\n",
       "\t<li>'Mean_folding_init'</li>\n",
       "\t<li>'Mean_folding_internal'</li>\n",
       "\t<li>'Mean_folding_diff'</li>\n",
       "\t<li>'Mean_folding_init_ribo'</li>\n",
       "\t<li>'Mean_folding_internal_ribo'</li>\n",
       "\t<li>'Mean_folding_diff_ribo'</li>\n",
       "\t<li>'aSD_binding_summary'</li>\n",
       "\t<li>'folding_energy_init_summary'</li>\n",
       "\t<li>'folding_energy_diff_summary'</li>\n",
       "\t<li>'NC_summary_info'</li>\n",
       "\t<li>'NC_summary_novembre'</li>\n",
       "\t<li>'SD_summary_all_info'</li>\n",
       "\t<li>'SD_summary_ribo_info'</li>\n",
       "\t<li>'SD_summary_all_motif_diff'</li>\n",
       "\t<li>'SD_summary_all_binding_diff'</li>\n",
       "\t<li>'Domain'</li>\n",
       "\t<li>'Phylum'</li>\n",
       "\t<li>'Class'</li>\n",
       "</ol>\n"
      ],
      "text/latex": [
       "\\begin{enumerate*}\n",
       "\\item 'X.Id'\n",
       "\\item 'Organism'\n",
       "\\item 'TaxonID'\n",
       "\\item 'Full_Taxonomy'\n",
       "\\item 'Banfield_tree_name'\n",
       "\\item 'CDS_GC'\n",
       "\\item 'CDS_GC_nostartstop'\n",
       "\\item 'Ribo_prot_GC_nostartstop'\n",
       "\\item 'CDS_number'\n",
       "\\item 'Intragenic_GC'\n",
       "\\item 'Gene_density'\n",
       "\\item 'Coding_density'\n",
       "\\item 'Genome_length'\n",
       "\\item 'Intragenic_length'\n",
       "\\item 'CDS_length'\n",
       "\\item 'tRNA_number'\n",
       "\\item 'All_NC_wright'\n",
       "\\item 'All_NC_novembre'\n",
       "\\item 'All_NC_info'\n",
       "\\item 'Ribo_NC_wright'\n",
       "\\item 'Ribo_NC_novembre'\n",
       "\\item 'Ribo_NC_info'\n",
       "\\item 'Ribo_prot_number'\n",
       "\\item 'Information_content_all..20_.4.'\n",
       "\\item 'Information_content_ribo..20_.4.'\n",
       "\\item 'Information_content_all_mean_random..20_.4.'\n",
       "\\item 'Information_content_ribo_mean_random..20_.4.'\n",
       "\\item 'Mean_binding_all'\n",
       "\\item 'Mean_binding_ribo'\n",
       "\\item 'Mean_binding_all_mean_random'\n",
       "\\item 'Mean_binding_ribo_mean_random'\n",
       "\\item 'Location_of_best_binding_all'\n",
       "\\item 'Location_of_best_binding_ribo'\n",
       "\\item 'ATG_start_percent'\n",
       "\\item 'X16s_copies'\n",
       "\\item 'X23s_copies'\n",
       "\\item 'CDS_with_SD_utr_motif'\n",
       "\\item 'Expected_CDS_with_SD_utr_motif'\n",
       "\\item 'CDS_with_SD_utr_binding'\n",
       "\\item 'Expected_CDS_with_SD_utr_binding'\n",
       "\\item 'RP_information_percentile'\n",
       "\\item 'RP_information_zscore'\n",
       "\\item 'aSD_binding_score_ribosome'\n",
       "\\item 'aSD_binding_score_all'\n",
       "\\item 'Internal_SD_seqs'\n",
       "\\item 'Mean_folding_init'\n",
       "\\item 'Mean_folding_internal'\n",
       "\\item 'Mean_folding_diff'\n",
       "\\item 'Mean_folding_init_ribo'\n",
       "\\item 'Mean_folding_internal_ribo'\n",
       "\\item 'Mean_folding_diff_ribo'\n",
       "\\item 'aSD_binding_summary'\n",
       "\\item 'folding_energy_init_summary'\n",
       "\\item 'folding_energy_diff_summary'\n",
       "\\item 'NC_summary_info'\n",
       "\\item 'NC_summary_novembre'\n",
       "\\item 'SD_summary_all_info'\n",
       "\\item 'SD_summary_ribo_info'\n",
       "\\item 'SD_summary_all_motif_diff'\n",
       "\\item 'SD_summary_all_binding_diff'\n",
       "\\item 'Domain'\n",
       "\\item 'Phylum'\n",
       "\\item 'Class'\n",
       "\\end{enumerate*}\n"
      ],
      "text/markdown": [
       "1. 'X.Id'\n",
       "2. 'Organism'\n",
       "3. 'TaxonID'\n",
       "4. 'Full_Taxonomy'\n",
       "5. 'Banfield_tree_name'\n",
       "6. 'CDS_GC'\n",
       "7. 'CDS_GC_nostartstop'\n",
       "8. 'Ribo_prot_GC_nostartstop'\n",
       "9. 'CDS_number'\n",
       "10. 'Intragenic_GC'\n",
       "11. 'Gene_density'\n",
       "12. 'Coding_density'\n",
       "13. 'Genome_length'\n",
       "14. 'Intragenic_length'\n",
       "15. 'CDS_length'\n",
       "16. 'tRNA_number'\n",
       "17. 'All_NC_wright'\n",
       "18. 'All_NC_novembre'\n",
       "19. 'All_NC_info'\n",
       "20. 'Ribo_NC_wright'\n",
       "21. 'Ribo_NC_novembre'\n",
       "22. 'Ribo_NC_info'\n",
       "23. 'Ribo_prot_number'\n",
       "24. 'Information_content_all..20_.4.'\n",
       "25. 'Information_content_ribo..20_.4.'\n",
       "26. 'Information_content_all_mean_random..20_.4.'\n",
       "27. 'Information_content_ribo_mean_random..20_.4.'\n",
       "28. 'Mean_binding_all'\n",
       "29. 'Mean_binding_ribo'\n",
       "30. 'Mean_binding_all_mean_random'\n",
       "31. 'Mean_binding_ribo_mean_random'\n",
       "32. 'Location_of_best_binding_all'\n",
       "33. 'Location_of_best_binding_ribo'\n",
       "34. 'ATG_start_percent'\n",
       "35. 'X16s_copies'\n",
       "36. 'X23s_copies'\n",
       "37. 'CDS_with_SD_utr_motif'\n",
       "38. 'Expected_CDS_with_SD_utr_motif'\n",
       "39. 'CDS_with_SD_utr_binding'\n",
       "40. 'Expected_CDS_with_SD_utr_binding'\n",
       "41. 'RP_information_percentile'\n",
       "42. 'RP_information_zscore'\n",
       "43. 'aSD_binding_score_ribosome'\n",
       "44. 'aSD_binding_score_all'\n",
       "45. 'Internal_SD_seqs'\n",
       "46. 'Mean_folding_init'\n",
       "47. 'Mean_folding_internal'\n",
       "48. 'Mean_folding_diff'\n",
       "49. 'Mean_folding_init_ribo'\n",
       "50. 'Mean_folding_internal_ribo'\n",
       "51. 'Mean_folding_diff_ribo'\n",
       "52. 'aSD_binding_summary'\n",
       "53. 'folding_energy_init_summary'\n",
       "54. 'folding_energy_diff_summary'\n",
       "55. 'NC_summary_info'\n",
       "56. 'NC_summary_novembre'\n",
       "57. 'SD_summary_all_info'\n",
       "58. 'SD_summary_ribo_info'\n",
       "59. 'SD_summary_all_motif_diff'\n",
       "60. 'SD_summary_all_binding_diff'\n",
       "61. 'Domain'\n",
       "62. 'Phylum'\n",
       "63. 'Class'\n",
       "\n",
       "\n"
      ],
      "text/plain": [
       " [1] \"X.Id\"                                        \n",
       " [2] \"Organism\"                                    \n",
       " [3] \"TaxonID\"                                     \n",
       " [4] \"Full_Taxonomy\"                               \n",
       " [5] \"Banfield_tree_name\"                          \n",
       " [6] \"CDS_GC\"                                      \n",
       " [7] \"CDS_GC_nostartstop\"                          \n",
       " [8] \"Ribo_prot_GC_nostartstop\"                    \n",
       " [9] \"CDS_number\"                                  \n",
       "[10] \"Intragenic_GC\"                               \n",
       "[11] \"Gene_density\"                                \n",
       "[12] \"Coding_density\"                              \n",
       "[13] \"Genome_length\"                               \n",
       "[14] \"Intragenic_length\"                           \n",
       "[15] \"CDS_length\"                                  \n",
       "[16] \"tRNA_number\"                                 \n",
       "[17] \"All_NC_wright\"                               \n",
       "[18] \"All_NC_novembre\"                             \n",
       "[19] \"All_NC_info\"                                 \n",
       "[20] \"Ribo_NC_wright\"                              \n",
       "[21] \"Ribo_NC_novembre\"                            \n",
       "[22] \"Ribo_NC_info\"                                \n",
       "[23] \"Ribo_prot_number\"                            \n",
       "[24] \"Information_content_all..20_.4.\"             \n",
       "[25] \"Information_content_ribo..20_.4.\"            \n",
       "[26] \"Information_content_all_mean_random..20_.4.\" \n",
       "[27] \"Information_content_ribo_mean_random..20_.4.\"\n",
       "[28] \"Mean_binding_all\"                            \n",
       "[29] \"Mean_binding_ribo\"                           \n",
       "[30] \"Mean_binding_all_mean_random\"                \n",
       "[31] \"Mean_binding_ribo_mean_random\"               \n",
       "[32] \"Location_of_best_binding_all\"                \n",
       "[33] \"Location_of_best_binding_ribo\"               \n",
       "[34] \"ATG_start_percent\"                           \n",
       "[35] \"X16s_copies\"                                 \n",
       "[36] \"X23s_copies\"                                 \n",
       "[37] \"CDS_with_SD_utr_motif\"                       \n",
       "[38] \"Expected_CDS_with_SD_utr_motif\"              \n",
       "[39] \"CDS_with_SD_utr_binding\"                     \n",
       "[40] \"Expected_CDS_with_SD_utr_binding\"            \n",
       "[41] \"RP_information_percentile\"                   \n",
       "[42] \"RP_information_zscore\"                       \n",
       "[43] \"aSD_binding_score_ribosome\"                  \n",
       "[44] \"aSD_binding_score_all\"                       \n",
       "[45] \"Internal_SD_seqs\"                            \n",
       "[46] \"Mean_folding_init\"                           \n",
       "[47] \"Mean_folding_internal\"                       \n",
       "[48] \"Mean_folding_diff\"                           \n",
       "[49] \"Mean_folding_init_ribo\"                      \n",
       "[50] \"Mean_folding_internal_ribo\"                  \n",
       "[51] \"Mean_folding_diff_ribo\"                      \n",
       "[52] \"aSD_binding_summary\"                         \n",
       "[53] \"folding_energy_init_summary\"                 \n",
       "[54] \"folding_energy_diff_summary\"                 \n",
       "[55] \"NC_summary_info\"                             \n",
       "[56] \"NC_summary_novembre\"                         \n",
       "[57] \"SD_summary_all_info\"                         \n",
       "[58] \"SD_summary_ribo_info\"                        \n",
       "[59] \"SD_summary_all_motif_diff\"                   \n",
       "[60] \"SD_summary_all_binding_diff\"                 \n",
       "[61] \"Domain\"                                      \n",
       "[62] \"Phylum\"                                      \n",
       "[63] \"Class\"                                       "
      ]
     },
     "execution_count": 187,
     "metadata": {},
     "output_type": "execute_result"
    }
   ],
   "source": [
    "colnames(data_table)"
   ]
  },
  {
   "cell_type": "markdown",
   "metadata": {},
   "source": [
    "**Individual predictors/correlations**"
   ]
  },
  {
   "cell_type": "code",
   "execution_count": 188,
   "metadata": {
    "collapsed": false
   },
   "outputs": [
    {
     "data": {
      "text/plain": [
       "\n",
       "Call:\n",
       "lm(formula = SD_summary_all_info ~ ATG_start_percent, data = data_comparative$data)\n",
       "\n",
       "Residuals:\n",
       "    Min      1Q  Median      3Q     Max \n",
       "-1.4533 -0.5266 -0.1873  0.3387  2.4414 \n",
       "\n",
       "Coefficients:\n",
       "                  Estimate Std. Error t value Pr(>|t|)  \n",
       "(Intercept)         0.4985     0.2497   1.997   0.0463 *\n",
       "ATG_start_percent   0.6175     0.2987   2.068   0.0391 *\n",
       "---\n",
       "Signif. codes:  0 ‘***’ 0.001 ‘**’ 0.01 ‘*’ 0.05 ‘.’ 0.1 ‘ ’ 1\n",
       "\n",
       "Residual standard error: 0.7414 on 611 degrees of freedom\n",
       "Multiple R-squared:  0.006948,\tAdjusted R-squared:  0.005323 \n",
       "F-statistic: 4.275 on 1 and 611 DF,  p-value: 0.0391\n"
      ]
     },
     "execution_count": 188,
     "metadata": {},
     "output_type": "execute_result"
    }
   ],
   "source": [
    "model.lm <- lm(SD_summary_all_info ~ ATG_start_percent,\n",
    "                   data = data_comparative$data)\n",
    "summary(model.lm)"
   ]
  },
  {
   "cell_type": "code",
   "execution_count": null,
   "metadata": {
    "collapsed": false
   },
   "outputs": [],
   "source": [
    "model.pgls <- pgls(SD_summary_all_info ~ ATG_start_percent,\n",
    "                   data = data_comparative, lambda='ML',\n",
    "                   bounds=list(lambda=c(1e-5,0.9999), kappa=c(1e-6,3), delta=c(1e-6,3)))\n",
    "summary(model.pgls)"
   ]
  },
  {
   "cell_type": "code",
   "execution_count": 190,
   "metadata": {
    "collapsed": false
   },
   "outputs": [
    {
     "data": {
      "text/plain": [
       "\n",
       "Call:\n",
       "pgls(formula = SD_summary_all_info ~ 1, data = data_comparative, \n",
       "    lambda = \"ML\")\n",
       "\n",
       "Residuals:\n",
       "     Min       1Q   Median       3Q      Max \n",
       "-2.26539 -0.41894 -0.05416  0.31945  2.94683 \n",
       "\n",
       "Branch length transformations:\n",
       "\n",
       "kappa  [Fix]  : 1.000\n",
       "lambda [ ML]  : 0.992\n",
       "   lower bound : 0.000, p = < 2.22e-16\n",
       "   upper bound : 1.000, p = 0.001451\n",
       "   95.0% CI   : (0.982, 0.998)\n",
       "delta  [Fix]  : 1.000\n",
       "\n",
       "Coefficients:\n",
       "            Estimate Std. Error t value  Pr(>|t|)    \n",
       "(Intercept)  1.08993    0.19632  5.5518 4.217e-08 ***\n",
       "---\n",
       "Signif. codes:  0 ‘***’ 0.001 ‘**’ 0.01 ‘*’ 0.05 ‘.’ 0.1 ‘ ’ 1\n",
       "\n",
       "Residual standard error: 0.6096 on 612 degrees of freedom\n",
       "Multiple R-squared:     0,\tAdjusted R-squared:     0 \n",
       "F-statistic:   NaN on 0 and 612 DF,  p-value: NA "
      ]
     },
     "execution_count": 190,
     "metadata": {},
     "output_type": "execute_result"
    }
   ],
   "source": [
    "model.pgls <- pgls(SD_summary_all_info ~ 1,\n",
    "                   data = data_comparative, lambda='ML')\n",
    "summary(model.pgls)"
   ]
  },
  {
   "cell_type": "code",
   "execution_count": null,
   "metadata": {
    "collapsed": true
   },
   "outputs": [],
   "source": []
  },
  {
   "cell_type": "code",
   "execution_count": null,
   "metadata": {
    "collapsed": true
   },
   "outputs": [],
   "source": []
  },
  {
   "cell_type": "code",
   "execution_count": null,
   "metadata": {
    "collapsed": true
   },
   "outputs": [],
   "source": []
  },
  {
   "cell_type": "markdown",
   "metadata": {},
   "source": [
    "## Correlation matrix between all methods"
   ]
  },
  {
   "cell_type": "code",
   "execution_count": 149,
   "metadata": {
    "collapsed": false
   },
   "outputs": [],
   "source": [
    "data_table <-read.csv('../Data/Pruned_df_Domain_Bacteria_10_2017.csv', sep='\\t')\n",
    "data_tree <-read.tree('../Data/Pruned_tree_Domain_Bacteria_10_2017.newick')\n",
    "\n",
    "data_comparative <- comparative.data(phy = data_tree, data = data_table,\n",
    "                                    names.col = X.Id, vcv = FALSE, na.omit = FALSE, warn.dropped = TRUE)\n",
    "out_file_name <- '../Results/correlation_matrix_Bacteria.csv'\n",
    "\n",
    "\n",
    "\n",
    "###To make it that higher values are associated with more codon bias in ribosome protein genes\n",
    "data_table['NC_summary_info'] <- data_table['NC_summary_info']*-1\n",
    "###To make it that higher values are associated with weaker aSD binding in ribosome protein genes\n",
    "data_table['aSD_binding_summary'] <- data_table['aSD_binding_summary']*-1\n",
    "\n",
    "\n",
    "\n",
    "\n",
    "\n",
    "########Limit the data?\n",
    "# data_table <- data_table[grepl(\"Actinobacteria\", data_table$Phylum), ]\n",
    "# out_file_name <- '../Results/correlation_matrix_Actinobacteria.csv'\n",
    "#\n",
    "# data_table <- data_table[grepl(\"Firmicutes\", data_table$Phylum), ]\n",
    "# out_file_name <- '../Results/correlation_matrix_Firmicutes.csv'\n",
    "#\n",
    "# data_table <- data_table[grepl(\"Bacteroidetes\", data_table$Phylum), ]\n",
    "# out_file_name <- '../Results/correlation_matrix_Bacteroidetes.csv'\n",
    "#\n",
    "# data_table <- data_table[grepl(\"Proteobacteria\", data_table$Phylum), ]\n",
    "# out_file_name <- '../Results/correlation_matrix_Proteobacteria.csv'\n",
    "\n",
    "\n",
    "\n",
    "data_comparative <- comparative.data(phy = data_tree, data = data_table,\n",
    "                                    names.col = X.Id, vcv = TRUE, na.omit = FALSE, warn.dropped = TRUE)\n"
   ]
  },
  {
   "cell_type": "code",
   "execution_count": 150,
   "metadata": {
    "collapsed": true
   },
   "outputs": [],
   "source": [
    "metrics <- c('SD_summary_all_motif_diff', 'SD_summary_all_binding_diff', 'SD_summary_all_info',\n",
    "             'ATG_start_percent', 'Mean_folding_diff', 'X16s_copies', 'tRNA_number', \n",
    "             'NC_summary_info', 'aSD_binding_summary')\n"
   ]
  },
  {
   "cell_type": "markdown",
   "metadata": {},
   "source": [
    "**It's worth noting that I'm doing so many correlations below on a fairly large-ish dataset size that I fix lambda=1 for these figures**"
   ]
  },
  {
   "cell_type": "code",
   "execution_count": 151,
   "metadata": {
    "collapsed": false
   },
   "outputs": [
    {
     "name": "stdout",
     "output_type": "stream",
     "text": [
      "[1] \"SD_summary_all_motif_diff ~ SD_summary_all_binding_diff rsq 0.84890656238214\"\n",
      "[1] \"SD_summary_all_motif_diff ~ SD_summary_all_info rsq 0.28745545974983\"\n",
      "[1] \"SD_summary_all_motif_diff ~ ATG_start_percent rsq 0.179535382543885\"\n",
      "[1] \"SD_summary_all_motif_diff ~ Mean_folding_diff rsq 0.0214551108858279\"\n",
      "[1] \"SD_summary_all_motif_diff ~ X16s_copies rsq 0.0342932933670087\"\n",
      "[1] \"SD_summary_all_motif_diff ~ tRNA_number rsq 0.0031835311784135\"\n",
      "[1] \"SD_summary_all_motif_diff ~ NC_summary_info rsq 0.0187868255819828\"\n",
      "[1] \"SD_summary_all_motif_diff ~ aSD_binding_summary rsq 0.0165834432408283\"\n",
      "[1] \"SD_summary_all_binding_diff ~ SD_summary_all_motif_diff rsq 0.84890656238214\"\n",
      "[1] \"SD_summary_all_binding_diff ~ SD_summary_all_info rsq 0.377616392499015\"\n",
      "[1] \"SD_summary_all_binding_diff ~ ATG_start_percent rsq 0.185447088779336\"\n",
      "[1] \"SD_summary_all_binding_diff ~ Mean_folding_diff rsq 0.00630541313539976\"\n",
      "[1] \"SD_summary_all_binding_diff ~ X16s_copies rsq 0.0466176933021502\"\n",
      "[1] \"SD_summary_all_binding_diff ~ tRNA_number rsq 0.00563668249838348\"\n",
      "[1] \"SD_summary_all_binding_diff ~ NC_summary_info rsq 0.0148351010539842\"\n",
      "[1] \"SD_summary_all_binding_diff ~ aSD_binding_summary rsq 0.0141545856646243\"\n",
      "[1] \"SD_summary_all_info ~ SD_summary_all_motif_diff rsq 0.287455459749831\"\n",
      "[1] \"SD_summary_all_info ~ SD_summary_all_binding_diff rsq 0.377616392499015\"\n",
      "[1] \"SD_summary_all_info ~ ATG_start_percent rsq 0.129052897320768\"\n",
      "[1] \"SD_summary_all_info ~ Mean_folding_diff rsq 0.0119622119631405\"\n",
      "[1] \"SD_summary_all_info ~ X16s_copies rsq 0.0799541040307753\"\n",
      "[1] \"SD_summary_all_info ~ tRNA_number rsq 0.0317281935274248\"\n",
      "[1] \"SD_summary_all_info ~ NC_summary_info rsq 0.0233843396411312\"\n",
      "[1] \"SD_summary_all_info ~ aSD_binding_summary rsq 0.0416482547776349\"\n",
      "[1] \"ATG_start_percent ~ SD_summary_all_motif_diff rsq 0.179535382543884\"\n",
      "[1] \"ATG_start_percent ~ SD_summary_all_binding_diff rsq 0.185447088779335\"\n",
      "[1] \"ATG_start_percent ~ SD_summary_all_info rsq 0.129052897320767\"\n",
      "[1] \"ATG_start_percent ~ Mean_folding_diff rsq 0.024835889125394\"\n",
      "[1] \"ATG_start_percent ~ X16s_copies rsq 0.00577408829746396\"\n",
      "[1] \"ATG_start_percent ~ tRNA_number rsq 6.42451611356479e-05\"\n",
      "[1] \"ATG_start_percent ~ NC_summary_info rsq 0.023707680952775\"\n",
      "[1] \"ATG_start_percent ~ aSD_binding_summary rsq 0.0143124849340391\"\n",
      "[1] \"Mean_folding_diff ~ SD_summary_all_motif_diff rsq 0.0214551108858291\"\n",
      "[1] \"Mean_folding_diff ~ SD_summary_all_binding_diff rsq 0.00630541313539938\"\n",
      "[1] \"Mean_folding_diff ~ SD_summary_all_info rsq 0.0119622119631407\"\n",
      "[1] \"Mean_folding_diff ~ ATG_start_percent rsq 0.0248358891253929\"\n",
      "[1] \"Mean_folding_diff ~ X16s_copies rsq 0.00741934182560392\"\n",
      "[1] \"Mean_folding_diff ~ tRNA_number rsq 0.0103685204413954\"\n",
      "[1] \"Mean_folding_diff ~ NC_summary_info rsq 0.00203719519956718\"\n",
      "[1] \"Mean_folding_diff ~ aSD_binding_summary rsq 0.179641877521749\"\n",
      "[1] \"X16s_copies ~ SD_summary_all_motif_diff rsq 0.0342932933670096\"\n",
      "[1] \"X16s_copies ~ SD_summary_all_binding_diff rsq 0.04661769330215\"\n",
      "[1] \"X16s_copies ~ SD_summary_all_info rsq 0.0799541040307736\"\n",
      "[1] \"X16s_copies ~ ATG_start_percent rsq 0.00577408829746647\"\n",
      "[1] \"X16s_copies ~ Mean_folding_diff rsq 0.00741934182560352\"\n",
      "[1] \"X16s_copies ~ tRNA_number rsq 0.516089069312852\"\n",
      "[1] \"X16s_copies ~ NC_summary_info rsq 0.130671264369488\"\n",
      "[1] \"X16s_copies ~ aSD_binding_summary rsq 0.0950153792453966\"\n",
      "[1] \"tRNA_number ~ SD_summary_all_motif_diff rsq 0.00318353117841449\"\n",
      "[1] \"tRNA_number ~ SD_summary_all_binding_diff rsq 0.00563668249838469\"\n",
      "[1] \"tRNA_number ~ SD_summary_all_info rsq 0.031728193527425\"\n",
      "[1] \"tRNA_number ~ ATG_start_percent rsq 6.42451611372783e-05\"\n",
      "[1] \"tRNA_number ~ Mean_folding_diff rsq 0.0103685204413943\"\n",
      "[1] \"tRNA_number ~ X16s_copies rsq 0.516089069312852\"\n",
      "[1] \"tRNA_number ~ NC_summary_info rsq 0.133183756813396\"\n",
      "[1] \"tRNA_number ~ aSD_binding_summary rsq 0.0816212994780483\"\n",
      "[1] \"NC_summary_info ~ SD_summary_all_motif_diff rsq 0.0187868255819835\"\n",
      "[1] \"NC_summary_info ~ SD_summary_all_binding_diff rsq 0.0148351010539831\"\n",
      "[1] \"NC_summary_info ~ SD_summary_all_info rsq 0.0233843396411294\"\n",
      "[1] \"NC_summary_info ~ ATG_start_percent rsq 0.0237076809527733\"\n",
      "[1] \"NC_summary_info ~ Mean_folding_diff rsq 0.0020371951995673\"\n",
      "[1] \"NC_summary_info ~ X16s_copies rsq 0.130671264369486\"\n",
      "[1] \"NC_summary_info ~ tRNA_number rsq 0.133183756813394\"\n",
      "[1] \"NC_summary_info ~ aSD_binding_summary rsq 0.215018901476393\"\n",
      "[1] \"aSD_binding_summary ~ SD_summary_all_motif_diff rsq 0.0165834432408266\"\n",
      "[1] \"aSD_binding_summary ~ SD_summary_all_binding_diff rsq 0.0141545856646241\"\n",
      "[1] \"aSD_binding_summary ~ SD_summary_all_info rsq 0.0416482547776346\"\n",
      "[1] \"aSD_binding_summary ~ ATG_start_percent rsq 0.0143124849340383\"\n",
      "[1] \"aSD_binding_summary ~ Mean_folding_diff rsq 0.179641877521748\"\n",
      "[1] \"aSD_binding_summary ~ X16s_copies rsq 0.0950153792453968\"\n",
      "[1] \"aSD_binding_summary ~ tRNA_number rsq 0.0816212994780467\"\n",
      "[1] \"aSD_binding_summary ~ NC_summary_info rsq 0.215018901476394\"\n"
     ]
    }
   ],
   "source": [
    "rsq_table <- data.frame(matrix(ncol=9, nrow=9))\n",
    "colnames(rsq_table) <- metrics\n",
    "rownames(rsq_table) <- metrics\n",
    "\n",
    "for(i in metrics){\n",
    "    for(j in metrics){\n",
    "        if(i != j){\n",
    "#             print(paste(i, \"~\", j))\n",
    "#             model.pgls <- pgls(as.formula(paste(i, \"~\", j)),\n",
    "#                    data = data_comparative, lambda='ML',\n",
    "#                    bounds=list(lambda=c(1e-5,0.9999), kappa=c(1e-6,3), delta=c(1e-6,3)))\n",
    "            model.pgls <- pgls(as.formula(paste(i, \"~\", j)),\n",
    "                               data = data_comparative, lambda=1.0)\n",
    "#             model.pgls <- lm(as.formula(paste(i, \"~\", j)),\n",
    "#                                data = data_comparative$data)\n",
    "            print(paste(i, \"~\", j, \"rsq\", summary(model.pgls)$r.squared))\n",
    "            anova_model <- anova(model.pgls)\n",
    "            if (anova_model$'Pr(>F)'[1] < 0.01){\n",
    "                if(summary(model.pgls)$coefficients[2,1] > 0.0){\n",
    "                    rsq_table[i, j] <- sqrt(summary(model.pgls)$r.squared)\n",
    "                }\n",
    "                else if(summary(model.pgls)$coefficients[2,1] < 0.0){\n",
    "                    rsq_table[i, j] <- -1* sqrt(summary(model.pgls)$r.squared)\n",
    "                }\n",
    "            }\n",
    "        }\n",
    "    }\n",
    "}"
   ]
  },
  {
   "cell_type": "code",
   "execution_count": 152,
   "metadata": {
    "collapsed": false
   },
   "outputs": [
    {
     "data": {
      "text/html": [
       "<table>\n",
       "<thead><tr><th></th><th scope=col>SD_summary_all_motif_diff</th><th scope=col>SD_summary_all_binding_diff</th><th scope=col>SD_summary_all_info</th><th scope=col>ATG_start_percent</th><th scope=col>Mean_folding_diff</th><th scope=col>X16s_copies</th><th scope=col>tRNA_number</th><th scope=col>NC_summary_info</th><th scope=col>aSD_binding_summary</th></tr></thead>\n",
       "<tbody>\n",
       "\t<tr><th scope=row>SD_summary_all_motif_diff</th><td>NA</td><td>0.9213613</td><td>0.5361487</td><td>0.4237162</td><td>0.1464756</td><td>0.1851845</td><td>NA</td><td>0.137065</td><td>0.1287767</td></tr>\n",
       "\t<tr><th scope=row>SD_summary_all_binding_diff</th><td>0.9213613</td><td>NA</td><td>0.614505</td><td>0.4306357</td><td>NA</td><td>0.2159113</td><td>NA</td><td>0.1217994</td><td>0.118973</td></tr>\n",
       "\t<tr><th scope=row>SD_summary_all_info</th><td>0.5361487</td><td>0.614505</td><td>NA</td><td>0.3592393</td><td>0.1093719</td><td>0.2827616</td><td>0.1781241</td><td>0.1529194</td><td>0.204079</td></tr>\n",
       "\t<tr><th scope=row>ATG_start_percent</th><td>0.4237162</td><td>0.4306357</td><td>0.3592393</td><td>NA</td><td>0.1575941</td><td>NA</td><td>NA</td><td>0.153973</td><td>0.1196348</td></tr>\n",
       "\t<tr><th scope=row>Mean_folding_diff</th><td>0.1464756</td><td>NA</td><td>0.1093719</td><td>0.1575941</td><td>NA</td><td>NA</td><td>NA</td><td>NA</td><td>0.4238418</td></tr>\n",
       "\t<tr><th scope=row>X16s_copies</th><td>0.1851845</td><td>0.2159113</td><td>0.2827616</td><td>NA</td><td>NA</td><td>NA</td><td>0.7183934</td><td>0.3614848</td><td>0.3082456</td></tr>\n",
       "\t<tr><th scope=row>tRNA_number</th><td>NA</td><td>NA</td><td>0.1781241</td><td>NA</td><td>NA</td><td>0.7183934</td><td>NA</td><td>0.3649435</td><td>0.2856944</td></tr>\n",
       "\t<tr><th scope=row>NC_summary_info</th><td>0.137065</td><td>0.1217994</td><td>0.1529194</td><td>0.153973</td><td>NA</td><td>0.3614848</td><td>0.3649435</td><td>NA</td><td>0.4637013</td></tr>\n",
       "\t<tr><th scope=row>aSD_binding_summary</th><td>0.1287767</td><td>0.118973</td><td>0.204079</td><td>0.1196348</td><td>0.4238418</td><td>0.3082456</td><td>0.2856944</td><td>0.4637013</td><td>NA</td></tr>\n",
       "</tbody>\n",
       "</table>\n"
      ],
      "text/latex": [
       "\\begin{tabular}{r|lllllllll}\n",
       "  & SD_summary_all_motif_diff & SD_summary_all_binding_diff & SD_summary_all_info & ATG_start_percent & Mean_folding_diff & X16s_copies & tRNA_number & NC_summary_info & aSD_binding_summary\\\\\n",
       "\\hline\n",
       "\tSD_summary_all_motif_diff & NA & 0.9213613 & 0.5361487 & 0.4237162 & 0.1464756 & 0.1851845 & NA & 0.137065 & 0.1287767\\\\\n",
       "\tSD_summary_all_binding_diff & 0.9213613 & NA & 0.614505 & 0.4306357 & NA & 0.2159113 & NA & 0.1217994 & 0.118973\\\\\n",
       "\tSD_summary_all_info & 0.5361487 & 0.614505 & NA & 0.3592393 & 0.1093719 & 0.2827616 & 0.1781241 & 0.1529194 & 0.204079\\\\\n",
       "\tATG_start_percent & 0.4237162 & 0.4306357 & 0.3592393 & NA & 0.1575941 & NA & NA & 0.153973 & 0.1196348\\\\\n",
       "\tMean_folding_diff & 0.1464756 & NA & 0.1093719 & 0.1575941 & NA & NA & NA & NA & 0.4238418\\\\\n",
       "\tX16s_copies & 0.1851845 & 0.2159113 & 0.2827616 & NA & NA & NA & 0.7183934 & 0.3614848 & 0.3082456\\\\\n",
       "\ttRNA_number & NA & NA & 0.1781241 & NA & NA & 0.7183934 & NA & 0.3649435 & 0.2856944\\\\\n",
       "\tNC_summary_info & 0.137065 & 0.1217994 & 0.1529194 & 0.153973 & NA & 0.3614848 & 0.3649435 & NA & 0.4637013\\\\\n",
       "\taSD_binding_summary & 0.1287767 & 0.118973 & 0.204079 & 0.1196348 & 0.4238418 & 0.3082456 & 0.2856944 & 0.4637013 & NA\\\\\n",
       "\\end{tabular}\n"
      ],
      "text/plain": [
       "                            SD_summary_all_motif_diff\n",
       "SD_summary_all_motif_diff                          NA\n",
       "SD_summary_all_binding_diff                 0.9213613\n",
       "SD_summary_all_info                         0.5361487\n",
       "ATG_start_percent                           0.4237162\n",
       "Mean_folding_diff                           0.1464756\n",
       "X16s_copies                                 0.1851845\n",
       "tRNA_number                                        NA\n",
       "NC_summary_info                             0.1370650\n",
       "aSD_binding_summary                         0.1287767\n",
       "                            SD_summary_all_binding_diff SD_summary_all_info\n",
       "SD_summary_all_motif_diff                     0.9213613           0.5361487\n",
       "SD_summary_all_binding_diff                          NA           0.6145050\n",
       "SD_summary_all_info                           0.6145050                  NA\n",
       "ATG_start_percent                             0.4306357           0.3592393\n",
       "Mean_folding_diff                                    NA           0.1093719\n",
       "X16s_copies                                   0.2159113           0.2827616\n",
       "tRNA_number                                          NA           0.1781241\n",
       "NC_summary_info                               0.1217994           0.1529194\n",
       "aSD_binding_summary                           0.1189730           0.2040790\n",
       "                            ATG_start_percent Mean_folding_diff X16s_copies\n",
       "SD_summary_all_motif_diff           0.4237162         0.1464756   0.1851845\n",
       "SD_summary_all_binding_diff         0.4306357                NA   0.2159113\n",
       "SD_summary_all_info                 0.3592393         0.1093719   0.2827616\n",
       "ATG_start_percent                          NA         0.1575941          NA\n",
       "Mean_folding_diff                   0.1575941                NA          NA\n",
       "X16s_copies                                NA                NA          NA\n",
       "tRNA_number                                NA                NA   0.7183934\n",
       "NC_summary_info                     0.1539730                NA   0.3614848\n",
       "aSD_binding_summary                 0.1196348         0.4238418   0.3082456\n",
       "                            tRNA_number NC_summary_info aSD_binding_summary\n",
       "SD_summary_all_motif_diff            NA       0.1370650           0.1287767\n",
       "SD_summary_all_binding_diff          NA       0.1217994           0.1189730\n",
       "SD_summary_all_info           0.1781241       0.1529194           0.2040790\n",
       "ATG_start_percent                    NA       0.1539730           0.1196348\n",
       "Mean_folding_diff                    NA              NA           0.4238418\n",
       "X16s_copies                   0.7183934       0.3614848           0.3082456\n",
       "tRNA_number                          NA       0.3649435           0.2856944\n",
       "NC_summary_info               0.3649435              NA           0.4637013\n",
       "aSD_binding_summary           0.2856944       0.4637013                  NA"
      ]
     },
     "execution_count": 152,
     "metadata": {},
     "output_type": "execute_result"
    }
   ],
   "source": [
    "rsq_table"
   ]
  },
  {
   "cell_type": "code",
   "execution_count": 153,
   "metadata": {
    "collapsed": true
   },
   "outputs": [],
   "source": [
    "write.table(rsq_table,file=out_file_name)"
   ]
  },
  {
   "cell_type": "code",
   "execution_count": null,
   "metadata": {
    "collapsed": true
   },
   "outputs": [],
   "source": []
  },
  {
   "cell_type": "code",
   "execution_count": 155,
   "metadata": {
    "collapsed": false
   },
   "outputs": [
    {
     "name": "stderr",
     "output_type": "stream",
     "text": [
      "Warning message:\n",
      "In model.matrix.default(formula, m): the response appeared on the right-hand side and was droppedWarning message:\n",
      "In model.matrix.default(formula, m): problem with term 1 in model.matrix: no columns are assigned"
     ]
    },
    {
     "data": {
      "text/plain": [
       "\n",
       "Call:\n",
       "pgls(formula = SD_summary_all_info ~ SD_summary_all_info, data = data_comparative, \n",
       "    lambda = 1)\n",
       "\n",
       "Residuals:\n",
       "     Min       1Q   Median       3Q      Max \n",
       "-3.15203 -0.37799 -0.01662  0.34544  1.74031 \n",
       "\n",
       "Branch length transformations:\n",
       "\n",
       "kappa  [Fix]  : 1.000\n",
       "lambda [Fix]  : 1.000\n",
       "delta  [Fix]  : 1.000\n",
       "\n",
       "Coefficients:\n",
       "            Estimate Std. Error t value Pr(>|t|)    \n",
       "(Intercept)  1.08921    0.20543  5.3022  1.6e-07 ***\n",
       "---\n",
       "Signif. codes:  0 ‘***’ 0.001 ‘**’ 0.01 ‘*’ 0.05 ‘.’ 0.1 ‘ ’ 1\n",
       "\n",
       "Residual standard error: 0.6359 on 612 degrees of freedom\n",
       "Multiple R-squared:     0,\tAdjusted R-squared:     0 \n",
       "F-statistic:   NaN on 0 and 612 DF,  p-value: NA "
      ]
     },
     "execution_count": 155,
     "metadata": {},
     "output_type": "execute_result"
    }
   ],
   "source": [
    "model.pgls <- pgls(SD_summary_all_info ~ SD_summary_all_info,\n",
    "                   data = data_comparative, lambda=1.0)\n",
    "summary(model.pgls)"
   ]
  },
  {
   "cell_type": "code",
   "execution_count": null,
   "metadata": {
    "collapsed": true
   },
   "outputs": [],
   "source": []
  },
  {
   "cell_type": "markdown",
   "metadata": {},
   "source": [
    "# Temperature associations"
   ]
  },
  {
   "cell_type": "code",
   "execution_count": 156,
   "metadata": {
    "collapsed": false
   },
   "outputs": [
    {
     "name": "stderr",
     "output_type": "stream",
     "text": [
      "Warning message:\n",
      "In comparative.data(phy = data_tree, data = data_table, names.col = X.Id, : Data dropped in compiling comparative data object"
     ]
    }
   ],
   "source": [
    "data_table <-read.csv('../Data/Pruned_df_Domain_Bacteria_10_2017_WITH_PROTRAITS_TEMPERATURES.csv', sep='\\t')\n",
    "data_tree <-read.tree('../Data/Pruned_tree_Domain_Bacteria_10_2017.newick')\n",
    "\n",
    "data_comparative <- comparative.data(phy = data_tree, data = data_table,\n",
    "                                    names.col = X.Id, vcv = FALSE, na.omit = FALSE, warn.dropped = TRUE)"
   ]
  },
  {
   "cell_type": "code",
   "execution_count": 161,
   "metadata": {
    "collapsed": false
   },
   "outputs": [
    {
     "data": {
      "text/plain": [
       "\n",
       "Call:\n",
       "pgls(formula = SD_summary_all_info ~ temperature, data = data_comparative, \n",
       "    lambda = \"ML\")\n",
       "\n",
       "Residuals:\n",
       "     Min       1Q   Median       3Q      Max \n",
       "-2.77057 -0.35868 -0.02525  0.34357  1.62590 \n",
       "\n",
       "Branch length transformations:\n",
       "\n",
       "kappa  [Fix]  : 1.000\n",
       "lambda [ ML]  : 0.990\n",
       "   lower bound : 0.000, p = < 2.22e-16\n",
       "   upper bound : 1.000, p = 0.0008019\n",
       "   95.0% CI   : (0.978, 0.997)\n",
       "delta  [Fix]  : 1.000\n",
       "\n",
       "Coefficients:\n",
       "                        Estimate Std. Error t value  Pr(>|t|)    \n",
       "(Intercept)             1.128535   0.173866  6.4908 2.136e-10 ***\n",
       "temperaturethermophiles 0.250797   0.082964  3.0230  0.002637 ** \n",
       "---\n",
       "Signif. codes:  0 ‘***’ 0.001 ‘**’ 0.01 ‘*’ 0.05 ‘.’ 0.1 ‘ ’ 1\n",
       "\n",
       "Residual standard error: 0.6142 on 479 degrees of freedom\n",
       "Multiple R-squared: 0.01872,\tAdjusted R-squared: 0.01667 \n",
       "F-statistic: 9.138 on 1 and 479 DF,  p-value: 0.002637 "
      ]
     },
     "execution_count": 161,
     "metadata": {},
     "output_type": "execute_result"
    }
   ],
   "source": [
    "model.pgls <- pgls(SD_summary_all_info ~ temperature,\n",
    "                   data = data_comparative, lambda='ML')\n",
    "summary(model.pgls)"
   ]
  },
  {
   "cell_type": "markdown",
   "metadata": {},
   "source": [
    "**This didn't make it into the paper but increases my confidence 1000-fold in the temperature result**\n",
    "First, note that all predictors combined do a decent job at predicting deltaI"
   ]
  },
  {
   "cell_type": "code",
   "execution_count": 166,
   "metadata": {
    "collapsed": false
   },
   "outputs": [
    {
     "data": {
      "text/plain": [
       "\n",
       "Call:\n",
       "pgls(formula = SD_summary_all_info ~ ATG_start_percent + Mean_folding_diff + \n",
       "    X16s_copies + tRNA_number + NC_summary_info + aSD_binding_summary, \n",
       "    data = data_comparative, lambda = \"ML\")\n",
       "\n",
       "Residuals:\n",
       "     Min       1Q   Median       3Q      Max \n",
       "-2.16895 -0.30757 -0.00513  0.38972  2.13753 \n",
       "\n",
       "Branch length transformations:\n",
       "\n",
       "kappa  [Fix]  : 1.000\n",
       "lambda [ ML]  : 1.000\n",
       "   lower bound : 0.000, p = < 2.22e-16\n",
       "   upper bound : 1.000, p = 0.90888\n",
       "   95.0% CI   : (0.990, NA)\n",
       "delta  [Fix]  : 1.000\n",
       "\n",
       "Coefficients:\n",
       "                       Estimate  Std. Error t value  Pr(>|t|)    \n",
       "(Intercept)         -0.38878759  0.26494774 -1.4674   0.14293    \n",
       "ATG_start_percent    1.93313303  0.25400756  7.6105 1.485e-13 ***\n",
       "Mean_folding_diff   -0.00279239  0.01055128 -0.2646   0.79139    \n",
       "X16s_copies          0.05546077  0.01211544  4.5777 6.014e-06 ***\n",
       "tRNA_number         -0.00076625  0.00158998 -0.4819   0.63008    \n",
       "NC_summary_info      0.63168046  0.54003281  1.1697   0.24271    \n",
       "aSD_binding_summary -0.37237361  0.19065397 -1.9531   0.05139 .  \n",
       "---\n",
       "Signif. codes:  0 ‘***’ 0.001 ‘**’ 0.01 ‘*’ 0.05 ‘.’ 0.1 ‘ ’ 1\n",
       "\n",
       "Residual standard error: 0.5852 on 474 degrees of freedom\n",
       "Multiple R-squared: 0.2013,\tAdjusted R-squared: 0.1912 \n",
       "F-statistic: 19.91 on 6 and 474 DF,  p-value: < 2.2e-16 "
      ]
     },
     "execution_count": 166,
     "metadata": {},
     "output_type": "execute_result"
    }
   ],
   "source": [
    "model.pgls <- pgls(SD_summary_all_info ~ ATG_start_percent + Mean_folding_diff + X16s_copies +\n",
    "                   tRNA_number + NC_summary_info + aSD_binding_summary,\n",
    "                   data = data_comparative, lambda='ML')\n",
    "summary(model.pgls)"
   ]
  },
  {
   "cell_type": "markdown",
   "metadata": {},
   "source": [
    "**Now, after accounting for all that, adding in temperature as a categorical variable is highly significant**"
   ]
  },
  {
   "cell_type": "code",
   "execution_count": 167,
   "metadata": {
    "collapsed": false
   },
   "outputs": [
    {
     "data": {
      "text/plain": [
       "\n",
       "Call:\n",
       "pgls(formula = SD_summary_all_info ~ ATG_start_percent + Mean_folding_diff + \n",
       "    X16s_copies + tRNA_number + NC_summary_info + aSD_binding_summary + \n",
       "    temperature, data = data_comparative, lambda = \"ML\")\n",
       "\n",
       "Residuals:\n",
       "     Min       1Q   Median       3Q      Max \n",
       "-2.01433 -0.33283 -0.00388  0.39543  1.92982 \n",
       "\n",
       "Branch length transformations:\n",
       "\n",
       "kappa  [Fix]  : 1.000\n",
       "lambda [ ML]  : 1.000\n",
       "   lower bound : 0.000, p = < 2.22e-16\n",
       "   upper bound : 1.000, p = 1    \n",
       "   95.0% CI   : (0.989, NA)\n",
       "delta  [Fix]  : 1.000\n",
       "\n",
       "Coefficients:\n",
       "                           Estimate  Std. Error t value  Pr(>|t|)    \n",
       "(Intercept)             -0.72631863  0.26564834 -2.7341  0.006489 ** \n",
       "ATG_start_percent        2.10358063  0.24898956  8.4485 4.441e-16 ***\n",
       "Mean_folding_diff       -0.00071812  0.01026660 -0.0699  0.944265    \n",
       "X16s_copies              0.05682279  0.01177930  4.8240 1.901e-06 ***\n",
       "tRNA_number             -0.00116589  0.00154554 -0.7544  0.451012    \n",
       "NC_summary_info          0.36533668  0.52784030  0.6921  0.489192    \n",
       "aSD_binding_summary     -0.40855016  0.18552070 -2.2022  0.028134 *  \n",
       "temperaturethermophiles  0.41005758  0.07847107  5.2256 2.609e-07 ***\n",
       "---\n",
       "Signif. codes:  0 ‘***’ 0.001 ‘**’ 0.01 ‘*’ 0.05 ‘.’ 0.1 ‘ ’ 1\n",
       "\n",
       "Residual standard error: 0.5699 on 473 degrees of freedom\n",
       "Multiple R-squared: 0.2457,\tAdjusted R-squared: 0.2346 \n",
       "F-statistic: 22.01 on 7 and 473 DF,  p-value: < 2.2e-16 "
      ]
     },
     "execution_count": 167,
     "metadata": {},
     "output_type": "execute_result"
    }
   ],
   "source": [
    "model.pgls <- pgls(SD_summary_all_info ~ ATG_start_percent + Mean_folding_diff + X16s_copies +\n",
    "                   tRNA_number + NC_summary_info + aSD_binding_summary + temperature,\n",
    "                   data = data_comparative, lambda='ML')\n",
    "summary(model.pgls)"
   ]
  },
  {
   "cell_type": "markdown",
   "metadata": {},
   "source": [
    "**Other environmental features**"
   ]
  },
  {
   "cell_type": "code",
   "execution_count": 169,
   "metadata": {
    "collapsed": false
   },
   "outputs": [
    {
     "name": "stderr",
     "output_type": "stream",
     "text": [
      "Warning message:\n",
      "In comparative.data(phy = data_tree, data = data_table, names.col = X.Id, : Data dropped in compiling comparative data object"
     ]
    }
   ],
   "source": [
    "data_table <-read.csv('../Data/Pruned_df_Domain_Bacteria_10_2017_WITH_PROTRAITS_HABITAT.csv', sep='\\t')\n",
    "data_tree <-read.tree('../Data/Pruned_tree_Domain_Bacteria_10_2017.newick')\n",
    "\n",
    "data_comparative <- comparative.data(phy = data_tree, data = data_table,\n",
    "                                    names.col = X.Id, vcv = FALSE, na.omit = FALSE, warn.dropped = TRUE)"
   ]
  },
  {
   "cell_type": "code",
   "execution_count": 170,
   "metadata": {
    "collapsed": false
   },
   "outputs": [
    {
     "data": {
      "text/plain": [
       "\n",
       "Call:\n",
       "pgls(formula = SD_summary_all_info ~ habitat, data = data_comparative, \n",
       "    lambda = \"ML\")\n",
       "\n",
       "Residuals:\n",
       "     Min       1Q   Median       3Q      Max \n",
       "-2.40807 -0.39541 -0.01356  0.32012  2.59317 \n",
       "\n",
       "Branch length transformations:\n",
       "\n",
       "kappa  [Fix]  : 1.000\n",
       "lambda [ ML]  : 0.989\n",
       "   lower bound : 0.000, p = < 2.22e-16\n",
       "   upper bound : 1.000, p = 0.00049903\n",
       "   95.0% CI   : (0.974, 0.997)\n",
       "delta  [Fix]  : 1.000\n",
       "\n",
       "Coefficients:\n",
       "             Estimate Std. Error t value  Pr(>|t|)    \n",
       "(Intercept) 1.2727295  0.1701654  7.4794 3.793e-13 ***\n",
       "habitathost 0.0059938  0.0530338  0.1130    0.9101    \n",
       "---\n",
       "Signif. codes:  0 ‘***’ 0.001 ‘**’ 0.01 ‘*’ 0.05 ‘.’ 0.1 ‘ ’ 1\n",
       "\n",
       "Residual standard error: 0.621 on 462 degrees of freedom\n",
       "Multiple R-squared: 2.765e-05,\tAdjusted R-squared: -0.002137 \n",
       "F-statistic: 0.01277 on 1 and 462 DF,  p-value: 0.9101 "
      ]
     },
     "execution_count": 170,
     "metadata": {},
     "output_type": "execute_result"
    }
   ],
   "source": [
    "model.pgls <- pgls(SD_summary_all_info ~ habitat,\n",
    "                   data = data_comparative, lambda='ML')\n",
    "summary(model.pgls)"
   ]
  },
  {
   "cell_type": "code",
   "execution_count": null,
   "metadata": {
    "collapsed": true
   },
   "outputs": [],
   "source": []
  },
  {
   "cell_type": "code",
   "execution_count": 171,
   "metadata": {
    "collapsed": false
   },
   "outputs": [
    {
     "name": "stderr",
     "output_type": "stream",
     "text": [
      "Warning message:\n",
      "In comparative.data(phy = data_tree, data = data_table, names.col = X.Id, : Data dropped in compiling comparative data object"
     ]
    }
   ],
   "source": [
    "data_table <-read.csv('../Data/Pruned_df_Domain_Bacteria_10_2017_WITH_PROTRAITS_PATHOGEN.csv', sep='\\t')\n",
    "data_tree <-read.tree('../Data/Pruned_tree_Domain_Bacteria_10_2017.newick')\n",
    "\n",
    "data_comparative <- comparative.data(phy = data_tree, data = data_table,\n",
    "                                    names.col = X.Id, vcv = FALSE, na.omit = FALSE, warn.dropped = TRUE)"
   ]
  },
  {
   "cell_type": "code",
   "execution_count": 172,
   "metadata": {
    "collapsed": false
   },
   "outputs": [
    {
     "data": {
      "text/plain": [
       "\n",
       "Call:\n",
       "pgls(formula = SD_summary_all_info ~ pathogen, data = data_comparative, \n",
       "    lambda = \"ML\")\n",
       "\n",
       "Residuals:\n",
       "     Min       1Q   Median       3Q      Max \n",
       "-2.51328 -0.32960 -0.01265  0.39848  2.18707 \n",
       "\n",
       "Branch length transformations:\n",
       "\n",
       "kappa  [Fix]  : 1.000\n",
       "lambda [ ML]  : 0.990\n",
       "   lower bound : 0.000, p = < 2.22e-16\n",
       "   upper bound : 1.000, p = 0.00089749\n",
       "   95.0% CI   : (0.978, 0.997)\n",
       "delta  [Fix]  : 1.000\n",
       "\n",
       "Coefficients:\n",
       "            Estimate Std. Error t value  Pr(>|t|)    \n",
       "(Intercept) 1.280283   0.169569  7.5502 2.096e-13 ***\n",
       "pathogenYes 0.029436   0.038233  0.7699    0.4417    \n",
       "---\n",
       "Signif. codes:  0 ‘***’ 0.001 ‘**’ 0.01 ‘*’ 0.05 ‘.’ 0.1 ‘ ’ 1\n",
       "\n",
       "Residual standard error: 0.6191 on 497 degrees of freedom\n",
       "Multiple R-squared: 0.001191,\tAdjusted R-squared: -0.0008184 \n",
       "F-statistic: 0.5928 on 1 and 497 DF,  p-value: 0.4417 "
      ]
     },
     "execution_count": 172,
     "metadata": {},
     "output_type": "execute_result"
    }
   ],
   "source": [
    "model.pgls <- pgls(SD_summary_all_info ~ pathogen,\n",
    "                   data = data_comparative, lambda='ML')\n",
    "summary(model.pgls)"
   ]
  },
  {
   "cell_type": "code",
   "execution_count": null,
   "metadata": {
    "collapsed": true
   },
   "outputs": [],
   "source": []
  },
  {
   "cell_type": "code",
   "execution_count": null,
   "metadata": {
    "collapsed": true
   },
   "outputs": [],
   "source": []
  },
  {
   "cell_type": "markdown",
   "metadata": {},
   "source": [
    "# No association between delta I and genome length or CDS number"
   ]
  },
  {
   "cell_type": "code",
   "execution_count": 173,
   "metadata": {
    "collapsed": true
   },
   "outputs": [],
   "source": [
    "data_table <-read.csv('../Data/Pruned_df_Domain_Bacteria_10_2017.csv', sep='\\t')\n",
    "data_tree <-read.tree('../Data/Pruned_tree_Domain_Bacteria_10_2017.newick')\n",
    "\n",
    "data_comparative <- comparative.data(phy = data_tree, data = data_table,\n",
    "                                    names.col = X.Id, vcv = FALSE, na.omit = FALSE, warn.dropped = TRUE)"
   ]
  },
  {
   "cell_type": "code",
   "execution_count": 175,
   "metadata": {
    "collapsed": false
   },
   "outputs": [
    {
     "data": {
      "text/plain": [
       "\n",
       "Call:\n",
       "pgls(formula = SD_summary_all_info ~ CDS_number, data = data_comparative, \n",
       "    lambda = \"ML\")\n",
       "\n",
       "Residuals:\n",
       "     Min       1Q   Median       3Q      Max \n",
       "-2.25840 -0.41737 -0.03949  0.32958  2.93526 \n",
       "\n",
       "Branch length transformations:\n",
       "\n",
       "kappa  [Fix]  : 1.000\n",
       "lambda [ ML]  : 0.992\n",
       "   lower bound : 0.000, p = < 2.22e-16\n",
       "   upper bound : 1.000, p = 0.0017542\n",
       "   95.0% CI   : (0.982, 0.998)\n",
       "delta  [Fix]  : 1.000\n",
       "\n",
       "Coefficients:\n",
       "              Estimate Std. Error t value  Pr(>|t|)    \n",
       "(Intercept) 1.0751e+00 1.9814e-01  5.4260 8.319e-08 ***\n",
       "CDS_number  6.3524e-06 1.0501e-05  0.6049    0.5455    \n",
       "---\n",
       "Signif. codes:  0 ‘***’ 0.001 ‘**’ 0.01 ‘*’ 0.05 ‘.’ 0.1 ‘ ’ 1\n",
       "\n",
       "Residual standard error: 0.6105 on 611 degrees of freedom\n",
       "Multiple R-squared: 0.0005985,\tAdjusted R-squared: -0.001037 \n",
       "F-statistic: 0.3659 on 1 and 611 DF,  p-value: 0.5455 "
      ]
     },
     "execution_count": 175,
     "metadata": {},
     "output_type": "execute_result"
    }
   ],
   "source": [
    "model.pgls <- pgls(SD_summary_all_info ~ CDS_number,\n",
    "                   data = data_comparative, lambda='ML')\n",
    "summary(model.pgls)"
   ]
  },
  {
   "cell_type": "code",
   "execution_count": 176,
   "metadata": {
    "collapsed": false
   },
   "outputs": [
    {
     "data": {
      "text/plain": [
       "\n",
       "Call:\n",
       "pgls(formula = SD_summary_all_info ~ Genome_length, data = data_comparative, \n",
       "    lambda = \"ML\")\n",
       "\n",
       "Residuals:\n",
       "     Min       1Q   Median       3Q      Max \n",
       "-2.25322 -0.41461 -0.03234  0.33097  2.94066 \n",
       "\n",
       "Branch length transformations:\n",
       "\n",
       "kappa  [Fix]  : 1.000\n",
       "lambda [ ML]  : 0.992\n",
       "   lower bound : 0.000, p = < 2.22e-16\n",
       "   upper bound : 1.000, p = 0.0016337\n",
       "   95.0% CI   : (0.982, 0.998)\n",
       "delta  [Fix]  : 1.000\n",
       "\n",
       "Coefficients:\n",
       "                Estimate Std. Error t value  Pr(>|t|)    \n",
       "(Intercept)   1.0855e+00 1.9791e-01  5.4845 6.077e-08 ***\n",
       "Genome_length 1.7181e-09 8.9371e-09  0.1922    0.8476    \n",
       "---\n",
       "Signif. codes:  0 ‘***’ 0.001 ‘**’ 0.01 ‘*’ 0.05 ‘.’ 0.1 ‘ ’ 1\n",
       "\n",
       "Residual standard error: 0.6103 on 611 degrees of freedom\n",
       "Multiple R-squared: 6.048e-05,\tAdjusted R-squared: -0.001576 \n",
       "F-statistic: 0.03696 on 1 and 611 DF,  p-value: 0.8476 "
      ]
     },
     "execution_count": 176,
     "metadata": {},
     "output_type": "execute_result"
    }
   ],
   "source": [
    "model.pgls <- pgls(SD_summary_all_info ~ Genome_length,\n",
    "                   data = data_comparative, lambda='ML')\n",
    "summary(model.pgls)"
   ]
  },
  {
   "cell_type": "code",
   "execution_count": null,
   "metadata": {
    "collapsed": true
   },
   "outputs": [],
   "source": []
  },
  {
   "cell_type": "code",
   "execution_count": null,
   "metadata": {
    "collapsed": true
   },
   "outputs": [],
   "source": []
  },
  {
   "cell_type": "markdown",
   "metadata": {},
   "source": [
    "# Scratch"
   ]
  },
  {
   "cell_type": "code",
   "execution_count": 178,
   "metadata": {
    "collapsed": false
   },
   "outputs": [
    {
     "data": {
      "text/plain": [
       "\n",
       "Call:\n",
       "pgls(formula = SD_summary_all_info ~ SD_summary_ribo_info, data = data_comparative, \n",
       "    lambda = \"ML\")\n",
       "\n",
       "Residuals:\n",
       "     Min       1Q   Median       3Q      Max \n",
       "-1.42185 -0.30897  0.00267  0.31792  1.60285 \n",
       "\n",
       "Branch length transformations:\n",
       "\n",
       "kappa  [Fix]  : 1.000\n",
       "lambda [ ML]  : 0.963\n",
       "   lower bound : 0.000, p = < 2.22e-16\n",
       "   upper bound : 1.000, p = 5.5689e-12\n",
       "   95.0% CI   : (0.936, 0.981)\n",
       "delta  [Fix]  : 1.000\n",
       "\n",
       "Coefficients:\n",
       "                     Estimate Std. Error t value  Pr(>|t|)    \n",
       "(Intercept)          0.417030   0.158016  2.6392  0.008523 ** \n",
       "SD_summary_ribo_info 0.326044   0.020361 16.0135 < 2.2e-16 ***\n",
       "---\n",
       "Signif. codes:  0 ‘***’ 0.001 ‘**’ 0.01 ‘*’ 0.05 ‘.’ 0.1 ‘ ’ 1\n",
       "\n",
       "Residual standard error: 0.4783 on 611 degrees of freedom\n",
       "Multiple R-squared: 0.2956,\tAdjusted R-squared: 0.2945 \n",
       "F-statistic: 256.4 on 1 and 611 DF,  p-value: < 2.2e-16 "
      ]
     },
     "execution_count": 178,
     "metadata": {},
     "output_type": "execute_result"
    }
   ],
   "source": [
    "model.pgls <- pgls(SD_summary_all_info ~ SD_summary_ribo_info,\n",
    "                   data = data_comparative, lambda='ML')\n",
    "summary(model.pgls)"
   ]
  },
  {
   "cell_type": "code",
   "execution_count": null,
   "metadata": {
    "collapsed": true
   },
   "outputs": [],
   "source": []
  }
 ],
 "metadata": {
  "kernelspec": {
   "display_name": "R",
   "language": "R",
   "name": "ir"
  },
  "language_info": {
   "codemirror_mode": "r",
   "file_extension": ".r",
   "mimetype": "text/x-r-source",
   "name": "R",
   "pygments_lexer": "r",
   "version": "3.2.3"
  },
  "toc": {
   "colors": {
    "hover_highlight": "#DAA520",
    "navigate_num": "#000000",
    "navigate_text": "#333333",
    "running_highlight": "#FF0000",
    "selected_highlight": "#FFD700",
    "sidebar_border": "#EEEEEE",
    "wrapper_background": "#FFFFFF"
   },
   "moveMenuLeft": true,
   "nav_menu": {
    "height": "48px",
    "width": "252px"
   },
   "navigate_menu": true,
   "number_sections": true,
   "sideBar": true,
   "threshold": 4,
   "toc_cell": false,
   "toc_section_display": "block",
   "toc_window_display": false,
   "widenNotebook": false
  }
 },
 "nbformat": 4,
 "nbformat_minor": 0
}
