{
 "cells": [
  {
   "cell_type": "code",
   "execution_count": 1,
   "metadata": {
    "collapsed": true
   },
   "outputs": [],
   "source": [
    "%matplotlib inline"
   ]
  },
  {
   "cell_type": "code",
   "execution_count": 2,
   "metadata": {
    "collapsed": true
   },
   "outputs": [],
   "source": [
    "import numpy as np\n",
    "from scipy import stats\n",
    "\n",
    "from matplotlib import pyplot as plt"
   ]
  },
  {
   "cell_type": "code",
   "execution_count": 3,
   "metadata": {
    "collapsed": true
   },
   "outputs": [],
   "source": [
    "nts = ['A', 'T', 'G', 'C']\n",
    "nseqs = 5000 ###For each dataset we'll simulate 5k sequences, lower number here will be noisier\n",
    "length_of_each_seq = 16 ###Keep this number reasonable or it'll take a while to run. I use 16 in the paper\n",
    "randomizations = 20 ###This data is so clean there is no point of randomizing a ton except to heat your house"
   ]
  },
  {
   "cell_type": "code",
   "execution_count": 4,
   "metadata": {
    "collapsed": true
   },
   "outputs": [],
   "source": [
    "def get_info_theory_init(sequence_dict, randomize=False):\n",
    "    positional_entropies = []\n",
    "    matrix = np.array([list(i) for i in sequence_dict.values()])\n",
    "    if randomize:\n",
    "        for i in matrix:\n",
    "            np.random.shuffle(i)\n",
    "    seqs, lengths = np.shape(matrix)\n",
    "    bool_A = matrix == 'A'\n",
    "    bool_T = matrix == 'T'\n",
    "    bool_G = matrix == 'G'\n",
    "    bool_C = matrix == 'C'\n",
    "\n",
    "    A_counts = bool_A.sum(axis=0)\n",
    "    T_counts = bool_T.sum(axis=0)\n",
    "    G_counts = bool_G.sum(axis=0)\n",
    "    C_counts = bool_C.sum(axis=0)\n",
    "    p_A = A_counts/float(seqs)\n",
    "    p_T = T_counts/float(seqs)\n",
    "    p_G = G_counts/float(seqs)\n",
    "    p_C = C_counts/float(seqs)\n",
    "    positional_entropies = np.log2(4) - stats.entropy([p_A, p_T, p_G, p_C], base=2)\n",
    "    return positional_entropies\n",
    "\n",
    "def get_delta_I(sequence_dict, randomizations=20):\n",
    "    positional_data = get_info_theory_init(sequence_dict)\n",
    "    I_actual = np.sum(positional_data)\n",
    "    \n",
    "    randomized_list = []\n",
    "    for i in range(randomizations):\n",
    "        positions_random = get_info_theory_init(utrs, randomize=True)\n",
    "        randomized_list.append(np.sum(positions_random))\n",
    "    return I_actual, I_actual - np.mean(randomized_list)"
   ]
  },
  {
   "cell_type": "markdown",
   "metadata": {},
   "source": [
    "# Random UTRs\n",
    "\n",
    "Should produce values of roughly zero"
   ]
  },
  {
   "cell_type": "code",
   "execution_count": 5,
   "metadata": {
    "collapsed": false
   },
   "outputs": [
    {
     "data": {
      "text/plain": [
       "(5000, 16)"
      ]
     },
     "execution_count": 5,
     "metadata": {},
     "output_type": "execute_result"
    }
   ],
   "source": [
    "utrs = {}\n",
    "for i in range(nseqs):\n",
    "    utrs[i] = list(np.random.choice(nts, size=length_of_each_seq))\n",
    "len(utrs), len(utrs[0])"
   ]
  },
  {
   "cell_type": "code",
   "execution_count": 6,
   "metadata": {
    "collapsed": false
   },
   "outputs": [
    {
     "name": "stdout",
     "output_type": "stream",
     "text": [
      "['G', 'C', 'A', 'G', 'G', 'A', 'C', 'A', 'T', 'A', 'G', 'A', 'C', 'G', 'G', 'T']\n"
     ]
    }
   ],
   "source": [
    "print(utrs[0])"
   ]
  },
  {
   "cell_type": "code",
   "execution_count": 7,
   "metadata": {
    "collapsed": false
   },
   "outputs": [],
   "source": [
    "I_actual, delta_I = get_delta_I(utrs, randomizations=randomizations)"
   ]
  },
  {
   "cell_type": "code",
   "execution_count": 8,
   "metadata": {
    "collapsed": false
   },
   "outputs": [
    {
     "name": "stdout",
     "output_type": "stream",
     "text": [
      "0.0077484259152 0.0010932759479\n"
     ]
    }
   ],
   "source": [
    "print(I_actual, delta_I)"
   ]
  },
  {
   "cell_type": "markdown",
   "metadata": {},
   "source": [
    "# Common xmer, defined position\n",
    "Expected value of I is 2 x length of the xmer"
   ]
  },
  {
   "cell_type": "code",
   "execution_count": 9,
   "metadata": {
    "collapsed": false
   },
   "outputs": [
    {
     "data": {
      "text/plain": [
       "(5000, 16)"
      ]
     },
     "execution_count": 9,
     "metadata": {},
     "output_type": "execute_result"
    }
   ],
   "source": [
    "xmer = 'AGGAGG'\n",
    "utrs = {}\n",
    "for i in range(nseqs):\n",
    "    utrs[i] = list(np.random.choice(nts, size=length_of_each_seq-len(xmer))) + list(xmer)\n",
    "len(utrs), len(utrs[0])"
   ]
  },
  {
   "cell_type": "code",
   "execution_count": 10,
   "metadata": {
    "collapsed": false
   },
   "outputs": [],
   "source": [
    "I_actual, delta_I = get_delta_I(utrs, randomizations=randomizations)"
   ]
  },
  {
   "cell_type": "code",
   "execution_count": 11,
   "metadata": {
    "collapsed": false
   },
   "outputs": [
    {
     "name": "stdout",
     "output_type": "stream",
     "text": [
      "12.0042822394 10.0908415198\n"
     ]
    }
   ],
   "source": [
    "print(I_actual, delta_I)"
   ]
  },
  {
   "cell_type": "markdown",
   "metadata": {},
   "source": [
    "# All things equal, the longer the xmer the stronger the deltaI\n",
    "As above, expected values of I are 2 x length of the xmer. Expect roughly linear response"
   ]
  },
  {
   "cell_type": "code",
   "execution_count": 30,
   "metadata": {
    "collapsed": false
   },
   "outputs": [
    {
     "name": "stdout",
     "output_type": "stream",
     "text": [
      "5000 16\n",
      "5000 16\n",
      "5000 16\n",
      "5000 16\n",
      "5000 16\n",
      "5000 16\n",
      "5000 16\n"
     ]
    }
   ],
   "source": [
    "xmers = ['AGG', 'AGGA', 'AGGAG', 'AGGAGG', 'AAGGAGG', 'AAGGAGGT', 'AAAGGAGGT']\n",
    "delta_Ivals = []\n",
    "for xmer in xmers:\n",
    "    utrs = {}\n",
    "    for i in range(nseqs):\n",
    "        utrs[i] = list(np.random.choice(nts, size=length_of_each_seq-len(xmer))) + list(xmer)\n",
    "    print(len(utrs), len(utrs[0]))\n",
    "    I_actual, delta_I = get_delta_I(utrs, randomizations=randomizations)\n",
    "    delta_Ivals.append(delta_I)"
   ]
  },
  {
   "cell_type": "code",
   "execution_count": 35,
   "metadata": {
    "collapsed": false
   },
   "outputs": [
    {
     "data": {
      "image/png": "[encoded data removed]",
      "text/plain": [
       "<matplotlib.figure.Figure at 0x109004908>"
      ]
     },
     "metadata": {},
     "output_type": "display_data"
    }
   ],
   "source": [
    "fig, ax = plt.subplots(figsize=(3,2.7))\n",
    "ax.plot(delta_Ivals, marker='s')\n",
    "ax.set_xticks(range(len(delta_Ivals)))\n",
    "ax.set_xticklabels(xmers, rotation=45)\n",
    "ax.set_ylabel('$\\Delta I$')\n",
    "ax.set_xlabel('Simulated motif')\n",
    "plt.tight_layout()\n",
    "plt.savefig('../Results/Figures/simulated_motifs.pdf')"
   ]
  },
  {
   "cell_type": "code",
   "execution_count": null,
   "metadata": {
    "collapsed": true
   },
   "outputs": [],
   "source": []
  },
  {
   "cell_type": "markdown",
   "metadata": {},
   "source": [
    "# All things equal, the more sequences that contain the motif the stronger the deltaI\n",
    "\n",
    "Won't produce a linear result. But such is the nature of entropy"
   ]
  },
  {
   "cell_type": "code",
   "execution_count": 36,
   "metadata": {
    "collapsed": false
   },
   "outputs": [
    {
     "name": "stdout",
     "output_type": "stream",
     "text": [
      "0.0 5000 16\n",
      "0.1 5000 16\n",
      "0.2 5000 16\n",
      "0.3 5000 16\n",
      "0.4 5000 16\n",
      "0.5 5000 16\n",
      "0.6 5000 16\n",
      "0.7 5000 16\n",
      "0.8 5000 16\n",
      "0.9 5000 16\n",
      "1.0 5000 16\n",
      "####################\n",
      "0.0 5000 16\n",
      "0.1 5000 16\n",
      "0.2 5000 16\n",
      "0.3 5000 16\n",
      "0.4 5000 16\n",
      "0.5 5000 16\n",
      "0.6 5000 16\n",
      "0.7 5000 16\n",
      "0.8 5000 16\n",
      "0.9 5000 16\n",
      "1.0 5000 16\n"
     ]
    }
   ],
   "source": [
    "xmer1 = 'AGGAGG'\n",
    "delta_Ivals_v1 = []\n",
    "for prob in np.arange(0, 1.1, 0.1):\n",
    "    utrs = {}\n",
    "    for i in range(nseqs):\n",
    "        if np.random.uniform(0, 1) < prob:\n",
    "            utrs[i] = list(np.random.choice(nts, size=length_of_each_seq-len(xmer1))) + list(xmer1)\n",
    "        else:\n",
    "            utrs[i] = list(np.random.choice(nts, size=length_of_each_seq))\n",
    "    print(prob, len(utrs), len(utrs[0]))\n",
    "    I_actual, delta_I = get_delta_I(utrs, randomizations=randomizations)\n",
    "    delta_Ivals_v1.append(delta_I)\n",
    "print('####################')\n",
    "xmer2 = 'AGGA'\n",
    "delta_Ivals_v2 = []\n",
    "for prob in np.arange(0, 1.1, 0.1):\n",
    "    utrs = {}\n",
    "    for i in range(nseqs):\n",
    "        if np.random.uniform(0, 1) < prob:\n",
    "            utrs[i] = list(np.random.choice(nts, size=length_of_each_seq-len(xmer2))) + list(xmer2)\n",
    "        else:\n",
    "            utrs[i] = list(np.random.choice(nts, size=length_of_each_seq))\n",
    "    print(prob, len(utrs), len(utrs[0]))\n",
    "    I_actual, delta_I = get_delta_I(utrs, randomizations=randomizations)\n",
    "    delta_Ivals_v2.append(delta_I)"
   ]
  },
  {
   "cell_type": "code",
   "execution_count": 41,
   "metadata": {
    "collapsed": false
   },
   "outputs": [
    {
     "data": {
      "image/png": "[encoded data removed]",
      "text/plain": [
       "<matplotlib.figure.Figure at 0x109180a90>"
      ]
     },
     "metadata": {},
     "output_type": "display_data"
    }
   ],
   "source": [
    "fig, ax = plt.subplots(figsize=(3,2.4))\n",
    "ax.plot(np.arange(0,1.1,0.1), delta_Ivals_v1, marker='s', label=xmer1)\n",
    "ax.plot(np.arange(0,1.1,0.1), delta_Ivals_v2, marker='s', label=xmer2)\n",
    "ax.set_xticks(np.arange(0,1.1,0.2))\n",
    "ax.set_ylabel('$\\Delta I$')\n",
    "ax.set_xlabel('Probability of sequence containing\\nindicated motif')\n",
    "legend = plt.legend()\n",
    "plt.tight_layout()\n",
    "plt.savefig('../Results/Figures/simulated_motif_probabilities.pdf')"
   ]
  },
  {
   "cell_type": "code",
   "execution_count": null,
   "metadata": {
    "collapsed": true
   },
   "outputs": [],
   "source": []
  },
  {
   "cell_type": "markdown",
   "metadata": {},
   "source": [
    "# All things equal, the more positionally constrained the motif the stronger the deltaI\n",
    "\n",
    "It's not immediately clear what expected output function will look like, but more positionally constrained data will have higher values. This is a subtle and I believe important advantage of deltaI over traditional methods. It is known that there is an optimum spacing between SD sites and the start codon but metrics that allow any a SD sequence to occur within *any* window (without punishing non-optimal spacing) will be biased. The best method should provide the highest value for having the most sequences occur in the most positionally constrained manner.\n",
    "\n",
    "What I am doing here is saying that every sequence will have the given motif, but where it occurs will vary according to a uniform distribution. I'm progressively tightening that uniform distribution so at first the sequence can occur anywhere and by the end it can only occur at one point and should have the expected value of 2 x the length of the motif as before"
   ]
  },
  {
   "cell_type": "code",
   "execution_count": 42,
   "metadata": {
    "collapsed": false
   },
   "outputs": [
    {
     "name": "stdout",
     "output_type": "stream",
     "text": [
      "0 5000 16\n",
      "1 5000 16\n",
      "2 5000 16\n",
      "3 5000 16\n",
      "4 5000 16\n",
      "5 5000 16\n",
      "6 5000 16\n",
      "7 5000 16\n",
      "8 5000 16\n",
      "9 5000 16\n",
      "10 5000 16\n",
      "####################\n",
      "0 5000 16\n",
      "1 5000 16\n",
      "2 5000 16\n",
      "3 5000 16\n",
      "4 5000 16\n",
      "5 5000 16\n",
      "6 5000 16\n",
      "7 5000 16\n",
      "8 5000 16\n",
      "9 5000 16\n",
      "10 5000 16\n",
      "11 5000 16\n",
      "12 5000 16\n"
     ]
    }
   ],
   "source": [
    "xmer1 = 'AGGAGG'\n",
    "delta_Ivals_v1 = []\n",
    "for position in range(0, length_of_each_seq+1-len(xmer1)):\n",
    "    utrs = {}\n",
    "    for i in range(nseqs):\n",
    "        l_counts = int(np.floor(np.random.uniform(position, length_of_each_seq+1-len(xmer1))))\n",
    "        r_counts = length_of_each_seq - l_counts - len(xmer1)\n",
    "        seq = list(np.random.choice(nts, size=l_counts)) + list(xmer1) + list(np.random.choice(nts, size=r_counts))\n",
    "        utrs[i] = seq\n",
    "    print(position, len(utrs), len(utrs[0]))\n",
    "    I_actual, delta_I = get_delta_I(utrs, randomizations=randomizations)\n",
    "    delta_Ivals_v1.append(delta_I)\n",
    "print('####################')\n",
    "xmer2 = 'AGGA'\n",
    "delta_Ivals_v2 = []\n",
    "for position in range(0, length_of_each_seq+1-len(xmer2)):\n",
    "    utrs = {}\n",
    "    for i in range(nseqs):\n",
    "        l_counts = int(np.floor(np.random.uniform(position, length_of_each_seq+1-len(xmer2))))\n",
    "        r_counts = length_of_each_seq - l_counts - len(xmer2)\n",
    "        seq = list(np.random.choice(nts, size=l_counts)) + list(xmer2) + list(np.random.choice(nts, size=r_counts))\n",
    "        utrs[i] = seq\n",
    "    print(position, len(utrs), len(utrs[0]))\n",
    "    I_actual, delta_I = get_delta_I(utrs, randomizations=randomizations)\n",
    "    delta_Ivals_v2.append(delta_I)"
   ]
  },
  {
   "cell_type": "code",
   "execution_count": 45,
   "metadata": {
    "collapsed": false
   },
   "outputs": [
    {
     "data": {
      "image/png": "[encoded data removed]",
      "text/plain": [
       "<matplotlib.figure.Figure at 0x1089c5780>"
      ]
     },
     "metadata": {},
     "output_type": "display_data"
    }
   ],
   "source": [
    "fig, ax = plt.subplots(figsize=(3,2.5))\n",
    "ax.plot(range(len(xmer1)-len(xmer2), length_of_each_seq+1-len(xmer1)+len(xmer1)-len(xmer2)), delta_Ivals_v1, marker='s', label=xmer1)\n",
    "ax.plot(range(0, length_of_each_seq+1-len(xmer2)), delta_Ivals_v2, marker='s', label=xmer2)\n",
    "ax.set_xticks(range(0, length_of_each_seq+1-len(xmer2)))\n",
    "ax.set_xticklabels([length_of_each_seq+1-len(xmer2)-i for i in range(0, length_of_each_seq+1-len(xmer2))], rotation=45)\n",
    "ax.set_ylabel('$\\Delta I$')\n",
    "ax.set_xlabel('Number of locations that\\nindicated motif can occur'.format(xmer))\n",
    "legend = plt.legend()\n",
    "plt.tight_layout()\n",
    "plt.savefig('../Results/Figures/simulated_positional_constraint.pdf')"
   ]
  },
  {
   "cell_type": "code",
   "execution_count": null,
   "metadata": {
    "collapsed": true
   },
   "outputs": [],
   "source": []
  },
  {
   "cell_type": "code",
   "execution_count": null,
   "metadata": {
    "collapsed": true
   },
   "outputs": [],
   "source": []
  }
 ],
 "metadata": {
  "kernelspec": {
   "display_name": "Python 3",
   "language": "python",
   "name": "python3"
  },
  "language_info": {
   "codemirror_mode": {
    "name": "ipython",
    "version": 3
   },
   "file_extension": ".py",
   "mimetype": "text/x-python",
   "name": "python",
   "nbconvert_exporter": "python",
   "pygments_lexer": "ipython3",
   "version": "3.4.5"
  },
  "toc": {
   "colors": {
    "hover_highlight": "#DAA520",
    "navigate_num": "#000000",
    "navigate_text": "#333333",
    "running_highlight": "#FF0000",
    "selected_highlight": "#FFD700",
    "sidebar_border": "#EEEEEE",
    "wrapper_background": "#FFFFFF"
   },
   "moveMenuLeft": true,
   "nav_menu": {
    "height": "102px",
    "width": "252px"
   },
   "navigate_menu": true,
   "number_sections": true,
   "sideBar": true,
   "threshold": 4,
   "toc_cell": false,
   "toc_section_display": "block",
   "toc_window_display": false,
   "widenNotebook": false
  }
 },
 "nbformat": 4,
 "nbformat_minor": 0
}
